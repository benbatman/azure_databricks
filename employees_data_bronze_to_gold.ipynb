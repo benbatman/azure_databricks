{
 "cells": [
  {
   "cell_type": "code",
   "execution_count": 0,
   "metadata": {
    "application/vnd.databricks.v1+cell": {
     "cellMetadata": {
      "byteLimit": 2048000,
      "rowLimit": 10000
     },
     "inputWidgets": {},
     "nuid": "a0ee2032-89ba-43b5-8c45-c0ee1d3bcf95",
     "showTitle": false,
     "title": ""
    }
   },
   "outputs": [
    {
     "output_type": "display_data",
     "data": {
      "text/html": [
       "<style scoped>\n  .ansiout {\n    display: block;\n    unicode-bidi: embed;\n    white-space: pre-wrap;\n    word-wrap: break-word;\n    word-break: break-all;\n    font-family: \"Source Code Pro\", \"Menlo\", monospace;;\n    font-size: 13px;\n    color: #555;\n    margin-left: 4px;\n    line-height: 19px;\n  }\n</style>\n<div class=\"ansiout\"></div>"
      ]
     },
     "metadata": {
      "application/vnd.databricks.v1+output": {
       "addedWidgets": {},
       "arguments": {},
       "data": "<div class=\"ansiout\"></div>",
       "datasetInfos": [],
       "metadata": {},
       "removedWidgets": [],
       "type": "html"
      }
     },
     "output_type": "display_data"
    }
   ],
   "source": [
    "container_name = 'employees'\n",
    "account_name = \"datalake74\"\n",
    "mount_point = '/mnt/employees'"
   ]
  },
  {
   "cell_type": "code",
   "execution_count": 0,
   "metadata": {
    "application/vnd.databricks.v1+cell": {
     "cellMetadata": {
      "byteLimit": 2048000,
      "rowLimit": 10000
     },
     "inputWidgets": {},
     "nuid": "8cdc678a-f429-4e15-b068-b9d829c41dac",
     "showTitle": false,
     "title": ""
    }
   },
   "outputs": [
    {
     "output_type": "display_data",
     "data": {
      "text/html": [
       "<style scoped>\n  .ansiout {\n    display: block;\n    unicode-bidi: embed;\n    white-space: pre-wrap;\n    word-wrap: break-word;\n    word-break: break-all;\n    font-family: \"Source Code Pro\", \"Menlo\", monospace;;\n    font-size: 13px;\n    color: #555;\n    margin-left: 4px;\n    line-height: 19px;\n  }\n</style>\n<div class=\"ansiout\"></div>"
      ]
     },
     "metadata": {
      "application/vnd.databricks.v1+output": {
       "addedWidgets": {},
       "arguments": {},
       "data": "<div class=\"ansiout\"></div>",
       "datasetInfos": [],
       "metadata": {},
       "removedWidgets": [],
       "type": "html"
      }
     },
     "output_type": "display_data"
    }
   ],
   "source": [
    "application_id = dbutils.secrets.get(scope=\"databricks-assignment-2\", key='application-id')\n",
    "tenant_id = dbutils.secrets.get(scope=\"databricks-assignment-2\", key='tenant-id')\n",
    "secret = dbutils.secrets.get(scope=\"databricks-assignment-2\", key=\"secret1\")"
   ]
  },
  {
   "cell_type": "code",
   "execution_count": 0,
   "metadata": {
    "application/vnd.databricks.v1+cell": {
     "cellMetadata": {
      "byteLimit": 2048000,
      "rowLimit": 10000
     },
     "inputWidgets": {},
     "nuid": "5a4fdc60-e971-43f3-9b79-f8e47b570013",
     "showTitle": false,
     "title": ""
    }
   },
   "outputs": [
    {
     "output_type": "display_data",
     "data": {
      "text/html": [
       "<style scoped>\n  .ansiout {\n    display: block;\n    unicode-bidi: embed;\n    white-space: pre-wrap;\n    word-wrap: break-word;\n    word-break: break-all;\n    font-family: \"Source Code Pro\", \"Menlo\", monospace;;\n    font-size: 13px;\n    color: #555;\n    margin-left: 4px;\n    line-height: 19px;\n  }\n</style>\n<div class=\"ansiout\">E\nv\n4\n8\nQ\n~\np\ns\nj\n7\ni\nq\nI\ny\n1\ng\n5\nV\nO\nd\nZ\n_\n0\nc\nQ\nd\nt\nG\nn\nv\n6\nU\n~\na\nc\n1\nD\nb\nA\nh\n</div>"
      ]
     },
     "metadata": {
      "application/vnd.databricks.v1+output": {
       "addedWidgets": {},
       "arguments": {},
       "data": "<div class=\"ansiout\">E\nv\n4\n8\nQ\n~\np\ns\nj\n7\ni\nq\nI\ny\n1\ng\n5\nV\nO\nd\nZ\n_\n0\nc\nQ\nd\nt\nG\nn\nv\n6\nU\n~\na\nc\n1\nD\nb\nA\nh\n</div>",
       "datasetInfos": [],
       "metadata": {},
       "removedWidgets": [],
       "type": "html"
      }
     },
     "output_type": "display_data"
    }
   ],
   "source": [
    "for i in dbutils.secrets.get(scope='databricks-assignment-2', key='secret1'):\n",
    "    print(i)"
   ]
  },
  {
   "cell_type": "code",
   "execution_count": 0,
   "metadata": {
    "application/vnd.databricks.v1+cell": {
     "cellMetadata": {
      "byteLimit": 2048000,
      "rowLimit": 10000
     },
     "inputWidgets": {},
     "nuid": "6798215f-d2bb-40be-8d2e-cb67eb8df8a1",
     "showTitle": false,
     "title": ""
    }
   },
   "outputs": [
    {
     "output_type": "display_data",
     "data": {
      "text/html": [
       "<style scoped>\n  .ansiout {\n    display: block;\n    unicode-bidi: embed;\n    white-space: pre-wrap;\n    word-wrap: break-word;\n    word-break: break-all;\n    font-family: \"Source Code Pro\", \"Menlo\", monospace;;\n    font-size: 13px;\n    color: #555;\n    margin-left: 4px;\n    line-height: 19px;\n  }\n</style>\n<div class=\"ansiout\">/mnt/employees/bronze has been unmounted.\nOut[9]: True</div>"
      ]
     },
     "metadata": {
      "application/vnd.databricks.v1+output": {
       "addedWidgets": {},
       "arguments": {},
       "data": "<div class=\"ansiout\">/mnt/employees/bronze has been unmounted.\nOut[9]: True</div>",
       "datasetInfos": [],
       "metadata": {},
       "removedWidgets": [],
       "type": "html"
      }
     },
     "output_type": "display_data"
    }
   ],
   "source": [
    "dbutils.fs.unmount('/mnt/employees/bronze')"
   ]
  },
  {
   "cell_type": "code",
   "execution_count": 0,
   "metadata": {
    "application/vnd.databricks.v1+cell": {
     "cellMetadata": {
      "byteLimit": 2048000,
      "rowLimit": 10000
     },
     "inputWidgets": {},
     "nuid": "1e4f7dd3-c7eb-42df-867f-c3a84c0458a0",
     "showTitle": false,
     "title": ""
    }
   },
   "outputs": [
    {
     "output_type": "display_data",
     "data": {
      "text/html": [
       "<style scoped>\n  .ansiout {\n    display: block;\n    unicode-bidi: embed;\n    white-space: pre-wrap;\n    word-wrap: break-word;\n    word-break: break-all;\n    font-family: \"Source Code Pro\", \"Menlo\", monospace;;\n    font-size: 13px;\n    color: #555;\n    margin-left: 4px;\n    line-height: 19px;\n  }\n</style>\n<div class=\"ansiout\">Out[12]: True</div>"
      ]
     },
     "metadata": {
      "application/vnd.databricks.v1+output": {
       "addedWidgets": {},
       "arguments": {},
       "data": "<div class=\"ansiout\">Out[12]: True</div>",
       "datasetInfos": [],
       "metadata": {},
       "removedWidgets": [],
       "type": "html"
      }
     },
     "output_type": "display_data"
    }
   ],
   "source": [
    "configs = {\"fs.azure.account.auth.type\": \"OAuth\",\n",
    "          \"fs.azure.account.oauth.provider.type\": \"org.apache.hadoop.fs.azurebfs.oauth2.ClientCredsTokenProvider\",\n",
    "          \"fs.azure.account.oauth2.client.id\": application_id,\n",
    "          \"fs.azure.account.oauth2.client.secret\": secret,\n",
    "          \"fs.azure.account.oauth2.client.endpoint\": f\"https://login.microsoftonline.com/{tenant_id}/oauth2/token\"}\n",
    "\n",
    "# Optionally, you can add <directory-name> to the source URI of your mount point.\n",
    "dbutils.fs.mount(\n",
    "  source = f\"abfss://{container_name}@{account_name}.dfs.core.windows.net/\",\n",
    "  mount_point = mount_point,\n",
    "  extra_configs = configs)"
   ]
  },
  {
   "cell_type": "code",
   "execution_count": 0,
   "metadata": {
    "application/vnd.databricks.v1+cell": {
     "cellMetadata": {
      "byteLimit": 2048000,
      "rowLimit": 10000
     },
     "inputWidgets": {},
     "nuid": "e67fdd9b-98df-4d6e-8cc6-860d2fb02876",
     "showTitle": false,
     "title": ""
    }
   },
   "outputs": [
    {
     "output_type": "display_data",
     "data": {
      "text/html": [
       "<style scoped>\n  .table-result-container {\n    max-height: 300px;\n    overflow: auto;\n  }\n  table, th, td {\n    border: 1px solid black;\n    border-collapse: collapse;\n  }\n  th, td {\n    padding: 5px;\n  }\n  th {\n    text-align: left;\n  }\n</style><div class='table-result-container'><table class='table-result'><thead style='background-color: white'><tr><th>mountPoint</th><th>source</th><th>encryptionType</th></tr></thead><tbody><tr><td>/mnt/employees</td><td>abfss://employees@datalake74.dfs.core.windows.net/</td><td></td></tr><tr><td>/databricks-datasets</td><td>databricks-datasets</td><td></td></tr><tr><td>/mnt/gold</td><td>abfss://silver@datalake74.dfs.core.windows.net/</td><td></td></tr><tr><td>/mnt/silver</td><td>abfss://silver@datalake74.dfs.core.windows.net/</td><td></td></tr><tr><td>/databricks/mlflow-tracking</td><td>databricks/mlflow-tracking</td><td></td></tr><tr><td>/databricks-results</td><td>databricks-results</td><td></td></tr><tr><td>/databricks/mlflow-registry</td><td>databricks/mlflow-registry</td><td></td></tr><tr><td>/mnt/bronze</td><td>abfss://bronze@datalake74.dfs.core.windows.net/</td><td></td></tr><tr><td>/</td><td>DatabricksRoot</td><td></td></tr></tbody></table></div>"
      ]
     },
     "metadata": {
      "application/vnd.databricks.v1+output": {
       "addedWidgets": {},
       "aggData": [],
       "aggError": "",
       "aggOverflow": false,
       "aggSchema": [],
       "aggSeriesLimitReached": false,
       "aggType": "",
       "arguments": {},
       "columnCustomDisplayInfos": {},
       "data": [
        [
         "/mnt/employees",
         "abfss://employees@datalake74.dfs.core.windows.net/",
         ""
        ],
        [
         "/databricks-datasets",
         "databricks-datasets",
         ""
        ],
        [
         "/mnt/gold",
         "abfss://silver@datalake74.dfs.core.windows.net/",
         ""
        ],
        [
         "/mnt/silver",
         "abfss://silver@datalake74.dfs.core.windows.net/",
         ""
        ],
        [
         "/databricks/mlflow-tracking",
         "databricks/mlflow-tracking",
         ""
        ],
        [
         "/databricks-results",
         "databricks-results",
         ""
        ],
        [
         "/databricks/mlflow-registry",
         "databricks/mlflow-registry",
         ""
        ],
        [
         "/mnt/bronze",
         "abfss://bronze@datalake74.dfs.core.windows.net/",
         ""
        ],
        [
         "/",
         "DatabricksRoot",
         ""
        ]
       ],
       "datasetInfos": [],
       "dbfsResultPath": null,
       "isJsonSchema": true,
       "metadata": {},
       "overflow": false,
       "plotOptions": {
        "customPlotOptions": {},
        "displayType": "table",
        "pivotAggregation": null,
        "pivotColumns": null,
        "xColumns": null,
        "yColumns": null
       },
       "removedWidgets": [],
       "schema": [
        {
         "metadata": "{}",
         "name": "mountPoint",
         "type": "\"string\""
        },
        {
         "metadata": "{}",
         "name": "source",
         "type": "\"string\""
        },
        {
         "metadata": "{}",
         "name": "encryptionType",
         "type": "\"string\""
        }
       ],
       "type": "table"
      }
     },
     "output_type": "display_data"
    }
   ],
   "source": [
    "display(dbutils.fs.mounts())"
   ]
  },
  {
   "cell_type": "code",
   "execution_count": 0,
   "metadata": {
    "application/vnd.databricks.v1+cell": {
     "cellMetadata": {
      "byteLimit": 2048000,
      "rowLimit": 10000
     },
     "inputWidgets": {},
     "nuid": "c4fe82b5-beaf-43aa-99ee-25981713f6bd",
     "showTitle": false,
     "title": ""
    }
   },
   "outputs": [
    {
     "output_type": "display_data",
     "data": {
      "text/html": [
       "<style scoped>\n  .ansiout {\n    display: block;\n    unicode-bidi: embed;\n    white-space: pre-wrap;\n    word-wrap: break-word;\n    word-break: break-all;\n    font-family: \"Source Code Pro\", \"Menlo\", monospace;;\n    font-size: 13px;\n    color: #555;\n    margin-left: 4px;\n    line-height: 19px;\n  }\n</style>\n<div class=\"ansiout\"></div>"
      ]
     },
     "metadata": {
      "application/vnd.databricks.v1+output": {
       "addedWidgets": {},
       "arguments": {},
       "data": "<div class=\"ansiout\"></div>",
       "datasetInfos": [],
       "metadata": {},
       "removedWidgets": [],
       "type": "html"
      }
     },
     "output_type": "display_data"
    }
   ],
   "source": [
    "employees_path = '/mnt/employees/bronze/employees.csv'\n",
    "departments_path = '/mnt/employees/bronze/departments.csv'\n",
    "countries_path = '/mnt/employees/bronze/countries.csv'\n",
    "locations_path = '/mnt/employees/bronze/locations.csv'"
   ]
  },
  {
   "cell_type": "code",
   "execution_count": 0,
   "metadata": {
    "application/vnd.databricks.v1+cell": {
     "cellMetadata": {
      "byteLimit": 2048000,
      "rowLimit": 10000
     },
     "inputWidgets": {},
     "nuid": "8834c2df-0e4f-48e3-8e17-4cf69254290c",
     "showTitle": false,
     "title": ""
    }
   },
   "outputs": [
    {
     "output_type": "display_data",
     "data": {
      "text/html": [
       "<style scoped>\n  .ansiout {\n    display: block;\n    unicode-bidi: embed;\n    white-space: pre-wrap;\n    word-wrap: break-word;\n    word-break: break-all;\n    font-family: \"Source Code Pro\", \"Menlo\", monospace;;\n    font-size: 13px;\n    color: #555;\n    margin-left: 4px;\n    line-height: 19px;\n  }\n</style>\n<div class=\"ansiout\"></div>"
      ]
     },
     "metadata": {
      "application/vnd.databricks.v1+output": {
       "addedWidgets": {},
       "arguments": {},
       "data": "<div class=\"ansiout\"></div>",
       "datasetInfos": [],
       "metadata": {},
       "removedWidgets": [],
       "type": "html"
      }
     },
     "output_type": "display_data"
    }
   ],
   "source": [
    "from pyspark.sql.types import IntegerType, StringType, DoubleType, StructField, StructType\n",
    "\n",
    "# Define schemas\n",
    "\n",
    "employees_schema = StructType([\n",
    "    StructField('EMPLOYEE_ID', IntegerType(), False),\n",
    "    StructField('FIRST_NAME', StringType(), False),\n",
    "    StructField('LAST_NAME', StringType(), False),\n",
    "    StructField('EMAIL', StringType(), False),\n",
    "    StructField('PHONE', StringType(), False),\n",
    "    StructField('DATE_HIRED', StringType(), False),\n",
    "    StructField('JOB_ID', StringType(), False),\n",
    "    StructField('SALARY', IntegerType(), False),\n",
    "    StructField('MANAGER_ID', IntegerType(), True),\n",
    "    StructField('DEPARTMENT_ID', IntegerType(), False)\n",
    "])\n",
    "\n",
    "departments_schema = StructType([\n",
    "    StructField('DEPARTMENT_ID', IntegerType(), False),\n",
    "    StructField('DEPARTMENT_NAME', StringType(), False)\n",
    "])\n",
    "\n",
    "countries_schema = StructType([\n",
    "    StructField('COUNTRY_ID', StringType(), False),\n",
    "    StructField('COUNTRY_NAME', StringType(), False)\n",
    "])"
   ]
  },
  {
   "cell_type": "code",
   "execution_count": 0,
   "metadata": {
    "application/vnd.databricks.v1+cell": {
     "cellMetadata": {
      "byteLimit": 2048000,
      "rowLimit": 10000
     },
     "inputWidgets": {},
     "nuid": "f4dbb4ec-cfdd-45d6-8c33-abc8944e7ec1",
     "showTitle": false,
     "title": ""
    }
   },
   "outputs": [
    {
     "output_type": "display_data",
     "data": {
      "text/html": [
       "<style scoped>\n  .table-result-container {\n    max-height: 300px;\n    overflow: auto;\n  }\n  table, th, td {\n    border: 1px solid black;\n    border-collapse: collapse;\n  }\n  th, td {\n    padding: 5px;\n  }\n  th {\n    text-align: left;\n  }\n</style><div class='table-result-container'><table class='table-result'><thead style='background-color: white'><tr><th>EMPLOYEE_ID</th><th>FIRST_NAME</th><th>LAST_NAME</th><th>EMAIL</th><th>PHONE</th><th>DATE_HIRED</th><th>JOB_ID</th><th>SALARY</th><th>MANAGER_ID</th><th>DEPARTMENT_ID</th></tr></thead><tbody><tr><td>100</td><td>Steven</td><td>King</td><td>SKING</td><td>515.123.4567</td><td>09/01/2009</td><td>AD_PRES</td><td>24000</td><td>null</td><td>90</td></tr><tr><td>101</td><td>Neena</td><td>Kochhar</td><td>NKOCHHAR</td><td>515.123.4568</td><td>12/07/2011</td><td>AD_VP</td><td>17000</td><td>100</td><td>90</td></tr><tr><td>102</td><td>Lex</td><td>De Haan</td><td>LDEHAAN</td><td>515.123.4569</td><td>03/31/2015</td><td>AD_VP</td><td>17000</td><td>100</td><td>90</td></tr><tr><td>103</td><td>Alexander</td><td>Hunold</td><td>AHUNOLD</td><td>590.423.4567</td><td>03/20/2012</td><td>IT_PROG</td><td>9000</td><td>102</td><td>60</td></tr><tr><td>104</td><td>Bruce</td><td>Ernst</td><td>BERNST</td><td>590.423.4568</td><td>08/05/2013</td><td>IT_PROG</td><td>6000</td><td>103</td><td>60</td></tr><tr><td>105</td><td>David</td><td>Austin</td><td>DAUSTIN</td><td>590.423.4569</td><td>09/10/2019</td><td>IT_PROG</td><td>4800</td><td>103</td><td>60</td></tr><tr><td>106</td><td>Valli</td><td>Pataballa</td><td>VPATABAL</td><td>590.423.4560</td><td>04/22/2020</td><td>IT_PROG</td><td>4800</td><td>103</td><td>60</td></tr><tr><td>107</td><td>Diana</td><td>Lorentz</td><td>DLORENTZ</td><td>590.423.5567</td><td>04/24/2021</td><td>IT_PROG</td><td>4200</td><td>103</td><td>60</td></tr><tr><td>108</td><td>Nancy</td><td>Greenberg</td><td>NGREENBE</td><td>515.124.4569</td><td>11/01/2016</td><td>FI_MGR</td><td>12000</td><td>101</td><td>100</td></tr><tr><td>109</td><td>Daniel</td><td>Faviet</td><td>DFAVIET</td><td>515.124.4169</td><td>10/31/2016</td><td>FI_ACCOUNT</td><td>9000</td><td>108</td><td>100</td></tr><tr><td>110</td><td>John</td><td>Chen</td><td>JCHEN</td><td>515.124.4269</td><td>12/14/2019</td><td>FI_ACCOUNT</td><td>8200</td><td>108</td><td>100</td></tr><tr><td>111</td><td>Ismael</td><td>Sciarra</td><td>ISCIARRA</td><td>515.124.4369</td><td>12/16/2019</td><td>FI_ACCOUNT</td><td>7700</td><td>108</td><td>100</td></tr><tr><td>112</td><td>Jose Manuel</td><td>Urman</td><td>JMURMAN</td><td>515.124.4469</td><td>05/22/2020</td><td>FI_ACCOUNT</td><td>7800</td><td>108</td><td>100</td></tr><tr><td>113</td><td>Luis</td><td>Popp</td><td>LPOPP</td><td>515.124.4567</td><td>02/21/2022</td><td>FI_ACCOUNT</td><td>6900</td><td>108</td><td>100</td></tr><tr><td>114</td><td>Den</td><td>Raphaely</td><td>DRAPHEAL</td><td>515.127.4561</td><td>02/21/2017</td><td>PU_MAN</td><td>11000</td><td>100</td><td>30</td></tr><tr><td>115</td><td>Alexander</td><td>Khoo</td><td>AKHOO</td><td>515.127.4562</td><td>08/02/2017</td><td>PU_CLERK</td><td>3100</td><td>114</td><td>30</td></tr><tr><td>116</td><td>Shelli</td><td>Baida</td><td>SBAIDA</td><td>515.127.4563</td><td>03/10/2020</td><td>PU_CLERK</td><td>2900</td><td>114</td><td>30</td></tr><tr><td>117</td><td>Sigal</td><td>Tobias</td><td>STOBIAS</td><td>515.127.4564</td><td>10/09/2019</td><td>PU_CLERK</td><td>2800</td><td>114</td><td>30</td></tr><tr><td>118</td><td>Guy</td><td>Himuro</td><td>GHIMURO</td><td>515.127.4565</td><td>01/30/2021</td><td>PU_CLERK</td><td>2600</td><td>114</td><td>30</td></tr><tr><td>119</td><td>Karen</td><td>Colmenares</td><td>KCOLMENA</td><td>515.127.4566</td><td>10/25/2021</td><td>PU_CLERK</td><td>2500</td><td>114</td><td>30</td></tr><tr><td>120</td><td>Matthew</td><td>Weiss</td><td>MWEISS</td><td>650.123.1234</td><td>10/03/2018</td><td>ST_MAN</td><td>8000</td><td>100</td><td>50</td></tr><tr><td>121</td><td>Adam</td><td>Fripp</td><td>AFRIPP</td><td>650.123.2234</td><td>06/26/2019</td><td>ST_MAN</td><td>8200</td><td>100</td><td>50</td></tr><tr><td>122</td><td>Payam</td><td>Kaufling</td><td>PKAUFLIN</td><td>650.123.3234</td><td>07/16/2017</td><td>ST_MAN</td><td>7900</td><td>100</td><td>50</td></tr><tr><td>123</td><td>Shanta</td><td>Vollman</td><td>SVOLLMAN</td><td>650.123.4234</td><td>12/26/2019</td><td>ST_MAN</td><td>6500</td><td>100</td><td>50</td></tr><tr><td>124</td><td>Kevin</td><td>Mourgos</td><td>KMOURGOS</td><td>650.123.5234</td><td>01/31/2022</td><td>ST_MAN</td><td>5800</td><td>100</td><td>50</td></tr><tr><td>125</td><td>Julia</td><td>Nayer</td><td>JNAYER</td><td>650.124.1214</td><td>10/01/2019</td><td>ST_CLERK</td><td>3200</td><td>120</td><td>50</td></tr><tr><td>126</td><td>Irene</td><td>Mikkilineni</td><td>IMIKKILI</td><td>650.124.1224</td><td>12/13/2020</td><td>ST_CLERK</td><td>2700</td><td>120</td><td>50</td></tr><tr><td>127</td><td>James</td><td>Landry</td><td>JLANDRY</td><td>650.124.1334</td><td>03/31/2021</td><td>ST_CLERK</td><td>2400</td><td>120</td><td>50</td></tr><tr><td>128</td><td>Steven</td><td>Markle</td><td>SMARKLE</td><td>650.124.1434</td><td>05/24/2022</td><td>ST_CLERK</td><td>2200</td><td>120</td><td>50</td></tr><tr><td>129</td><td>Laura</td><td>Bissot</td><td>LBISSOT</td><td>650.124.5234</td><td>11/05/2019</td><td>ST_CLERK</td><td>3300</td><td>121</td><td>50</td></tr><tr><td>130</td><td>Mozhe</td><td>Atkinson</td><td>MATKINSO</td><td>650.124.6234</td><td>01/15/2020</td><td>ST_CLERK</td><td>2800</td><td>121</td><td>50</td></tr><tr><td>131</td><td>James</td><td>Marlow</td><td>JAMRLOW</td><td>650.124.7234</td><td>05/04/2019</td><td>ST_CLERK</td><td>2500</td><td>121</td><td>50</td></tr><tr><td>132</td><td>TJ</td><td>Olson</td><td>TJOLSON</td><td>650.124.8234</td><td>06/25/2021</td><td>ST_CLERK</td><td>2100</td><td>121</td><td>50</td></tr><tr><td>133</td><td>Jason</td><td>Mallin</td><td>JMALLIN</td><td>650.127.1934</td><td>08/30/2018</td><td>ST_CLERK</td><td>3300</td><td>122</td><td>50</td></tr><tr><td>134</td><td>Michael</td><td>Rogers</td><td>MROGERS</td><td>650.127.1834</td><td>11/10/2020</td><td>ST_CLERK</td><td>2900</td><td>122</td><td>50</td></tr><tr><td>135</td><td>Ki</td><td>Gee</td><td>KGEE</td><td>650.127.1734</td><td>02/26/2022</td><td>ST_CLERK</td><td>2400</td><td>122</td><td>50</td></tr><tr><td>136</td><td>Hazel</td><td>Philtanker</td><td>HPHILTAN</td><td>650.127.1634</td><td>04/23/2022</td><td>ST_CLERK</td><td>2200</td><td>122</td><td>50</td></tr><tr><td>137</td><td>Renske</td><td>Ladwig</td><td>RLADWIG</td><td>650.121.1234</td><td>09/28/2017</td><td>ST_CLERK</td><td>3600</td><td>123</td><td>50</td></tr><tr><td>138</td><td>Stephen</td><td>Stiles</td><td>SSTILES</td><td>650.121.2034</td><td>01/11/2020</td><td>ST_CLERK</td><td>3200</td><td>123</td><td>50</td></tr><tr><td>139</td><td>John</td><td>Seo</td><td>JSEO</td><td>650.121.2019</td><td>04/29/2020</td><td>ST_CLERK</td><td>2700</td><td>123</td><td>50</td></tr><tr><td>140</td><td>Joshua</td><td>Patel</td><td>JPATEL</td><td>650.121.1834</td><td>06/21/2020</td><td>ST_CLERK</td><td>2500</td><td>123</td><td>50</td></tr><tr><td>141</td><td>Trenna</td><td>Rajs</td><td>TRAJS</td><td>650.121.8009</td><td>01/01/2018</td><td>ST_CLERK</td><td>3500</td><td>124</td><td>50</td></tr><tr><td>142</td><td>Curtis</td><td>Davies</td><td>CDAVIES</td><td>650.121.2994</td><td>04/16/2019</td><td>ST_CLERK</td><td>3100</td><td>124</td><td>50</td></tr><tr><td>143</td><td>Randall</td><td>Matos</td><td>RMATOS</td><td>650.121.2874</td><td>05/30/2020</td><td>ST_CLERK</td><td>2600</td><td>124</td><td>50</td></tr><tr><td>144</td><td>Peter</td><td>Vargas</td><td>PVARGAS</td><td>650.121.2004</td><td>09/23/2020</td><td>ST_CLERK</td><td>2500</td><td>124</td><td>50</td></tr><tr><td>145</td><td>John</td><td>Russell</td><td>JRUSSEL</td><td>011.44.1344.429268</td><td>12/17/2018</td><td>SA_MAN</td><td>14000</td><td>100</td><td>80</td></tr><tr><td>146</td><td>Karen</td><td>Partners</td><td>KPARTNER</td><td>011.44.1344.467268</td><td>03/23/2019</td><td>SA_MAN</td><td>13500</td><td>100</td><td>80</td></tr><tr><td>147</td><td>Alberto</td><td>Errazuriz</td><td>AERRAZUR</td><td>011.44.1344.429278</td><td>05/26/2019</td><td>SA_MAN</td><td>12000</td><td>100</td><td>80</td></tr><tr><td>148</td><td>Gerald</td><td>Cambrault</td><td>GCAMBRAU</td><td>011.44.1344.619268</td><td>12/30/2021</td><td>SA_MAN</td><td>11000</td><td>100</td><td>80</td></tr><tr><td>149</td><td>Eleni</td><td>Zlotkey</td><td>EZLOTKEY</td><td>011.44.1344.429018</td><td>04/15/2022</td><td>SA_MAN</td><td>10500</td><td>100</td><td>80</td></tr><tr><td>150</td><td>Peter</td><td>Tucker</td><td>PTUCKER</td><td>011.44.1344.129268</td><td>04/17/2019</td><td>SA_REP</td><td>10000</td><td>145</td><td>80</td></tr><tr><td>151</td><td>David</td><td>Bernstein</td><td>DBERNSTE</td><td>011.44.1344.345268</td><td>06/09/2019</td><td>SA_REP</td><td>9500</td><td>145</td><td>80</td></tr><tr><td>152</td><td>Peter</td><td>Hall</td><td>PHALL</td><td>011.44.1344.478968</td><td>11/05/2019</td><td>SA_REP</td><td>9000</td><td>145</td><td>80</td></tr><tr><td>153</td><td>Christopher</td><td>Olsen</td><td>COLSEN</td><td>011.44.1344.498718</td><td>06/14/2020</td><td>SA_REP</td><td>8000</td><td>145</td><td>80</td></tr><tr><td>154</td><td>Nanette</td><td>Cambrault</td><td>NCAMBRAU</td><td>011.44.1344.987668</td><td>02/23/2021</td><td>SA_REP</td><td>7500</td><td>145</td><td>80</td></tr><tr><td>155</td><td>Oliver</td><td>Tuvault</td><td>OTUVAULT</td><td>011.44.1344.486508</td><td>02/07/2022</td><td>SA_REP</td><td>7000</td><td>145</td><td>80</td></tr><tr><td>156</td><td>Janette</td><td>King</td><td>JKING</td><td>011.44.1345.429268</td><td>04/16/2018</td><td>SA_REP</td><td>10000</td><td>146</td><td>80</td></tr><tr><td>157</td><td>Patrick</td><td>Sully</td><td>PSULLY</td><td>011.44.1345.929268</td><td>05/20/2018</td><td>SA_REP</td><td>9500</td><td>146</td><td>80</td></tr><tr><td>158</td><td>Allan</td><td>McEwen</td><td>AMCEWEN</td><td>011.44.1345.829268</td><td>10/17/2018</td><td>SA_REP</td><td>9000</td><td>146</td><td>80</td></tr><tr><td>159</td><td>Lindsey</td><td>Smith</td><td>LSMITH</td><td>011.44.1345.729268</td><td>05/26/2019</td><td>SA_REP</td><td>8000</td><td>146</td><td>80</td></tr><tr><td>160</td><td>Louise</td><td>Doran</td><td>LDORAN</td><td>011.44.1345.629268</td><td>03/01/2020</td><td>SA_REP</td><td>7500</td><td>146</td><td>80</td></tr><tr><td>161</td><td>Sarath</td><td>Sewall</td><td>SSEWALL</td><td>011.44.1345.529268</td><td>01/18/2021</td><td>SA_REP</td><td>7000</td><td>146</td><td>80</td></tr><tr><td>162</td><td>Clara</td><td>Vishney</td><td>CVISHNEY</td><td>011.44.1346.129268</td><td>01/27/2020</td><td>SA_REP</td><td>10500</td><td>147</td><td>80</td></tr><tr><td>163</td><td>Danielle</td><td>Greene</td><td>DGREENE</td><td>011.44.1346.229268</td><td>06/03/2021</td><td>SA_REP</td><td>9500</td><td>147</td><td>80</td></tr><tr><td>164</td><td>Mattea</td><td>Marvins</td><td>MMARVINS</td><td>011.44.1346.329268</td><td>04/10/2022</td><td>SA_REP</td><td>7200</td><td>147</td><td>80</td></tr><tr><td>165</td><td>David</td><td>Lee</td><td>DLEE</td><td>011.44.1346.529268</td><td>05/10/2022</td><td>SA_REP</td><td>6800</td><td>147</td><td>80</td></tr><tr><td>166</td><td>Sundar</td><td>Ande</td><td>SANDE</td><td>011.44.1346.629268</td><td>06/09/2022</td><td>SA_REP</td><td>6400</td><td>147</td><td>80</td></tr><tr><td>167</td><td>Amit</td><td>Banda</td><td>ABANDA</td><td>011.44.1346.729268</td><td>07/07/2022</td><td>SA_REP</td><td>6200</td><td>147</td><td>80</td></tr><tr><td>168</td><td>Lisa</td><td>Ozer</td><td>LOZER</td><td>011.44.1343.929268</td><td>05/27/2019</td><td>SA_REP</td><td>11500</td><td>148</td><td>80</td></tr><tr><td>169</td><td>Harrison</td><td>Bloom</td><td>HBLOOM</td><td>011.44.1343.829268</td><td>06/07/2020</td><td>SA_REP</td><td>10000</td><td>148</td><td>80</td></tr><tr><td>170</td><td>Tayler</td><td>Fox</td><td>TFOX</td><td>011.44.1343.729268</td><td>04/10/2020</td><td>SA_REP</td><td>9600</td><td>148</td><td>80</td></tr><tr><td>171</td><td>William</td><td>Smith</td><td>WSMITH</td><td>011.44.1343.629268</td><td>05/10/2021</td><td>SA_REP</td><td>7400</td><td>148</td><td>80</td></tr><tr><td>172</td><td>Elizabeth</td><td>Bates</td><td>EBATES</td><td>011.44.1343.529268</td><td>06/08/2021</td><td>SA_REP</td><td>7300</td><td>148</td><td>80</td></tr><tr><td>173</td><td>Sundita</td><td>Kumar</td><td>SKUMAR</td><td>011.44.1343.329268</td><td>07/07/2022</td><td>SA_REP</td><td>6100</td><td>148</td><td>80</td></tr><tr><td>174</td><td>Ellen</td><td>Abel</td><td>EABEL</td><td>011.44.1644.429267</td><td>07/27/2018</td><td>SA_REP</td><td>11000</td><td>149</td><td>80</td></tr><tr><td>175</td><td>Alyssa</td><td>Hutton</td><td>AHUTTON</td><td>011.44.1644.429266</td><td>06/04/2019</td><td>SA_REP</td><td>8800</td><td>149</td><td>80</td></tr><tr><td>176</td><td>Jonathon</td><td>Taylor</td><td>JTAYLOR</td><td>011.44.1644.429265</td><td>06/08/2020</td><td>SA_REP</td><td>8600</td><td>149</td><td>80</td></tr><tr><td>177</td><td>Jack</td><td>Livingston</td><td>JLIVINGS</td><td>011.44.1644.429264</td><td>07/08/2020</td><td>SA_REP</td><td>8400</td><td>149</td><td>80</td></tr><tr><td>178</td><td>Kimberely</td><td>Grant</td><td>KGRANT</td><td>011.44.1644.429263</td><td>08/08/2021</td><td>SA_REP</td><td>7000</td><td>149</td><td>null</td></tr><tr><td>179</td><td>Charles</td><td>Johnson</td><td>CJOHNSON</td><td>011.44.1644.429262</td><td>03/21/2022</td><td>SA_REP</td><td>6200</td><td>149</td><td>80</td></tr><tr><td>180</td><td>Winston</td><td>Taylor</td><td>WTAYLOR</td><td>650.507.9876</td><td>04/10/2020</td><td>SH_CLERK</td><td>3200</td><td>120</td><td>50</td></tr><tr><td>181</td><td>Jean</td><td>Fleaur</td><td>JFLEAUR</td><td>650.507.9877</td><td>05/10/2020</td><td>SH_CLERK</td><td>3100</td><td>120</td><td>50</td></tr><tr><td>182</td><td>Martha</td><td>Sullivan</td><td>MSULLIVA</td><td>650.507.9878</td><td>09/05/2021</td><td>SH_CLERK</td><td>2500</td><td>120</td><td>50</td></tr><tr><td>183</td><td>Girard</td><td>Geoni</td><td>GGEONI</td><td>650.507.9879</td><td>04/20/2022</td><td>SH_CLERK</td><td>2800</td><td>120</td><td>50</td></tr><tr><td>184</td><td>Nandita</td><td>Sarchand</td><td>NSARCHAN</td><td>650.509.1876</td><td>04/13/2018</td><td>SH_CLERK</td><td>4200</td><td>121</td><td>50</td></tr><tr><td>185</td><td>Alexis</td><td>Bull</td><td>ABULL</td><td>650.509.2876</td><td>05/08/2019</td><td>SH_CLERK</td><td>4100</td><td>121</td><td>50</td></tr><tr><td>186</td><td>Julia</td><td>Dellinger</td><td>JDELLING</td><td>650.509.3876</td><td>09/08/2020</td><td>SH_CLERK</td><td>3400</td><td>121</td><td>50</td></tr><tr><td>187</td><td>Anthony</td><td>Cabrio</td><td>ACABRIO</td><td>650.509.4876</td><td>04/24/2021</td><td>SH_CLERK</td><td>3000</td><td>121</td><td>50</td></tr><tr><td>188</td><td>Kelly</td><td>Chung</td><td>KCHUNG</td><td>650.505.1876</td><td>08/30/2019</td><td>SH_CLERK</td><td>3800</td><td>122</td><td>50</td></tr><tr><td>189</td><td>Jennifer</td><td>Dilly</td><td>JDILLY</td><td>650.505.2876</td><td>10/29/2019</td><td>SH_CLERK</td><td>3600</td><td>122</td><td>50</td></tr><tr><td>190</td><td>Timothy</td><td>Gates</td><td>TGATES</td><td>650.505.3876</td><td>09/25/2020</td><td>SH_CLERK</td><td>2900</td><td>122</td><td>50</td></tr><tr><td>191</td><td>Randall</td><td>Perkins</td><td>RPERKINS</td><td>650.505.4876</td><td>03/05/2022</td><td>SH_CLERK</td><td>2500</td><td>122</td><td>50</td></tr><tr><td>192</td><td>Sarah</td><td>Bell</td><td>SBELL</td><td>650.501.1876</td><td>04/21/2018</td><td>SH_CLERK</td><td>4000</td><td>123</td><td>50</td></tr><tr><td>193</td><td>Britney</td><td>Everett</td><td>BEVERETT</td><td>650.501.2876</td><td>05/19/2019</td><td>SH_CLERK</td><td>3900</td><td>123</td><td>50</td></tr><tr><td>194</td><td>Samuel</td><td>McCain</td><td>SMCCAIN</td><td>650.501.3876</td><td>09/15/2020</td><td>SH_CLERK</td><td>3200</td><td>123</td><td>50</td></tr><tr><td>195</td><td>Vance</td><td>Jones</td><td>VJONES</td><td>650.501.4876</td><td>06/01/2021</td><td>SH_CLERK</td><td>2800</td><td>123</td><td>50</td></tr><tr><td>196</td><td>Alana</td><td>Walsh</td><td>AWALSH</td><td>650.507.9811</td><td>07/09/2020</td><td>SH_CLERK</td><td>3100</td><td>124</td><td>50</td></tr><tr><td>197</td><td>Kevin</td><td>Feeney</td><td>KFEENEY</td><td>650.507.9822</td><td>08/07/2020</td><td>SH_CLERK</td><td>3000</td><td>124</td><td>50</td></tr><tr><td>198</td><td>Donald</td><td>OConnell</td><td>DOCONNEL</td><td>650.507.9833</td><td>09/05/2021</td><td>SH_CLERK</td><td>2600</td><td>124</td><td>50</td></tr><tr><td>199</td><td>Douglas</td><td>Grant</td><td>DGRANT</td><td>650.507.9844</td><td>03/30/2022</td><td>SH_CLERK</td><td>2600</td><td>124</td><td>50</td></tr><tr><td>200</td><td>Jennifer</td><td>Whalen</td><td>JWHALEN</td><td>515.123.4444</td><td>12/02/2009</td><td>AD_ASST</td><td>4400</td><td>101</td><td>10</td></tr><tr><td>201</td><td>Michael</td><td>Hartstein</td><td>MHARTSTE</td><td>515.123.5555</td><td>05/04/2018</td><td>MK_MAN</td><td>13000</td><td>100</td><td>20</td></tr><tr><td>202</td><td>Pat</td><td>Fay</td><td>PFAY</td><td>603.123.6666</td><td>11/02/2019</td><td>MK_REP</td><td>6000</td><td>201</td><td>20</td></tr><tr><td>203</td><td>Susan</td><td>Mavris</td><td>SMAVRIS</td><td>515.123.7777</td><td>08/22/2016</td><td>HR_REP</td><td>6500</td><td>101</td><td>40</td></tr><tr><td>204</td><td>Hermann</td><td>Baer</td><td>HBAER</td><td>515.123.8888</td><td>08/22/2016</td><td>PR_REP</td><td>10000</td><td>101</td><td>70</td></tr><tr><td>205</td><td>Shelley</td><td>Higgins</td><td>SHIGGINS</td><td>515.123.8080</td><td>08/22/2016</td><td>AC_MGR</td><td>12000</td><td>101</td><td>110</td></tr><tr><td>206</td><td>William</td><td>Gietz</td><td>WGIETZ</td><td>515.123.8181</td><td>08/22/2016</td><td>AC_ACCOUNT</td><td>8300</td><td>205</td><td>110</td></tr></tbody></table></div>"
      ]
     },
     "metadata": {
      "application/vnd.databricks.v1+output": {
       "addedWidgets": {},
       "aggData": [],
       "aggError": "",
       "aggOverflow": false,
       "aggSchema": [],
       "aggSeriesLimitReached": false,
       "aggType": "",
       "arguments": {},
       "columnCustomDisplayInfos": {},
       "data": [
        [
         100,
         "Steven",
         "King",
         "SKING",
         "515.123.4567",
         "09/01/2009",
         "AD_PRES",
         24000,
         null,
         90
        ],
        [
         101,
         "Neena",
         "Kochhar",
         "NKOCHHAR",
         "515.123.4568",
         "12/07/2011",
         "AD_VP",
         17000,
         100,
         90
        ],
        [
         102,
         "Lex",
         "De Haan",
         "LDEHAAN",
         "515.123.4569",
         "03/31/2015",
         "AD_VP",
         17000,
         100,
         90
        ],
        [
         103,
         "Alexander",
         "Hunold",
         "AHUNOLD",
         "590.423.4567",
         "03/20/2012",
         "IT_PROG",
         9000,
         102,
         60
        ],
        [
         104,
         "Bruce",
         "Ernst",
         "BERNST",
         "590.423.4568",
         "08/05/2013",
         "IT_PROG",
         6000,
         103,
         60
        ],
        [
         105,
         "David",
         "Austin",
         "DAUSTIN",
         "590.423.4569",
         "09/10/2019",
         "IT_PROG",
         4800,
         103,
         60
        ],
        [
         106,
         "Valli",
         "Pataballa",
         "VPATABAL",
         "590.423.4560",
         "04/22/2020",
         "IT_PROG",
         4800,
         103,
         60
        ],
        [
         107,
         "Diana",
         "Lorentz",
         "DLORENTZ",
         "590.423.5567",
         "04/24/2021",
         "IT_PROG",
         4200,
         103,
         60
        ],
        [
         108,
         "Nancy",
         "Greenberg",
         "NGREENBE",
         "515.124.4569",
         "11/01/2016",
         "FI_MGR",
         12000,
         101,
         100
        ],
        [
         109,
         "Daniel",
         "Faviet",
         "DFAVIET",
         "515.124.4169",
         "10/31/2016",
         "FI_ACCOUNT",
         9000,
         108,
         100
        ],
        [
         110,
         "John",
         "Chen",
         "JCHEN",
         "515.124.4269",
         "12/14/2019",
         "FI_ACCOUNT",
         8200,
         108,
         100
        ],
        [
         111,
         "Ismael",
         "Sciarra",
         "ISCIARRA",
         "515.124.4369",
         "12/16/2019",
         "FI_ACCOUNT",
         7700,
         108,
         100
        ],
        [
         112,
         "Jose Manuel",
         "Urman",
         "JMURMAN",
         "515.124.4469",
         "05/22/2020",
         "FI_ACCOUNT",
         7800,
         108,
         100
        ],
        [
         113,
         "Luis",
         "Popp",
         "LPOPP",
         "515.124.4567",
         "02/21/2022",
         "FI_ACCOUNT",
         6900,
         108,
         100
        ],
        [
         114,
         "Den",
         "Raphaely",
         "DRAPHEAL",
         "515.127.4561",
         "02/21/2017",
         "PU_MAN",
         11000,
         100,
         30
        ],
        [
         115,
         "Alexander",
         "Khoo",
         "AKHOO",
         "515.127.4562",
         "08/02/2017",
         "PU_CLERK",
         3100,
         114,
         30
        ],
        [
         116,
         "Shelli",
         "Baida",
         "SBAIDA",
         "515.127.4563",
         "03/10/2020",
         "PU_CLERK",
         2900,
         114,
         30
        ],
        [
         117,
         "Sigal",
         "Tobias",
         "STOBIAS",
         "515.127.4564",
         "10/09/2019",
         "PU_CLERK",
         2800,
         114,
         30
        ],
        [
         118,
         "Guy",
         "Himuro",
         "GHIMURO",
         "515.127.4565",
         "01/30/2021",
         "PU_CLERK",
         2600,
         114,
         30
        ],
        [
         119,
         "Karen",
         "Colmenares",
         "KCOLMENA",
         "515.127.4566",
         "10/25/2021",
         "PU_CLERK",
         2500,
         114,
         30
        ],
        [
         120,
         "Matthew",
         "Weiss",
         "MWEISS",
         "650.123.1234",
         "10/03/2018",
         "ST_MAN",
         8000,
         100,
         50
        ],
        [
         121,
         "Adam",
         "Fripp",
         "AFRIPP",
         "650.123.2234",
         "06/26/2019",
         "ST_MAN",
         8200,
         100,
         50
        ],
        [
         122,
         "Payam",
         "Kaufling",
         "PKAUFLIN",
         "650.123.3234",
         "07/16/2017",
         "ST_MAN",
         7900,
         100,
         50
        ],
        [
         123,
         "Shanta",
         "Vollman",
         "SVOLLMAN",
         "650.123.4234",
         "12/26/2019",
         "ST_MAN",
         6500,
         100,
         50
        ],
        [
         124,
         "Kevin",
         "Mourgos",
         "KMOURGOS",
         "650.123.5234",
         "01/31/2022",
         "ST_MAN",
         5800,
         100,
         50
        ],
        [
         125,
         "Julia",
         "Nayer",
         "JNAYER",
         "650.124.1214",
         "10/01/2019",
         "ST_CLERK",
         3200,
         120,
         50
        ],
        [
         126,
         "Irene",
         "Mikkilineni",
         "IMIKKILI",
         "650.124.1224",
         "12/13/2020",
         "ST_CLERK",
         2700,
         120,
         50
        ],
        [
         127,
         "James",
         "Landry",
         "JLANDRY",
         "650.124.1334",
         "03/31/2021",
         "ST_CLERK",
         2400,
         120,
         50
        ],
        [
         128,
         "Steven",
         "Markle",
         "SMARKLE",
         "650.124.1434",
         "05/24/2022",
         "ST_CLERK",
         2200,
         120,
         50
        ],
        [
         129,
         "Laura",
         "Bissot",
         "LBISSOT",
         "650.124.5234",
         "11/05/2019",
         "ST_CLERK",
         3300,
         121,
         50
        ],
        [
         130,
         "Mozhe",
         "Atkinson",
         "MATKINSO",
         "650.124.6234",
         "01/15/2020",
         "ST_CLERK",
         2800,
         121,
         50
        ],
        [
         131,
         "James",
         "Marlow",
         "JAMRLOW",
         "650.124.7234",
         "05/04/2019",
         "ST_CLERK",
         2500,
         121,
         50
        ],
        [
         132,
         "TJ",
         "Olson",
         "TJOLSON",
         "650.124.8234",
         "06/25/2021",
         "ST_CLERK",
         2100,
         121,
         50
        ],
        [
         133,
         "Jason",
         "Mallin",
         "JMALLIN",
         "650.127.1934",
         "08/30/2018",
         "ST_CLERK",
         3300,
         122,
         50
        ],
        [
         134,
         "Michael",
         "Rogers",
         "MROGERS",
         "650.127.1834",
         "11/10/2020",
         "ST_CLERK",
         2900,
         122,
         50
        ],
        [
         135,
         "Ki",
         "Gee",
         "KGEE",
         "650.127.1734",
         "02/26/2022",
         "ST_CLERK",
         2400,
         122,
         50
        ],
        [
         136,
         "Hazel",
         "Philtanker",
         "HPHILTAN",
         "650.127.1634",
         "04/23/2022",
         "ST_CLERK",
         2200,
         122,
         50
        ],
        [
         137,
         "Renske",
         "Ladwig",
         "RLADWIG",
         "650.121.1234",
         "09/28/2017",
         "ST_CLERK",
         3600,
         123,
         50
        ],
        [
         138,
         "Stephen",
         "Stiles",
         "SSTILES",
         "650.121.2034",
         "01/11/2020",
         "ST_CLERK",
         3200,
         123,
         50
        ],
        [
         139,
         "John",
         "Seo",
         "JSEO",
         "650.121.2019",
         "04/29/2020",
         "ST_CLERK",
         2700,
         123,
         50
        ],
        [
         140,
         "Joshua",
         "Patel",
         "JPATEL",
         "650.121.1834",
         "06/21/2020",
         "ST_CLERK",
         2500,
         123,
         50
        ],
        [
         141,
         "Trenna",
         "Rajs",
         "TRAJS",
         "650.121.8009",
         "01/01/2018",
         "ST_CLERK",
         3500,
         124,
         50
        ],
        [
         142,
         "Curtis",
         "Davies",
         "CDAVIES",
         "650.121.2994",
         "04/16/2019",
         "ST_CLERK",
         3100,
         124,
         50
        ],
        [
         143,
         "Randall",
         "Matos",
         "RMATOS",
         "650.121.2874",
         "05/30/2020",
         "ST_CLERK",
         2600,
         124,
         50
        ],
        [
         144,
         "Peter",
         "Vargas",
         "PVARGAS",
         "650.121.2004",
         "09/23/2020",
         "ST_CLERK",
         2500,
         124,
         50
        ],
        [
         145,
         "John",
         "Russell",
         "JRUSSEL",
         "011.44.1344.429268",
         "12/17/2018",
         "SA_MAN",
         14000,
         100,
         80
        ],
        [
         146,
         "Karen",
         "Partners",
         "KPARTNER",
         "011.44.1344.467268",
         "03/23/2019",
         "SA_MAN",
         13500,
         100,
         80
        ],
        [
         147,
         "Alberto",
         "Errazuriz",
         "AERRAZUR",
         "011.44.1344.429278",
         "05/26/2019",
         "SA_MAN",
         12000,
         100,
         80
        ],
        [
         148,
         "Gerald",
         "Cambrault",
         "GCAMBRAU",
         "011.44.1344.619268",
         "12/30/2021",
         "SA_MAN",
         11000,
         100,
         80
        ],
        [
         149,
         "Eleni",
         "Zlotkey",
         "EZLOTKEY",
         "011.44.1344.429018",
         "04/15/2022",
         "SA_MAN",
         10500,
         100,
         80
        ],
        [
         150,
         "Peter",
         "Tucker",
         "PTUCKER",
         "011.44.1344.129268",
         "04/17/2019",
         "SA_REP",
         10000,
         145,
         80
        ],
        [
         151,
         "David",
         "Bernstein",
         "DBERNSTE",
         "011.44.1344.345268",
         "06/09/2019",
         "SA_REP",
         9500,
         145,
         80
        ],
        [
         152,
         "Peter",
         "Hall",
         "PHALL",
         "011.44.1344.478968",
         "11/05/2019",
         "SA_REP",
         9000,
         145,
         80
        ],
        [
         153,
         "Christopher",
         "Olsen",
         "COLSEN",
         "011.44.1344.498718",
         "06/14/2020",
         "SA_REP",
         8000,
         145,
         80
        ],
        [
         154,
         "Nanette",
         "Cambrault",
         "NCAMBRAU",
         "011.44.1344.987668",
         "02/23/2021",
         "SA_REP",
         7500,
         145,
         80
        ],
        [
         155,
         "Oliver",
         "Tuvault",
         "OTUVAULT",
         "011.44.1344.486508",
         "02/07/2022",
         "SA_REP",
         7000,
         145,
         80
        ],
        [
         156,
         "Janette",
         "King",
         "JKING",
         "011.44.1345.429268",
         "04/16/2018",
         "SA_REP",
         10000,
         146,
         80
        ],
        [
         157,
         "Patrick",
         "Sully",
         "PSULLY",
         "011.44.1345.929268",
         "05/20/2018",
         "SA_REP",
         9500,
         146,
         80
        ],
        [
         158,
         "Allan",
         "McEwen",
         "AMCEWEN",
         "011.44.1345.829268",
         "10/17/2018",
         "SA_REP",
         9000,
         146,
         80
        ],
        [
         159,
         "Lindsey",
         "Smith",
         "LSMITH",
         "011.44.1345.729268",
         "05/26/2019",
         "SA_REP",
         8000,
         146,
         80
        ],
        [
         160,
         "Louise",
         "Doran",
         "LDORAN",
         "011.44.1345.629268",
         "03/01/2020",
         "SA_REP",
         7500,
         146,
         80
        ],
        [
         161,
         "Sarath",
         "Sewall",
         "SSEWALL",
         "011.44.1345.529268",
         "01/18/2021",
         "SA_REP",
         7000,
         146,
         80
        ],
        [
         162,
         "Clara",
         "Vishney",
         "CVISHNEY",
         "011.44.1346.129268",
         "01/27/2020",
         "SA_REP",
         10500,
         147,
         80
        ],
        [
         163,
         "Danielle",
         "Greene",
         "DGREENE",
         "011.44.1346.229268",
         "06/03/2021",
         "SA_REP",
         9500,
         147,
         80
        ],
        [
         164,
         "Mattea",
         "Marvins",
         "MMARVINS",
         "011.44.1346.329268",
         "04/10/2022",
         "SA_REP",
         7200,
         147,
         80
        ],
        [
         165,
         "David",
         "Lee",
         "DLEE",
         "011.44.1346.529268",
         "05/10/2022",
         "SA_REP",
         6800,
         147,
         80
        ],
        [
         166,
         "Sundar",
         "Ande",
         "SANDE",
         "011.44.1346.629268",
         "06/09/2022",
         "SA_REP",
         6400,
         147,
         80
        ],
        [
         167,
         "Amit",
         "Banda",
         "ABANDA",
         "011.44.1346.729268",
         "07/07/2022",
         "SA_REP",
         6200,
         147,
         80
        ],
        [
         168,
         "Lisa",
         "Ozer",
         "LOZER",
         "011.44.1343.929268",
         "05/27/2019",
         "SA_REP",
         11500,
         148,
         80
        ],
        [
         169,
         "Harrison",
         "Bloom",
         "HBLOOM",
         "011.44.1343.829268",
         "06/07/2020",
         "SA_REP",
         10000,
         148,
         80
        ],
        [
         170,
         "Tayler",
         "Fox",
         "TFOX",
         "011.44.1343.729268",
         "04/10/2020",
         "SA_REP",
         9600,
         148,
         80
        ],
        [
         171,
         "William",
         "Smith",
         "WSMITH",
         "011.44.1343.629268",
         "05/10/2021",
         "SA_REP",
         7400,
         148,
         80
        ],
        [
         172,
         "Elizabeth",
         "Bates",
         "EBATES",
         "011.44.1343.529268",
         "06/08/2021",
         "SA_REP",
         7300,
         148,
         80
        ],
        [
         173,
         "Sundita",
         "Kumar",
         "SKUMAR",
         "011.44.1343.329268",
         "07/07/2022",
         "SA_REP",
         6100,
         148,
         80
        ],
        [
         174,
         "Ellen",
         "Abel",
         "EABEL",
         "011.44.1644.429267",
         "07/27/2018",
         "SA_REP",
         11000,
         149,
         80
        ],
        [
         175,
         "Alyssa",
         "Hutton",
         "AHUTTON",
         "011.44.1644.429266",
         "06/04/2019",
         "SA_REP",
         8800,
         149,
         80
        ],
        [
         176,
         "Jonathon",
         "Taylor",
         "JTAYLOR",
         "011.44.1644.429265",
         "06/08/2020",
         "SA_REP",
         8600,
         149,
         80
        ],
        [
         177,
         "Jack",
         "Livingston",
         "JLIVINGS",
         "011.44.1644.429264",
         "07/08/2020",
         "SA_REP",
         8400,
         149,
         80
        ],
        [
         178,
         "Kimberely",
         "Grant",
         "KGRANT",
         "011.44.1644.429263",
         "08/08/2021",
         "SA_REP",
         7000,
         149,
         null
        ],
        [
         179,
         "Charles",
         "Johnson",
         "CJOHNSON",
         "011.44.1644.429262",
         "03/21/2022",
         "SA_REP",
         6200,
         149,
         80
        ],
        [
         180,
         "Winston",
         "Taylor",
         "WTAYLOR",
         "650.507.9876",
         "04/10/2020",
         "SH_CLERK",
         3200,
         120,
         50
        ],
        [
         181,
         "Jean",
         "Fleaur",
         "JFLEAUR",
         "650.507.9877",
         "05/10/2020",
         "SH_CLERK",
         3100,
         120,
         50
        ],
        [
         182,
         "Martha",
         "Sullivan",
         "MSULLIVA",
         "650.507.9878",
         "09/05/2021",
         "SH_CLERK",
         2500,
         120,
         50
        ],
        [
         183,
         "Girard",
         "Geoni",
         "GGEONI",
         "650.507.9879",
         "04/20/2022",
         "SH_CLERK",
         2800,
         120,
         50
        ],
        [
         184,
         "Nandita",
         "Sarchand",
         "NSARCHAN",
         "650.509.1876",
         "04/13/2018",
         "SH_CLERK",
         4200,
         121,
         50
        ],
        [
         185,
         "Alexis",
         "Bull",
         "ABULL",
         "650.509.2876",
         "05/08/2019",
         "SH_CLERK",
         4100,
         121,
         50
        ],
        [
         186,
         "Julia",
         "Dellinger",
         "JDELLING",
         "650.509.3876",
         "09/08/2020",
         "SH_CLERK",
         3400,
         121,
         50
        ],
        [
         187,
         "Anthony",
         "Cabrio",
         "ACABRIO",
         "650.509.4876",
         "04/24/2021",
         "SH_CLERK",
         3000,
         121,
         50
        ],
        [
         188,
         "Kelly",
         "Chung",
         "KCHUNG",
         "650.505.1876",
         "08/30/2019",
         "SH_CLERK",
         3800,
         122,
         50
        ],
        [
         189,
         "Jennifer",
         "Dilly",
         "JDILLY",
         "650.505.2876",
         "10/29/2019",
         "SH_CLERK",
         3600,
         122,
         50
        ],
        [
         190,
         "Timothy",
         "Gates",
         "TGATES",
         "650.505.3876",
         "09/25/2020",
         "SH_CLERK",
         2900,
         122,
         50
        ],
        [
         191,
         "Randall",
         "Perkins",
         "RPERKINS",
         "650.505.4876",
         "03/05/2022",
         "SH_CLERK",
         2500,
         122,
         50
        ],
        [
         192,
         "Sarah",
         "Bell",
         "SBELL",
         "650.501.1876",
         "04/21/2018",
         "SH_CLERK",
         4000,
         123,
         50
        ],
        [
         193,
         "Britney",
         "Everett",
         "BEVERETT",
         "650.501.2876",
         "05/19/2019",
         "SH_CLERK",
         3900,
         123,
         50
        ],
        [
         194,
         "Samuel",
         "McCain",
         "SMCCAIN",
         "650.501.3876",
         "09/15/2020",
         "SH_CLERK",
         3200,
         123,
         50
        ],
        [
         195,
         "Vance",
         "Jones",
         "VJONES",
         "650.501.4876",
         "06/01/2021",
         "SH_CLERK",
         2800,
         123,
         50
        ],
        [
         196,
         "Alana",
         "Walsh",
         "AWALSH",
         "650.507.9811",
         "07/09/2020",
         "SH_CLERK",
         3100,
         124,
         50
        ],
        [
         197,
         "Kevin",
         "Feeney",
         "KFEENEY",
         "650.507.9822",
         "08/07/2020",
         "SH_CLERK",
         3000,
         124,
         50
        ],
        [
         198,
         "Donald",
         "OConnell",
         "DOCONNEL",
         "650.507.9833",
         "09/05/2021",
         "SH_CLERK",
         2600,
         124,
         50
        ],
        [
         199,
         "Douglas",
         "Grant",
         "DGRANT",
         "650.507.9844",
         "03/30/2022",
         "SH_CLERK",
         2600,
         124,
         50
        ],
        [
         200,
         "Jennifer",
         "Whalen",
         "JWHALEN",
         "515.123.4444",
         "12/02/2009",
         "AD_ASST",
         4400,
         101,
         10
        ],
        [
         201,
         "Michael",
         "Hartstein",
         "MHARTSTE",
         "515.123.5555",
         "05/04/2018",
         "MK_MAN",
         13000,
         100,
         20
        ],
        [
         202,
         "Pat",
         "Fay",
         "PFAY",
         "603.123.6666",
         "11/02/2019",
         "MK_REP",
         6000,
         201,
         20
        ],
        [
         203,
         "Susan",
         "Mavris",
         "SMAVRIS",
         "515.123.7777",
         "08/22/2016",
         "HR_REP",
         6500,
         101,
         40
        ],
        [
         204,
         "Hermann",
         "Baer",
         "HBAER",
         "515.123.8888",
         "08/22/2016",
         "PR_REP",
         10000,
         101,
         70
        ],
        [
         205,
         "Shelley",
         "Higgins",
         "SHIGGINS",
         "515.123.8080",
         "08/22/2016",
         "AC_MGR",
         12000,
         101,
         110
        ],
        [
         206,
         "William",
         "Gietz",
         "WGIETZ",
         "515.123.8181",
         "08/22/2016",
         "AC_ACCOUNT",
         8300,
         205,
         110
        ]
       ],
       "datasetInfos": [],
       "dbfsResultPath": null,
       "isJsonSchema": true,
       "metadata": {},
       "overflow": false,
       "plotOptions": {
        "customPlotOptions": {},
        "displayType": "table",
        "pivotAggregation": null,
        "pivotColumns": null,
        "xColumns": null,
        "yColumns": null
       },
       "removedWidgets": [],
       "schema": [
        {
         "metadata": "{}",
         "name": "EMPLOYEE_ID",
         "type": "\"integer\""
        },
        {
         "metadata": "{}",
         "name": "FIRST_NAME",
         "type": "\"string\""
        },
        {
         "metadata": "{}",
         "name": "LAST_NAME",
         "type": "\"string\""
        },
        {
         "metadata": "{}",
         "name": "EMAIL",
         "type": "\"string\""
        },
        {
         "metadata": "{}",
         "name": "PHONE",
         "type": "\"string\""
        },
        {
         "metadata": "{}",
         "name": "DATE_HIRED",
         "type": "\"string\""
        },
        {
         "metadata": "{}",
         "name": "JOB_ID",
         "type": "\"string\""
        },
        {
         "metadata": "{}",
         "name": "SALARY",
         "type": "\"integer\""
        },
        {
         "metadata": "{}",
         "name": "MANAGER_ID",
         "type": "\"integer\""
        },
        {
         "metadata": "{}",
         "name": "DEPARTMENT_ID",
         "type": "\"integer\""
        }
       ],
       "type": "table"
      }
     },
     "output_type": "display_data"
    }
   ],
   "source": [
    "employees = spark.read.csv(employees_path, header=True, schema=employees_schema)\n",
    "\n",
    "employees.display()"
   ]
  },
  {
   "cell_type": "code",
   "execution_count": 0,
   "metadata": {
    "application/vnd.databricks.v1+cell": {
     "cellMetadata": {
      "byteLimit": 2048000,
      "rowLimit": 10000
     },
     "inputWidgets": {},
     "nuid": "5e7737b9-ba54-44f5-ae6b-20d9044ef93a",
     "showTitle": false,
     "title": ""
    }
   },
   "outputs": [
    {
     "output_type": "display_data",
     "data": {
      "text/html": [
       "<style scoped>\n  .table-result-container {\n    max-height: 300px;\n    overflow: auto;\n  }\n  table, th, td {\n    border: 1px solid black;\n    border-collapse: collapse;\n  }\n  th, td {\n    padding: 5px;\n  }\n  th {\n    text-align: left;\n  }\n</style><div class='table-result-container'><table class='table-result'><thead style='background-color: white'><tr><th>DEPARTMENT_ID</th><th>DEPARTMENT_NAME</th></tr></thead><tbody><tr><td>10</td><td>Administration</td></tr><tr><td>20</td><td>Marketing</td></tr><tr><td>30</td><td>Purchasing</td></tr><tr><td>40</td><td>Human Resources</td></tr><tr><td>50</td><td>Shipping</td></tr><tr><td>60</td><td>IT</td></tr><tr><td>70</td><td>Public Relations</td></tr><tr><td>80</td><td>Sales</td></tr><tr><td>90</td><td>Executive</td></tr><tr><td>100</td><td>Finance</td></tr><tr><td>110</td><td>Accounting</td></tr><tr><td>120</td><td>Treasury</td></tr><tr><td>130</td><td>Corporate Tax</td></tr><tr><td>140</td><td>Control And Credit</td></tr><tr><td>150</td><td>Shareholder Services</td></tr><tr><td>160</td><td>Benefits</td></tr><tr><td>170</td><td>Manufacturing</td></tr><tr><td>180</td><td>Construction</td></tr><tr><td>190</td><td>Contracting</td></tr><tr><td>200</td><td>Operations</td></tr><tr><td>210</td><td>IT Support</td></tr><tr><td>220</td><td>NOC</td></tr><tr><td>230</td><td>IT Helpdesk</td></tr><tr><td>240</td><td>Government Sales</td></tr><tr><td>250</td><td>Retail Sales</td></tr><tr><td>260</td><td>Recruiting</td></tr><tr><td>270</td><td>Payroll</td></tr></tbody></table></div>"
      ]
     },
     "metadata": {
      "application/vnd.databricks.v1+output": {
       "addedWidgets": {},
       "aggData": [],
       "aggError": "",
       "aggOverflow": false,
       "aggSchema": [],
       "aggSeriesLimitReached": false,
       "aggType": "",
       "arguments": {},
       "columnCustomDisplayInfos": {},
       "data": [
        [
         10,
         "Administration"
        ],
        [
         20,
         "Marketing"
        ],
        [
         30,
         "Purchasing"
        ],
        [
         40,
         "Human Resources"
        ],
        [
         50,
         "Shipping"
        ],
        [
         60,
         "IT"
        ],
        [
         70,
         "Public Relations"
        ],
        [
         80,
         "Sales"
        ],
        [
         90,
         "Executive"
        ],
        [
         100,
         "Finance"
        ],
        [
         110,
         "Accounting"
        ],
        [
         120,
         "Treasury"
        ],
        [
         130,
         "Corporate Tax"
        ],
        [
         140,
         "Control And Credit"
        ],
        [
         150,
         "Shareholder Services"
        ],
        [
         160,
         "Benefits"
        ],
        [
         170,
         "Manufacturing"
        ],
        [
         180,
         "Construction"
        ],
        [
         190,
         "Contracting"
        ],
        [
         200,
         "Operations"
        ],
        [
         210,
         "IT Support"
        ],
        [
         220,
         "NOC"
        ],
        [
         230,
         "IT Helpdesk"
        ],
        [
         240,
         "Government Sales"
        ],
        [
         250,
         "Retail Sales"
        ],
        [
         260,
         "Recruiting"
        ],
        [
         270,
         "Payroll"
        ]
       ],
       "datasetInfos": [],
       "dbfsResultPath": null,
       "isJsonSchema": true,
       "metadata": {},
       "overflow": false,
       "plotOptions": {
        "customPlotOptions": {},
        "displayType": "table",
        "pivotAggregation": null,
        "pivotColumns": null,
        "xColumns": null,
        "yColumns": null
       },
       "removedWidgets": [],
       "schema": [
        {
         "metadata": "{}",
         "name": "DEPARTMENT_ID",
         "type": "\"integer\""
        },
        {
         "metadata": "{}",
         "name": "DEPARTMENT_NAME",
         "type": "\"string\""
        }
       ],
       "type": "table"
      }
     },
     "output_type": "display_data"
    }
   ],
   "source": [
    "departments = spark.read.csv(departments_path, header=True, \n",
    "                            schema=departments_schema)\n",
    "\n",
    "departments.display()"
   ]
  },
  {
   "cell_type": "code",
   "execution_count": 0,
   "metadata": {
    "application/vnd.databricks.v1+cell": {
     "cellMetadata": {
      "byteLimit": 2048000,
      "rowLimit": 10000
     },
     "inputWidgets": {},
     "nuid": "dc44b42c-2a96-437a-9d31-2d3d119ec8c9",
     "showTitle": false,
     "title": ""
    }
   },
   "outputs": [
    {
     "output_type": "display_data",
     "data": {
      "text/html": [
       "<style scoped>\n  .table-result-container {\n    max-height: 300px;\n    overflow: auto;\n  }\n  table, th, td {\n    border: 1px solid black;\n    border-collapse: collapse;\n  }\n  th, td {\n    padding: 5px;\n  }\n  th {\n    text-align: left;\n  }\n</style><div class='table-result-container'><table class='table-result'><thead style='background-color: white'><tr><th>COUNTRY_ID</th><th>COUNTRY_NAME</th></tr></thead><tbody><tr><td>AR</td><td>Argentina</td></tr><tr><td>AU</td><td>Australia</td></tr><tr><td>BE</td><td>Belgium</td></tr><tr><td>BR</td><td>Brazil</td></tr><tr><td>CA</td><td>Canada</td></tr><tr><td>CH</td><td>Switzerland</td></tr><tr><td>CN</td><td>China</td></tr><tr><td>DE</td><td>Germany</td></tr><tr><td>DK</td><td>Denmark</td></tr><tr><td>EG</td><td>Egypt</td></tr><tr><td>FR</td><td>France</td></tr><tr><td>HK</td><td>HongKong</td></tr><tr><td>IL</td><td>Israel</td></tr><tr><td>IN</td><td>India</td></tr><tr><td>IT</td><td>Italy</td></tr><tr><td>JP</td><td>Japan</td></tr><tr><td>KW</td><td>Kuwait</td></tr><tr><td>MX</td><td>Mexico</td></tr><tr><td>NG</td><td>Nigeria</td></tr><tr><td>NL</td><td>Netherlands</td></tr><tr><td>SG</td><td>Singapore</td></tr><tr><td>UK</td><td>United Kingdom</td></tr><tr><td>US</td><td>United States of America</td></tr><tr><td>ZM</td><td>Zambia</td></tr><tr><td>ZW</td><td>Zimbabwe</td></tr></tbody></table></div>"
      ]
     },
     "metadata": {
      "application/vnd.databricks.v1+output": {
       "addedWidgets": {},
       "aggData": [],
       "aggError": "",
       "aggOverflow": false,
       "aggSchema": [],
       "aggSeriesLimitReached": false,
       "aggType": "",
       "arguments": {},
       "columnCustomDisplayInfos": {},
       "data": [
        [
         "AR",
         "Argentina"
        ],
        [
         "AU",
         "Australia"
        ],
        [
         "BE",
         "Belgium"
        ],
        [
         "BR",
         "Brazil"
        ],
        [
         "CA",
         "Canada"
        ],
        [
         "CH",
         "Switzerland"
        ],
        [
         "CN",
         "China"
        ],
        [
         "DE",
         "Germany"
        ],
        [
         "DK",
         "Denmark"
        ],
        [
         "EG",
         "Egypt"
        ],
        [
         "FR",
         "France"
        ],
        [
         "HK",
         "HongKong"
        ],
        [
         "IL",
         "Israel"
        ],
        [
         "IN",
         "India"
        ],
        [
         "IT",
         "Italy"
        ],
        [
         "JP",
         "Japan"
        ],
        [
         "KW",
         "Kuwait"
        ],
        [
         "MX",
         "Mexico"
        ],
        [
         "NG",
         "Nigeria"
        ],
        [
         "NL",
         "Netherlands"
        ],
        [
         "SG",
         "Singapore"
        ],
        [
         "UK",
         "United Kingdom"
        ],
        [
         "US",
         "United States of America"
        ],
        [
         "ZM",
         "Zambia"
        ],
        [
         "ZW",
         "Zimbabwe"
        ]
       ],
       "datasetInfos": [],
       "dbfsResultPath": null,
       "isJsonSchema": true,
       "metadata": {},
       "overflow": false,
       "plotOptions": {
        "customPlotOptions": {},
        "displayType": "table",
        "pivotAggregation": null,
        "pivotColumns": null,
        "xColumns": null,
        "yColumns": null
       },
       "removedWidgets": [],
       "schema": [
        {
         "metadata": "{}",
         "name": "COUNTRY_ID",
         "type": "\"string\""
        },
        {
         "metadata": "{}",
         "name": "COUNTRY_NAME",
         "type": "\"string\""
        }
       ],
       "type": "table"
      }
     },
     "output_type": "display_data"
    }
   ],
   "source": [
    "countries = spark.read.csv(countries_path, header=True, \n",
    "                          schema=countries_schema)\n",
    "\n",
    "countries.display()"
   ]
  },
  {
   "cell_type": "code",
   "execution_count": 0,
   "metadata": {
    "application/vnd.databricks.v1+cell": {
     "cellMetadata": {
      "byteLimit": 2048000,
      "rowLimit": 10000
     },
     "inputWidgets": {},
     "nuid": "6e3fca52-09b1-44b1-a0a4-697b2ec752ed",
     "showTitle": false,
     "title": ""
    }
   },
   "outputs": [
    {
     "output_type": "display_data",
     "data": {
      "text/html": [
       "<style scoped>\n  .ansiout {\n    display: block;\n    unicode-bidi: embed;\n    white-space: pre-wrap;\n    word-wrap: break-word;\n    word-break: break-all;\n    font-family: \"Source Code Pro\", \"Menlo\", monospace;;\n    font-size: 13px;\n    color: #555;\n    margin-left: 4px;\n    line-height: 19px;\n  }\n</style>\n<div class=\"ansiout\"></div>"
      ]
     },
     "metadata": {
      "application/vnd.databricks.v1+output": {
       "addedWidgets": {},
       "arguments": {},
       "data": "<div class=\"ansiout\"></div>",
       "datasetInfos": [],
       "metadata": {},
       "removedWidgets": [],
       "type": "html"
      }
     },
     "output_type": "display_data"
    }
   ],
   "source": [
    "from pyspark.sql.functions import *"
   ]
  },
  {
   "cell_type": "code",
   "execution_count": 0,
   "metadata": {
    "application/vnd.databricks.v1+cell": {
     "cellMetadata": {
      "byteLimit": 2048000,
      "rowLimit": 10000
     },
     "inputWidgets": {},
     "nuid": "edc2198c-2f01-494d-ab34-ec225c354a12",
     "showTitle": false,
     "title": ""
    }
   },
   "outputs": [
    {
     "output_type": "display_data",
     "data": {
      "text/html": [
       "<style scoped>\n  .table-result-container {\n    max-height: 300px;\n    overflow: auto;\n  }\n  table, th, td {\n    border: 1px solid black;\n    border-collapse: collapse;\n  }\n  th, td {\n    padding: 5px;\n  }\n  th {\n    text-align: left;\n  }\n</style><div class='table-result-container'><table class='table-result'><thead style='background-color: white'><tr><th>EMPLOYEE_ID</th><th>FIRST_NAME</th><th>LAST_NAME</th><th>EMAIL</th><th>PHONE</th><th>DATE_HIRED</th><th>JOB_ID</th><th>SALARY</th><th>MANAGER_ID</th><th>DEPARTMENT_ID</th><th>HIRE_DATE</th></tr></thead><tbody><tr><td>100</td><td>Steven</td><td>King</td><td>SKING</td><td>515.123.4567</td><td>09/01/2009</td><td>AD_PRES</td><td>24000</td><td>null</td><td>90</td><td>2009-09-01</td></tr><tr><td>101</td><td>Neena</td><td>Kochhar</td><td>NKOCHHAR</td><td>515.123.4568</td><td>12/07/2011</td><td>AD_VP</td><td>17000</td><td>100</td><td>90</td><td>2011-12-07</td></tr><tr><td>102</td><td>Lex</td><td>De Haan</td><td>LDEHAAN</td><td>515.123.4569</td><td>03/31/2015</td><td>AD_VP</td><td>17000</td><td>100</td><td>90</td><td>2015-03-31</td></tr><tr><td>103</td><td>Alexander</td><td>Hunold</td><td>AHUNOLD</td><td>590.423.4567</td><td>03/20/2012</td><td>IT_PROG</td><td>9000</td><td>102</td><td>60</td><td>2012-03-20</td></tr><tr><td>104</td><td>Bruce</td><td>Ernst</td><td>BERNST</td><td>590.423.4568</td><td>08/05/2013</td><td>IT_PROG</td><td>6000</td><td>103</td><td>60</td><td>2013-08-05</td></tr><tr><td>105</td><td>David</td><td>Austin</td><td>DAUSTIN</td><td>590.423.4569</td><td>09/10/2019</td><td>IT_PROG</td><td>4800</td><td>103</td><td>60</td><td>2019-09-10</td></tr><tr><td>106</td><td>Valli</td><td>Pataballa</td><td>VPATABAL</td><td>590.423.4560</td><td>04/22/2020</td><td>IT_PROG</td><td>4800</td><td>103</td><td>60</td><td>2020-04-22</td></tr><tr><td>107</td><td>Diana</td><td>Lorentz</td><td>DLORENTZ</td><td>590.423.5567</td><td>04/24/2021</td><td>IT_PROG</td><td>4200</td><td>103</td><td>60</td><td>2021-04-24</td></tr><tr><td>108</td><td>Nancy</td><td>Greenberg</td><td>NGREENBE</td><td>515.124.4569</td><td>11/01/2016</td><td>FI_MGR</td><td>12000</td><td>101</td><td>100</td><td>2016-11-01</td></tr><tr><td>109</td><td>Daniel</td><td>Faviet</td><td>DFAVIET</td><td>515.124.4169</td><td>10/31/2016</td><td>FI_ACCOUNT</td><td>9000</td><td>108</td><td>100</td><td>2016-10-31</td></tr><tr><td>110</td><td>John</td><td>Chen</td><td>JCHEN</td><td>515.124.4269</td><td>12/14/2019</td><td>FI_ACCOUNT</td><td>8200</td><td>108</td><td>100</td><td>2019-12-14</td></tr><tr><td>111</td><td>Ismael</td><td>Sciarra</td><td>ISCIARRA</td><td>515.124.4369</td><td>12/16/2019</td><td>FI_ACCOUNT</td><td>7700</td><td>108</td><td>100</td><td>2019-12-16</td></tr><tr><td>112</td><td>Jose Manuel</td><td>Urman</td><td>JMURMAN</td><td>515.124.4469</td><td>05/22/2020</td><td>FI_ACCOUNT</td><td>7800</td><td>108</td><td>100</td><td>2020-05-22</td></tr><tr><td>113</td><td>Luis</td><td>Popp</td><td>LPOPP</td><td>515.124.4567</td><td>02/21/2022</td><td>FI_ACCOUNT</td><td>6900</td><td>108</td><td>100</td><td>2022-02-21</td></tr><tr><td>114</td><td>Den</td><td>Raphaely</td><td>DRAPHEAL</td><td>515.127.4561</td><td>02/21/2017</td><td>PU_MAN</td><td>11000</td><td>100</td><td>30</td><td>2017-02-21</td></tr><tr><td>115</td><td>Alexander</td><td>Khoo</td><td>AKHOO</td><td>515.127.4562</td><td>08/02/2017</td><td>PU_CLERK</td><td>3100</td><td>114</td><td>30</td><td>2017-08-02</td></tr><tr><td>116</td><td>Shelli</td><td>Baida</td><td>SBAIDA</td><td>515.127.4563</td><td>03/10/2020</td><td>PU_CLERK</td><td>2900</td><td>114</td><td>30</td><td>2020-03-10</td></tr><tr><td>117</td><td>Sigal</td><td>Tobias</td><td>STOBIAS</td><td>515.127.4564</td><td>10/09/2019</td><td>PU_CLERK</td><td>2800</td><td>114</td><td>30</td><td>2019-10-09</td></tr><tr><td>118</td><td>Guy</td><td>Himuro</td><td>GHIMURO</td><td>515.127.4565</td><td>01/30/2021</td><td>PU_CLERK</td><td>2600</td><td>114</td><td>30</td><td>2021-01-30</td></tr><tr><td>119</td><td>Karen</td><td>Colmenares</td><td>KCOLMENA</td><td>515.127.4566</td><td>10/25/2021</td><td>PU_CLERK</td><td>2500</td><td>114</td><td>30</td><td>2021-10-25</td></tr><tr><td>120</td><td>Matthew</td><td>Weiss</td><td>MWEISS</td><td>650.123.1234</td><td>10/03/2018</td><td>ST_MAN</td><td>8000</td><td>100</td><td>50</td><td>2018-10-03</td></tr><tr><td>121</td><td>Adam</td><td>Fripp</td><td>AFRIPP</td><td>650.123.2234</td><td>06/26/2019</td><td>ST_MAN</td><td>8200</td><td>100</td><td>50</td><td>2019-06-26</td></tr><tr><td>122</td><td>Payam</td><td>Kaufling</td><td>PKAUFLIN</td><td>650.123.3234</td><td>07/16/2017</td><td>ST_MAN</td><td>7900</td><td>100</td><td>50</td><td>2017-07-16</td></tr><tr><td>123</td><td>Shanta</td><td>Vollman</td><td>SVOLLMAN</td><td>650.123.4234</td><td>12/26/2019</td><td>ST_MAN</td><td>6500</td><td>100</td><td>50</td><td>2019-12-26</td></tr><tr><td>124</td><td>Kevin</td><td>Mourgos</td><td>KMOURGOS</td><td>650.123.5234</td><td>01/31/2022</td><td>ST_MAN</td><td>5800</td><td>100</td><td>50</td><td>2022-01-31</td></tr><tr><td>125</td><td>Julia</td><td>Nayer</td><td>JNAYER</td><td>650.124.1214</td><td>10/01/2019</td><td>ST_CLERK</td><td>3200</td><td>120</td><td>50</td><td>2019-10-01</td></tr><tr><td>126</td><td>Irene</td><td>Mikkilineni</td><td>IMIKKILI</td><td>650.124.1224</td><td>12/13/2020</td><td>ST_CLERK</td><td>2700</td><td>120</td><td>50</td><td>2020-12-13</td></tr><tr><td>127</td><td>James</td><td>Landry</td><td>JLANDRY</td><td>650.124.1334</td><td>03/31/2021</td><td>ST_CLERK</td><td>2400</td><td>120</td><td>50</td><td>2021-03-31</td></tr><tr><td>128</td><td>Steven</td><td>Markle</td><td>SMARKLE</td><td>650.124.1434</td><td>05/24/2022</td><td>ST_CLERK</td><td>2200</td><td>120</td><td>50</td><td>2022-05-24</td></tr><tr><td>129</td><td>Laura</td><td>Bissot</td><td>LBISSOT</td><td>650.124.5234</td><td>11/05/2019</td><td>ST_CLERK</td><td>3300</td><td>121</td><td>50</td><td>2019-11-05</td></tr><tr><td>130</td><td>Mozhe</td><td>Atkinson</td><td>MATKINSO</td><td>650.124.6234</td><td>01/15/2020</td><td>ST_CLERK</td><td>2800</td><td>121</td><td>50</td><td>2020-01-15</td></tr><tr><td>131</td><td>James</td><td>Marlow</td><td>JAMRLOW</td><td>650.124.7234</td><td>05/04/2019</td><td>ST_CLERK</td><td>2500</td><td>121</td><td>50</td><td>2019-05-04</td></tr><tr><td>132</td><td>TJ</td><td>Olson</td><td>TJOLSON</td><td>650.124.8234</td><td>06/25/2021</td><td>ST_CLERK</td><td>2100</td><td>121</td><td>50</td><td>2021-06-25</td></tr><tr><td>133</td><td>Jason</td><td>Mallin</td><td>JMALLIN</td><td>650.127.1934</td><td>08/30/2018</td><td>ST_CLERK</td><td>3300</td><td>122</td><td>50</td><td>2018-08-30</td></tr><tr><td>134</td><td>Michael</td><td>Rogers</td><td>MROGERS</td><td>650.127.1834</td><td>11/10/2020</td><td>ST_CLERK</td><td>2900</td><td>122</td><td>50</td><td>2020-11-10</td></tr><tr><td>135</td><td>Ki</td><td>Gee</td><td>KGEE</td><td>650.127.1734</td><td>02/26/2022</td><td>ST_CLERK</td><td>2400</td><td>122</td><td>50</td><td>2022-02-26</td></tr><tr><td>136</td><td>Hazel</td><td>Philtanker</td><td>HPHILTAN</td><td>650.127.1634</td><td>04/23/2022</td><td>ST_CLERK</td><td>2200</td><td>122</td><td>50</td><td>2022-04-23</td></tr><tr><td>137</td><td>Renske</td><td>Ladwig</td><td>RLADWIG</td><td>650.121.1234</td><td>09/28/2017</td><td>ST_CLERK</td><td>3600</td><td>123</td><td>50</td><td>2017-09-28</td></tr><tr><td>138</td><td>Stephen</td><td>Stiles</td><td>SSTILES</td><td>650.121.2034</td><td>01/11/2020</td><td>ST_CLERK</td><td>3200</td><td>123</td><td>50</td><td>2020-01-11</td></tr><tr><td>139</td><td>John</td><td>Seo</td><td>JSEO</td><td>650.121.2019</td><td>04/29/2020</td><td>ST_CLERK</td><td>2700</td><td>123</td><td>50</td><td>2020-04-29</td></tr><tr><td>140</td><td>Joshua</td><td>Patel</td><td>JPATEL</td><td>650.121.1834</td><td>06/21/2020</td><td>ST_CLERK</td><td>2500</td><td>123</td><td>50</td><td>2020-06-21</td></tr><tr><td>141</td><td>Trenna</td><td>Rajs</td><td>TRAJS</td><td>650.121.8009</td><td>01/01/2018</td><td>ST_CLERK</td><td>3500</td><td>124</td><td>50</td><td>2018-01-01</td></tr><tr><td>142</td><td>Curtis</td><td>Davies</td><td>CDAVIES</td><td>650.121.2994</td><td>04/16/2019</td><td>ST_CLERK</td><td>3100</td><td>124</td><td>50</td><td>2019-04-16</td></tr><tr><td>143</td><td>Randall</td><td>Matos</td><td>RMATOS</td><td>650.121.2874</td><td>05/30/2020</td><td>ST_CLERK</td><td>2600</td><td>124</td><td>50</td><td>2020-05-30</td></tr><tr><td>144</td><td>Peter</td><td>Vargas</td><td>PVARGAS</td><td>650.121.2004</td><td>09/23/2020</td><td>ST_CLERK</td><td>2500</td><td>124</td><td>50</td><td>2020-09-23</td></tr><tr><td>145</td><td>John</td><td>Russell</td><td>JRUSSEL</td><td>011.44.1344.429268</td><td>12/17/2018</td><td>SA_MAN</td><td>14000</td><td>100</td><td>80</td><td>2018-12-17</td></tr><tr><td>146</td><td>Karen</td><td>Partners</td><td>KPARTNER</td><td>011.44.1344.467268</td><td>03/23/2019</td><td>SA_MAN</td><td>13500</td><td>100</td><td>80</td><td>2019-03-23</td></tr><tr><td>147</td><td>Alberto</td><td>Errazuriz</td><td>AERRAZUR</td><td>011.44.1344.429278</td><td>05/26/2019</td><td>SA_MAN</td><td>12000</td><td>100</td><td>80</td><td>2019-05-26</td></tr><tr><td>148</td><td>Gerald</td><td>Cambrault</td><td>GCAMBRAU</td><td>011.44.1344.619268</td><td>12/30/2021</td><td>SA_MAN</td><td>11000</td><td>100</td><td>80</td><td>2021-12-30</td></tr><tr><td>149</td><td>Eleni</td><td>Zlotkey</td><td>EZLOTKEY</td><td>011.44.1344.429018</td><td>04/15/2022</td><td>SA_MAN</td><td>10500</td><td>100</td><td>80</td><td>2022-04-15</td></tr><tr><td>150</td><td>Peter</td><td>Tucker</td><td>PTUCKER</td><td>011.44.1344.129268</td><td>04/17/2019</td><td>SA_REP</td><td>10000</td><td>145</td><td>80</td><td>2019-04-17</td></tr><tr><td>151</td><td>David</td><td>Bernstein</td><td>DBERNSTE</td><td>011.44.1344.345268</td><td>06/09/2019</td><td>SA_REP</td><td>9500</td><td>145</td><td>80</td><td>2019-06-09</td></tr><tr><td>152</td><td>Peter</td><td>Hall</td><td>PHALL</td><td>011.44.1344.478968</td><td>11/05/2019</td><td>SA_REP</td><td>9000</td><td>145</td><td>80</td><td>2019-11-05</td></tr><tr><td>153</td><td>Christopher</td><td>Olsen</td><td>COLSEN</td><td>011.44.1344.498718</td><td>06/14/2020</td><td>SA_REP</td><td>8000</td><td>145</td><td>80</td><td>2020-06-14</td></tr><tr><td>154</td><td>Nanette</td><td>Cambrault</td><td>NCAMBRAU</td><td>011.44.1344.987668</td><td>02/23/2021</td><td>SA_REP</td><td>7500</td><td>145</td><td>80</td><td>2021-02-23</td></tr><tr><td>155</td><td>Oliver</td><td>Tuvault</td><td>OTUVAULT</td><td>011.44.1344.486508</td><td>02/07/2022</td><td>SA_REP</td><td>7000</td><td>145</td><td>80</td><td>2022-02-07</td></tr><tr><td>156</td><td>Janette</td><td>King</td><td>JKING</td><td>011.44.1345.429268</td><td>04/16/2018</td><td>SA_REP</td><td>10000</td><td>146</td><td>80</td><td>2018-04-16</td></tr><tr><td>157</td><td>Patrick</td><td>Sully</td><td>PSULLY</td><td>011.44.1345.929268</td><td>05/20/2018</td><td>SA_REP</td><td>9500</td><td>146</td><td>80</td><td>2018-05-20</td></tr><tr><td>158</td><td>Allan</td><td>McEwen</td><td>AMCEWEN</td><td>011.44.1345.829268</td><td>10/17/2018</td><td>SA_REP</td><td>9000</td><td>146</td><td>80</td><td>2018-10-17</td></tr><tr><td>159</td><td>Lindsey</td><td>Smith</td><td>LSMITH</td><td>011.44.1345.729268</td><td>05/26/2019</td><td>SA_REP</td><td>8000</td><td>146</td><td>80</td><td>2019-05-26</td></tr><tr><td>160</td><td>Louise</td><td>Doran</td><td>LDORAN</td><td>011.44.1345.629268</td><td>03/01/2020</td><td>SA_REP</td><td>7500</td><td>146</td><td>80</td><td>2020-03-01</td></tr><tr><td>161</td><td>Sarath</td><td>Sewall</td><td>SSEWALL</td><td>011.44.1345.529268</td><td>01/18/2021</td><td>SA_REP</td><td>7000</td><td>146</td><td>80</td><td>2021-01-18</td></tr><tr><td>162</td><td>Clara</td><td>Vishney</td><td>CVISHNEY</td><td>011.44.1346.129268</td><td>01/27/2020</td><td>SA_REP</td><td>10500</td><td>147</td><td>80</td><td>2020-01-27</td></tr><tr><td>163</td><td>Danielle</td><td>Greene</td><td>DGREENE</td><td>011.44.1346.229268</td><td>06/03/2021</td><td>SA_REP</td><td>9500</td><td>147</td><td>80</td><td>2021-06-03</td></tr><tr><td>164</td><td>Mattea</td><td>Marvins</td><td>MMARVINS</td><td>011.44.1346.329268</td><td>04/10/2022</td><td>SA_REP</td><td>7200</td><td>147</td><td>80</td><td>2022-04-10</td></tr><tr><td>165</td><td>David</td><td>Lee</td><td>DLEE</td><td>011.44.1346.529268</td><td>05/10/2022</td><td>SA_REP</td><td>6800</td><td>147</td><td>80</td><td>2022-05-10</td></tr><tr><td>166</td><td>Sundar</td><td>Ande</td><td>SANDE</td><td>011.44.1346.629268</td><td>06/09/2022</td><td>SA_REP</td><td>6400</td><td>147</td><td>80</td><td>2022-06-09</td></tr><tr><td>167</td><td>Amit</td><td>Banda</td><td>ABANDA</td><td>011.44.1346.729268</td><td>07/07/2022</td><td>SA_REP</td><td>6200</td><td>147</td><td>80</td><td>2022-07-07</td></tr><tr><td>168</td><td>Lisa</td><td>Ozer</td><td>LOZER</td><td>011.44.1343.929268</td><td>05/27/2019</td><td>SA_REP</td><td>11500</td><td>148</td><td>80</td><td>2019-05-27</td></tr><tr><td>169</td><td>Harrison</td><td>Bloom</td><td>HBLOOM</td><td>011.44.1343.829268</td><td>06/07/2020</td><td>SA_REP</td><td>10000</td><td>148</td><td>80</td><td>2020-06-07</td></tr><tr><td>170</td><td>Tayler</td><td>Fox</td><td>TFOX</td><td>011.44.1343.729268</td><td>04/10/2020</td><td>SA_REP</td><td>9600</td><td>148</td><td>80</td><td>2020-04-10</td></tr><tr><td>171</td><td>William</td><td>Smith</td><td>WSMITH</td><td>011.44.1343.629268</td><td>05/10/2021</td><td>SA_REP</td><td>7400</td><td>148</td><td>80</td><td>2021-05-10</td></tr><tr><td>172</td><td>Elizabeth</td><td>Bates</td><td>EBATES</td><td>011.44.1343.529268</td><td>06/08/2021</td><td>SA_REP</td><td>7300</td><td>148</td><td>80</td><td>2021-06-08</td></tr><tr><td>173</td><td>Sundita</td><td>Kumar</td><td>SKUMAR</td><td>011.44.1343.329268</td><td>07/07/2022</td><td>SA_REP</td><td>6100</td><td>148</td><td>80</td><td>2022-07-07</td></tr><tr><td>174</td><td>Ellen</td><td>Abel</td><td>EABEL</td><td>011.44.1644.429267</td><td>07/27/2018</td><td>SA_REP</td><td>11000</td><td>149</td><td>80</td><td>2018-07-27</td></tr><tr><td>175</td><td>Alyssa</td><td>Hutton</td><td>AHUTTON</td><td>011.44.1644.429266</td><td>06/04/2019</td><td>SA_REP</td><td>8800</td><td>149</td><td>80</td><td>2019-06-04</td></tr><tr><td>176</td><td>Jonathon</td><td>Taylor</td><td>JTAYLOR</td><td>011.44.1644.429265</td><td>06/08/2020</td><td>SA_REP</td><td>8600</td><td>149</td><td>80</td><td>2020-06-08</td></tr><tr><td>177</td><td>Jack</td><td>Livingston</td><td>JLIVINGS</td><td>011.44.1644.429264</td><td>07/08/2020</td><td>SA_REP</td><td>8400</td><td>149</td><td>80</td><td>2020-07-08</td></tr><tr><td>178</td><td>Kimberely</td><td>Grant</td><td>KGRANT</td><td>011.44.1644.429263</td><td>08/08/2021</td><td>SA_REP</td><td>7000</td><td>149</td><td>null</td><td>2021-08-08</td></tr><tr><td>179</td><td>Charles</td><td>Johnson</td><td>CJOHNSON</td><td>011.44.1644.429262</td><td>03/21/2022</td><td>SA_REP</td><td>6200</td><td>149</td><td>80</td><td>2022-03-21</td></tr><tr><td>180</td><td>Winston</td><td>Taylor</td><td>WTAYLOR</td><td>650.507.9876</td><td>04/10/2020</td><td>SH_CLERK</td><td>3200</td><td>120</td><td>50</td><td>2020-04-10</td></tr><tr><td>181</td><td>Jean</td><td>Fleaur</td><td>JFLEAUR</td><td>650.507.9877</td><td>05/10/2020</td><td>SH_CLERK</td><td>3100</td><td>120</td><td>50</td><td>2020-05-10</td></tr><tr><td>182</td><td>Martha</td><td>Sullivan</td><td>MSULLIVA</td><td>650.507.9878</td><td>09/05/2021</td><td>SH_CLERK</td><td>2500</td><td>120</td><td>50</td><td>2021-09-05</td></tr><tr><td>183</td><td>Girard</td><td>Geoni</td><td>GGEONI</td><td>650.507.9879</td><td>04/20/2022</td><td>SH_CLERK</td><td>2800</td><td>120</td><td>50</td><td>2022-04-20</td></tr><tr><td>184</td><td>Nandita</td><td>Sarchand</td><td>NSARCHAN</td><td>650.509.1876</td><td>04/13/2018</td><td>SH_CLERK</td><td>4200</td><td>121</td><td>50</td><td>2018-04-13</td></tr><tr><td>185</td><td>Alexis</td><td>Bull</td><td>ABULL</td><td>650.509.2876</td><td>05/08/2019</td><td>SH_CLERK</td><td>4100</td><td>121</td><td>50</td><td>2019-05-08</td></tr><tr><td>186</td><td>Julia</td><td>Dellinger</td><td>JDELLING</td><td>650.509.3876</td><td>09/08/2020</td><td>SH_CLERK</td><td>3400</td><td>121</td><td>50</td><td>2020-09-08</td></tr><tr><td>187</td><td>Anthony</td><td>Cabrio</td><td>ACABRIO</td><td>650.509.4876</td><td>04/24/2021</td><td>SH_CLERK</td><td>3000</td><td>121</td><td>50</td><td>2021-04-24</td></tr><tr><td>188</td><td>Kelly</td><td>Chung</td><td>KCHUNG</td><td>650.505.1876</td><td>08/30/2019</td><td>SH_CLERK</td><td>3800</td><td>122</td><td>50</td><td>2019-08-30</td></tr><tr><td>189</td><td>Jennifer</td><td>Dilly</td><td>JDILLY</td><td>650.505.2876</td><td>10/29/2019</td><td>SH_CLERK</td><td>3600</td><td>122</td><td>50</td><td>2019-10-29</td></tr><tr><td>190</td><td>Timothy</td><td>Gates</td><td>TGATES</td><td>650.505.3876</td><td>09/25/2020</td><td>SH_CLERK</td><td>2900</td><td>122</td><td>50</td><td>2020-09-25</td></tr><tr><td>191</td><td>Randall</td><td>Perkins</td><td>RPERKINS</td><td>650.505.4876</td><td>03/05/2022</td><td>SH_CLERK</td><td>2500</td><td>122</td><td>50</td><td>2022-03-05</td></tr><tr><td>192</td><td>Sarah</td><td>Bell</td><td>SBELL</td><td>650.501.1876</td><td>04/21/2018</td><td>SH_CLERK</td><td>4000</td><td>123</td><td>50</td><td>2018-04-21</td></tr><tr><td>193</td><td>Britney</td><td>Everett</td><td>BEVERETT</td><td>650.501.2876</td><td>05/19/2019</td><td>SH_CLERK</td><td>3900</td><td>123</td><td>50</td><td>2019-05-19</td></tr><tr><td>194</td><td>Samuel</td><td>McCain</td><td>SMCCAIN</td><td>650.501.3876</td><td>09/15/2020</td><td>SH_CLERK</td><td>3200</td><td>123</td><td>50</td><td>2020-09-15</td></tr><tr><td>195</td><td>Vance</td><td>Jones</td><td>VJONES</td><td>650.501.4876</td><td>06/01/2021</td><td>SH_CLERK</td><td>2800</td><td>123</td><td>50</td><td>2021-06-01</td></tr><tr><td>196</td><td>Alana</td><td>Walsh</td><td>AWALSH</td><td>650.507.9811</td><td>07/09/2020</td><td>SH_CLERK</td><td>3100</td><td>124</td><td>50</td><td>2020-07-09</td></tr><tr><td>197</td><td>Kevin</td><td>Feeney</td><td>KFEENEY</td><td>650.507.9822</td><td>08/07/2020</td><td>SH_CLERK</td><td>3000</td><td>124</td><td>50</td><td>2020-08-07</td></tr><tr><td>198</td><td>Donald</td><td>OConnell</td><td>DOCONNEL</td><td>650.507.9833</td><td>09/05/2021</td><td>SH_CLERK</td><td>2600</td><td>124</td><td>50</td><td>2021-09-05</td></tr><tr><td>199</td><td>Douglas</td><td>Grant</td><td>DGRANT</td><td>650.507.9844</td><td>03/30/2022</td><td>SH_CLERK</td><td>2600</td><td>124</td><td>50</td><td>2022-03-30</td></tr><tr><td>200</td><td>Jennifer</td><td>Whalen</td><td>JWHALEN</td><td>515.123.4444</td><td>12/02/2009</td><td>AD_ASST</td><td>4400</td><td>101</td><td>10</td><td>2009-12-02</td></tr><tr><td>201</td><td>Michael</td><td>Hartstein</td><td>MHARTSTE</td><td>515.123.5555</td><td>05/04/2018</td><td>MK_MAN</td><td>13000</td><td>100</td><td>20</td><td>2018-05-04</td></tr><tr><td>202</td><td>Pat</td><td>Fay</td><td>PFAY</td><td>603.123.6666</td><td>11/02/2019</td><td>MK_REP</td><td>6000</td><td>201</td><td>20</td><td>2019-11-02</td></tr><tr><td>203</td><td>Susan</td><td>Mavris</td><td>SMAVRIS</td><td>515.123.7777</td><td>08/22/2016</td><td>HR_REP</td><td>6500</td><td>101</td><td>40</td><td>2016-08-22</td></tr><tr><td>204</td><td>Hermann</td><td>Baer</td><td>HBAER</td><td>515.123.8888</td><td>08/22/2016</td><td>PR_REP</td><td>10000</td><td>101</td><td>70</td><td>2016-08-22</td></tr><tr><td>205</td><td>Shelley</td><td>Higgins</td><td>SHIGGINS</td><td>515.123.8080</td><td>08/22/2016</td><td>AC_MGR</td><td>12000</td><td>101</td><td>110</td><td>2016-08-22</td></tr><tr><td>206</td><td>William</td><td>Gietz</td><td>WGIETZ</td><td>515.123.8181</td><td>08/22/2016</td><td>AC_ACCOUNT</td><td>8300</td><td>205</td><td>110</td><td>2016-08-22</td></tr></tbody></table></div>"
      ]
     },
     "metadata": {
      "application/vnd.databricks.v1+output": {
       "addedWidgets": {},
       "aggData": [],
       "aggError": "",
       "aggOverflow": false,
       "aggSchema": [],
       "aggSeriesLimitReached": false,
       "aggType": "",
       "arguments": {},
       "columnCustomDisplayInfos": {},
       "data": [
        [
         100,
         "Steven",
         "King",
         "SKING",
         "515.123.4567",
         "09/01/2009",
         "AD_PRES",
         24000,
         null,
         90,
         "2009-09-01"
        ],
        [
         101,
         "Neena",
         "Kochhar",
         "NKOCHHAR",
         "515.123.4568",
         "12/07/2011",
         "AD_VP",
         17000,
         100,
         90,
         "2011-12-07"
        ],
        [
         102,
         "Lex",
         "De Haan",
         "LDEHAAN",
         "515.123.4569",
         "03/31/2015",
         "AD_VP",
         17000,
         100,
         90,
         "2015-03-31"
        ],
        [
         103,
         "Alexander",
         "Hunold",
         "AHUNOLD",
         "590.423.4567",
         "03/20/2012",
         "IT_PROG",
         9000,
         102,
         60,
         "2012-03-20"
        ],
        [
         104,
         "Bruce",
         "Ernst",
         "BERNST",
         "590.423.4568",
         "08/05/2013",
         "IT_PROG",
         6000,
         103,
         60,
         "2013-08-05"
        ],
        [
         105,
         "David",
         "Austin",
         "DAUSTIN",
         "590.423.4569",
         "09/10/2019",
         "IT_PROG",
         4800,
         103,
         60,
         "2019-09-10"
        ],
        [
         106,
         "Valli",
         "Pataballa",
         "VPATABAL",
         "590.423.4560",
         "04/22/2020",
         "IT_PROG",
         4800,
         103,
         60,
         "2020-04-22"
        ],
        [
         107,
         "Diana",
         "Lorentz",
         "DLORENTZ",
         "590.423.5567",
         "04/24/2021",
         "IT_PROG",
         4200,
         103,
         60,
         "2021-04-24"
        ],
        [
         108,
         "Nancy",
         "Greenberg",
         "NGREENBE",
         "515.124.4569",
         "11/01/2016",
         "FI_MGR",
         12000,
         101,
         100,
         "2016-11-01"
        ],
        [
         109,
         "Daniel",
         "Faviet",
         "DFAVIET",
         "515.124.4169",
         "10/31/2016",
         "FI_ACCOUNT",
         9000,
         108,
         100,
         "2016-10-31"
        ],
        [
         110,
         "John",
         "Chen",
         "JCHEN",
         "515.124.4269",
         "12/14/2019",
         "FI_ACCOUNT",
         8200,
         108,
         100,
         "2019-12-14"
        ],
        [
         111,
         "Ismael",
         "Sciarra",
         "ISCIARRA",
         "515.124.4369",
         "12/16/2019",
         "FI_ACCOUNT",
         7700,
         108,
         100,
         "2019-12-16"
        ],
        [
         112,
         "Jose Manuel",
         "Urman",
         "JMURMAN",
         "515.124.4469",
         "05/22/2020",
         "FI_ACCOUNT",
         7800,
         108,
         100,
         "2020-05-22"
        ],
        [
         113,
         "Luis",
         "Popp",
         "LPOPP",
         "515.124.4567",
         "02/21/2022",
         "FI_ACCOUNT",
         6900,
         108,
         100,
         "2022-02-21"
        ],
        [
         114,
         "Den",
         "Raphaely",
         "DRAPHEAL",
         "515.127.4561",
         "02/21/2017",
         "PU_MAN",
         11000,
         100,
         30,
         "2017-02-21"
        ],
        [
         115,
         "Alexander",
         "Khoo",
         "AKHOO",
         "515.127.4562",
         "08/02/2017",
         "PU_CLERK",
         3100,
         114,
         30,
         "2017-08-02"
        ],
        [
         116,
         "Shelli",
         "Baida",
         "SBAIDA",
         "515.127.4563",
         "03/10/2020",
         "PU_CLERK",
         2900,
         114,
         30,
         "2020-03-10"
        ],
        [
         117,
         "Sigal",
         "Tobias",
         "STOBIAS",
         "515.127.4564",
         "10/09/2019",
         "PU_CLERK",
         2800,
         114,
         30,
         "2019-10-09"
        ],
        [
         118,
         "Guy",
         "Himuro",
         "GHIMURO",
         "515.127.4565",
         "01/30/2021",
         "PU_CLERK",
         2600,
         114,
         30,
         "2021-01-30"
        ],
        [
         119,
         "Karen",
         "Colmenares",
         "KCOLMENA",
         "515.127.4566",
         "10/25/2021",
         "PU_CLERK",
         2500,
         114,
         30,
         "2021-10-25"
        ],
        [
         120,
         "Matthew",
         "Weiss",
         "MWEISS",
         "650.123.1234",
         "10/03/2018",
         "ST_MAN",
         8000,
         100,
         50,
         "2018-10-03"
        ],
        [
         121,
         "Adam",
         "Fripp",
         "AFRIPP",
         "650.123.2234",
         "06/26/2019",
         "ST_MAN",
         8200,
         100,
         50,
         "2019-06-26"
        ],
        [
         122,
         "Payam",
         "Kaufling",
         "PKAUFLIN",
         "650.123.3234",
         "07/16/2017",
         "ST_MAN",
         7900,
         100,
         50,
         "2017-07-16"
        ],
        [
         123,
         "Shanta",
         "Vollman",
         "SVOLLMAN",
         "650.123.4234",
         "12/26/2019",
         "ST_MAN",
         6500,
         100,
         50,
         "2019-12-26"
        ],
        [
         124,
         "Kevin",
         "Mourgos",
         "KMOURGOS",
         "650.123.5234",
         "01/31/2022",
         "ST_MAN",
         5800,
         100,
         50,
         "2022-01-31"
        ],
        [
         125,
         "Julia",
         "Nayer",
         "JNAYER",
         "650.124.1214",
         "10/01/2019",
         "ST_CLERK",
         3200,
         120,
         50,
         "2019-10-01"
        ],
        [
         126,
         "Irene",
         "Mikkilineni",
         "IMIKKILI",
         "650.124.1224",
         "12/13/2020",
         "ST_CLERK",
         2700,
         120,
         50,
         "2020-12-13"
        ],
        [
         127,
         "James",
         "Landry",
         "JLANDRY",
         "650.124.1334",
         "03/31/2021",
         "ST_CLERK",
         2400,
         120,
         50,
         "2021-03-31"
        ],
        [
         128,
         "Steven",
         "Markle",
         "SMARKLE",
         "650.124.1434",
         "05/24/2022",
         "ST_CLERK",
         2200,
         120,
         50,
         "2022-05-24"
        ],
        [
         129,
         "Laura",
         "Bissot",
         "LBISSOT",
         "650.124.5234",
         "11/05/2019",
         "ST_CLERK",
         3300,
         121,
         50,
         "2019-11-05"
        ],
        [
         130,
         "Mozhe",
         "Atkinson",
         "MATKINSO",
         "650.124.6234",
         "01/15/2020",
         "ST_CLERK",
         2800,
         121,
         50,
         "2020-01-15"
        ],
        [
         131,
         "James",
         "Marlow",
         "JAMRLOW",
         "650.124.7234",
         "05/04/2019",
         "ST_CLERK",
         2500,
         121,
         50,
         "2019-05-04"
        ],
        [
         132,
         "TJ",
         "Olson",
         "TJOLSON",
         "650.124.8234",
         "06/25/2021",
         "ST_CLERK",
         2100,
         121,
         50,
         "2021-06-25"
        ],
        [
         133,
         "Jason",
         "Mallin",
         "JMALLIN",
         "650.127.1934",
         "08/30/2018",
         "ST_CLERK",
         3300,
         122,
         50,
         "2018-08-30"
        ],
        [
         134,
         "Michael",
         "Rogers",
         "MROGERS",
         "650.127.1834",
         "11/10/2020",
         "ST_CLERK",
         2900,
         122,
         50,
         "2020-11-10"
        ],
        [
         135,
         "Ki",
         "Gee",
         "KGEE",
         "650.127.1734",
         "02/26/2022",
         "ST_CLERK",
         2400,
         122,
         50,
         "2022-02-26"
        ],
        [
         136,
         "Hazel",
         "Philtanker",
         "HPHILTAN",
         "650.127.1634",
         "04/23/2022",
         "ST_CLERK",
         2200,
         122,
         50,
         "2022-04-23"
        ],
        [
         137,
         "Renske",
         "Ladwig",
         "RLADWIG",
         "650.121.1234",
         "09/28/2017",
         "ST_CLERK",
         3600,
         123,
         50,
         "2017-09-28"
        ],
        [
         138,
         "Stephen",
         "Stiles",
         "SSTILES",
         "650.121.2034",
         "01/11/2020",
         "ST_CLERK",
         3200,
         123,
         50,
         "2020-01-11"
        ],
        [
         139,
         "John",
         "Seo",
         "JSEO",
         "650.121.2019",
         "04/29/2020",
         "ST_CLERK",
         2700,
         123,
         50,
         "2020-04-29"
        ],
        [
         140,
         "Joshua",
         "Patel",
         "JPATEL",
         "650.121.1834",
         "06/21/2020",
         "ST_CLERK",
         2500,
         123,
         50,
         "2020-06-21"
        ],
        [
         141,
         "Trenna",
         "Rajs",
         "TRAJS",
         "650.121.8009",
         "01/01/2018",
         "ST_CLERK",
         3500,
         124,
         50,
         "2018-01-01"
        ],
        [
         142,
         "Curtis",
         "Davies",
         "CDAVIES",
         "650.121.2994",
         "04/16/2019",
         "ST_CLERK",
         3100,
         124,
         50,
         "2019-04-16"
        ],
        [
         143,
         "Randall",
         "Matos",
         "RMATOS",
         "650.121.2874",
         "05/30/2020",
         "ST_CLERK",
         2600,
         124,
         50,
         "2020-05-30"
        ],
        [
         144,
         "Peter",
         "Vargas",
         "PVARGAS",
         "650.121.2004",
         "09/23/2020",
         "ST_CLERK",
         2500,
         124,
         50,
         "2020-09-23"
        ],
        [
         145,
         "John",
         "Russell",
         "JRUSSEL",
         "011.44.1344.429268",
         "12/17/2018",
         "SA_MAN",
         14000,
         100,
         80,
         "2018-12-17"
        ],
        [
         146,
         "Karen",
         "Partners",
         "KPARTNER",
         "011.44.1344.467268",
         "03/23/2019",
         "SA_MAN",
         13500,
         100,
         80,
         "2019-03-23"
        ],
        [
         147,
         "Alberto",
         "Errazuriz",
         "AERRAZUR",
         "011.44.1344.429278",
         "05/26/2019",
         "SA_MAN",
         12000,
         100,
         80,
         "2019-05-26"
        ],
        [
         148,
         "Gerald",
         "Cambrault",
         "GCAMBRAU",
         "011.44.1344.619268",
         "12/30/2021",
         "SA_MAN",
         11000,
         100,
         80,
         "2021-12-30"
        ],
        [
         149,
         "Eleni",
         "Zlotkey",
         "EZLOTKEY",
         "011.44.1344.429018",
         "04/15/2022",
         "SA_MAN",
         10500,
         100,
         80,
         "2022-04-15"
        ],
        [
         150,
         "Peter",
         "Tucker",
         "PTUCKER",
         "011.44.1344.129268",
         "04/17/2019",
         "SA_REP",
         10000,
         145,
         80,
         "2019-04-17"
        ],
        [
         151,
         "David",
         "Bernstein",
         "DBERNSTE",
         "011.44.1344.345268",
         "06/09/2019",
         "SA_REP",
         9500,
         145,
         80,
         "2019-06-09"
        ],
        [
         152,
         "Peter",
         "Hall",
         "PHALL",
         "011.44.1344.478968",
         "11/05/2019",
         "SA_REP",
         9000,
         145,
         80,
         "2019-11-05"
        ],
        [
         153,
         "Christopher",
         "Olsen",
         "COLSEN",
         "011.44.1344.498718",
         "06/14/2020",
         "SA_REP",
         8000,
         145,
         80,
         "2020-06-14"
        ],
        [
         154,
         "Nanette",
         "Cambrault",
         "NCAMBRAU",
         "011.44.1344.987668",
         "02/23/2021",
         "SA_REP",
         7500,
         145,
         80,
         "2021-02-23"
        ],
        [
         155,
         "Oliver",
         "Tuvault",
         "OTUVAULT",
         "011.44.1344.486508",
         "02/07/2022",
         "SA_REP",
         7000,
         145,
         80,
         "2022-02-07"
        ],
        [
         156,
         "Janette",
         "King",
         "JKING",
         "011.44.1345.429268",
         "04/16/2018",
         "SA_REP",
         10000,
         146,
         80,
         "2018-04-16"
        ],
        [
         157,
         "Patrick",
         "Sully",
         "PSULLY",
         "011.44.1345.929268",
         "05/20/2018",
         "SA_REP",
         9500,
         146,
         80,
         "2018-05-20"
        ],
        [
         158,
         "Allan",
         "McEwen",
         "AMCEWEN",
         "011.44.1345.829268",
         "10/17/2018",
         "SA_REP",
         9000,
         146,
         80,
         "2018-10-17"
        ],
        [
         159,
         "Lindsey",
         "Smith",
         "LSMITH",
         "011.44.1345.729268",
         "05/26/2019",
         "SA_REP",
         8000,
         146,
         80,
         "2019-05-26"
        ],
        [
         160,
         "Louise",
         "Doran",
         "LDORAN",
         "011.44.1345.629268",
         "03/01/2020",
         "SA_REP",
         7500,
         146,
         80,
         "2020-03-01"
        ],
        [
         161,
         "Sarath",
         "Sewall",
         "SSEWALL",
         "011.44.1345.529268",
         "01/18/2021",
         "SA_REP",
         7000,
         146,
         80,
         "2021-01-18"
        ],
        [
         162,
         "Clara",
         "Vishney",
         "CVISHNEY",
         "011.44.1346.129268",
         "01/27/2020",
         "SA_REP",
         10500,
         147,
         80,
         "2020-01-27"
        ],
        [
         163,
         "Danielle",
         "Greene",
         "DGREENE",
         "011.44.1346.229268",
         "06/03/2021",
         "SA_REP",
         9500,
         147,
         80,
         "2021-06-03"
        ],
        [
         164,
         "Mattea",
         "Marvins",
         "MMARVINS",
         "011.44.1346.329268",
         "04/10/2022",
         "SA_REP",
         7200,
         147,
         80,
         "2022-04-10"
        ],
        [
         165,
         "David",
         "Lee",
         "DLEE",
         "011.44.1346.529268",
         "05/10/2022",
         "SA_REP",
         6800,
         147,
         80,
         "2022-05-10"
        ],
        [
         166,
         "Sundar",
         "Ande",
         "SANDE",
         "011.44.1346.629268",
         "06/09/2022",
         "SA_REP",
         6400,
         147,
         80,
         "2022-06-09"
        ],
        [
         167,
         "Amit",
         "Banda",
         "ABANDA",
         "011.44.1346.729268",
         "07/07/2022",
         "SA_REP",
         6200,
         147,
         80,
         "2022-07-07"
        ],
        [
         168,
         "Lisa",
         "Ozer",
         "LOZER",
         "011.44.1343.929268",
         "05/27/2019",
         "SA_REP",
         11500,
         148,
         80,
         "2019-05-27"
        ],
        [
         169,
         "Harrison",
         "Bloom",
         "HBLOOM",
         "011.44.1343.829268",
         "06/07/2020",
         "SA_REP",
         10000,
         148,
         80,
         "2020-06-07"
        ],
        [
         170,
         "Tayler",
         "Fox",
         "TFOX",
         "011.44.1343.729268",
         "04/10/2020",
         "SA_REP",
         9600,
         148,
         80,
         "2020-04-10"
        ],
        [
         171,
         "William",
         "Smith",
         "WSMITH",
         "011.44.1343.629268",
         "05/10/2021",
         "SA_REP",
         7400,
         148,
         80,
         "2021-05-10"
        ],
        [
         172,
         "Elizabeth",
         "Bates",
         "EBATES",
         "011.44.1343.529268",
         "06/08/2021",
         "SA_REP",
         7300,
         148,
         80,
         "2021-06-08"
        ],
        [
         173,
         "Sundita",
         "Kumar",
         "SKUMAR",
         "011.44.1343.329268",
         "07/07/2022",
         "SA_REP",
         6100,
         148,
         80,
         "2022-07-07"
        ],
        [
         174,
         "Ellen",
         "Abel",
         "EABEL",
         "011.44.1644.429267",
         "07/27/2018",
         "SA_REP",
         11000,
         149,
         80,
         "2018-07-27"
        ],
        [
         175,
         "Alyssa",
         "Hutton",
         "AHUTTON",
         "011.44.1644.429266",
         "06/04/2019",
         "SA_REP",
         8800,
         149,
         80,
         "2019-06-04"
        ],
        [
         176,
         "Jonathon",
         "Taylor",
         "JTAYLOR",
         "011.44.1644.429265",
         "06/08/2020",
         "SA_REP",
         8600,
         149,
         80,
         "2020-06-08"
        ],
        [
         177,
         "Jack",
         "Livingston",
         "JLIVINGS",
         "011.44.1644.429264",
         "07/08/2020",
         "SA_REP",
         8400,
         149,
         80,
         "2020-07-08"
        ],
        [
         178,
         "Kimberely",
         "Grant",
         "KGRANT",
         "011.44.1644.429263",
         "08/08/2021",
         "SA_REP",
         7000,
         149,
         null,
         "2021-08-08"
        ],
        [
         179,
         "Charles",
         "Johnson",
         "CJOHNSON",
         "011.44.1644.429262",
         "03/21/2022",
         "SA_REP",
         6200,
         149,
         80,
         "2022-03-21"
        ],
        [
         180,
         "Winston",
         "Taylor",
         "WTAYLOR",
         "650.507.9876",
         "04/10/2020",
         "SH_CLERK",
         3200,
         120,
         50,
         "2020-04-10"
        ],
        [
         181,
         "Jean",
         "Fleaur",
         "JFLEAUR",
         "650.507.9877",
         "05/10/2020",
         "SH_CLERK",
         3100,
         120,
         50,
         "2020-05-10"
        ],
        [
         182,
         "Martha",
         "Sullivan",
         "MSULLIVA",
         "650.507.9878",
         "09/05/2021",
         "SH_CLERK",
         2500,
         120,
         50,
         "2021-09-05"
        ],
        [
         183,
         "Girard",
         "Geoni",
         "GGEONI",
         "650.507.9879",
         "04/20/2022",
         "SH_CLERK",
         2800,
         120,
         50,
         "2022-04-20"
        ],
        [
         184,
         "Nandita",
         "Sarchand",
         "NSARCHAN",
         "650.509.1876",
         "04/13/2018",
         "SH_CLERK",
         4200,
         121,
         50,
         "2018-04-13"
        ],
        [
         185,
         "Alexis",
         "Bull",
         "ABULL",
         "650.509.2876",
         "05/08/2019",
         "SH_CLERK",
         4100,
         121,
         50,
         "2019-05-08"
        ],
        [
         186,
         "Julia",
         "Dellinger",
         "JDELLING",
         "650.509.3876",
         "09/08/2020",
         "SH_CLERK",
         3400,
         121,
         50,
         "2020-09-08"
        ],
        [
         187,
         "Anthony",
         "Cabrio",
         "ACABRIO",
         "650.509.4876",
         "04/24/2021",
         "SH_CLERK",
         3000,
         121,
         50,
         "2021-04-24"
        ],
        [
         188,
         "Kelly",
         "Chung",
         "KCHUNG",
         "650.505.1876",
         "08/30/2019",
         "SH_CLERK",
         3800,
         122,
         50,
         "2019-08-30"
        ],
        [
         189,
         "Jennifer",
         "Dilly",
         "JDILLY",
         "650.505.2876",
         "10/29/2019",
         "SH_CLERK",
         3600,
         122,
         50,
         "2019-10-29"
        ],
        [
         190,
         "Timothy",
         "Gates",
         "TGATES",
         "650.505.3876",
         "09/25/2020",
         "SH_CLERK",
         2900,
         122,
         50,
         "2020-09-25"
        ],
        [
         191,
         "Randall",
         "Perkins",
         "RPERKINS",
         "650.505.4876",
         "03/05/2022",
         "SH_CLERK",
         2500,
         122,
         50,
         "2022-03-05"
        ],
        [
         192,
         "Sarah",
         "Bell",
         "SBELL",
         "650.501.1876",
         "04/21/2018",
         "SH_CLERK",
         4000,
         123,
         50,
         "2018-04-21"
        ],
        [
         193,
         "Britney",
         "Everett",
         "BEVERETT",
         "650.501.2876",
         "05/19/2019",
         "SH_CLERK",
         3900,
         123,
         50,
         "2019-05-19"
        ],
        [
         194,
         "Samuel",
         "McCain",
         "SMCCAIN",
         "650.501.3876",
         "09/15/2020",
         "SH_CLERK",
         3200,
         123,
         50,
         "2020-09-15"
        ],
        [
         195,
         "Vance",
         "Jones",
         "VJONES",
         "650.501.4876",
         "06/01/2021",
         "SH_CLERK",
         2800,
         123,
         50,
         "2021-06-01"
        ],
        [
         196,
         "Alana",
         "Walsh",
         "AWALSH",
         "650.507.9811",
         "07/09/2020",
         "SH_CLERK",
         3100,
         124,
         50,
         "2020-07-09"
        ],
        [
         197,
         "Kevin",
         "Feeney",
         "KFEENEY",
         "650.507.9822",
         "08/07/2020",
         "SH_CLERK",
         3000,
         124,
         50,
         "2020-08-07"
        ],
        [
         198,
         "Donald",
         "OConnell",
         "DOCONNEL",
         "650.507.9833",
         "09/05/2021",
         "SH_CLERK",
         2600,
         124,
         50,
         "2021-09-05"
        ],
        [
         199,
         "Douglas",
         "Grant",
         "DGRANT",
         "650.507.9844",
         "03/30/2022",
         "SH_CLERK",
         2600,
         124,
         50,
         "2022-03-30"
        ],
        [
         200,
         "Jennifer",
         "Whalen",
         "JWHALEN",
         "515.123.4444",
         "12/02/2009",
         "AD_ASST",
         4400,
         101,
         10,
         "2009-12-02"
        ],
        [
         201,
         "Michael",
         "Hartstein",
         "MHARTSTE",
         "515.123.5555",
         "05/04/2018",
         "MK_MAN",
         13000,
         100,
         20,
         "2018-05-04"
        ],
        [
         202,
         "Pat",
         "Fay",
         "PFAY",
         "603.123.6666",
         "11/02/2019",
         "MK_REP",
         6000,
         201,
         20,
         "2019-11-02"
        ],
        [
         203,
         "Susan",
         "Mavris",
         "SMAVRIS",
         "515.123.7777",
         "08/22/2016",
         "HR_REP",
         6500,
         101,
         40,
         "2016-08-22"
        ],
        [
         204,
         "Hermann",
         "Baer",
         "HBAER",
         "515.123.8888",
         "08/22/2016",
         "PR_REP",
         10000,
         101,
         70,
         "2016-08-22"
        ],
        [
         205,
         "Shelley",
         "Higgins",
         "SHIGGINS",
         "515.123.8080",
         "08/22/2016",
         "AC_MGR",
         12000,
         101,
         110,
         "2016-08-22"
        ],
        [
         206,
         "William",
         "Gietz",
         "WGIETZ",
         "515.123.8181",
         "08/22/2016",
         "AC_ACCOUNT",
         8300,
         205,
         110,
         "2016-08-22"
        ]
       ],
       "datasetInfos": [],
       "dbfsResultPath": null,
       "isJsonSchema": true,
       "metadata": {},
       "overflow": false,
       "plotOptions": {
        "customPlotOptions": {},
        "displayType": "table",
        "pivotAggregation": null,
        "pivotColumns": null,
        "xColumns": null,
        "yColumns": null
       },
       "removedWidgets": [],
       "schema": [
        {
         "metadata": "{}",
         "name": "EMPLOYEE_ID",
         "type": "\"integer\""
        },
        {
         "metadata": "{}",
         "name": "FIRST_NAME",
         "type": "\"string\""
        },
        {
         "metadata": "{}",
         "name": "LAST_NAME",
         "type": "\"string\""
        },
        {
         "metadata": "{}",
         "name": "EMAIL",
         "type": "\"string\""
        },
        {
         "metadata": "{}",
         "name": "PHONE",
         "type": "\"string\""
        },
        {
         "metadata": "{}",
         "name": "DATE_HIRED",
         "type": "\"string\""
        },
        {
         "metadata": "{}",
         "name": "JOB_ID",
         "type": "\"string\""
        },
        {
         "metadata": "{}",
         "name": "SALARY",
         "type": "\"integer\""
        },
        {
         "metadata": "{}",
         "name": "MANAGER_ID",
         "type": "\"integer\""
        },
        {
         "metadata": "{}",
         "name": "DEPARTMENT_ID",
         "type": "\"integer\""
        },
        {
         "metadata": "{}",
         "name": "HIRE_DATE",
         "type": "\"date\""
        }
       ],
       "type": "table"
      }
     },
     "output_type": "display_data"
    }
   ],
   "source": [
    "# Turn string to datetime datatype\n",
    "employees = employees.withColumn('HIRE_DATE', to_date(employees.DATE_HIRED, 'MM/dd/yyyy'))\n",
    "employees.display()"
   ]
  },
  {
   "cell_type": "code",
   "execution_count": 0,
   "metadata": {
    "application/vnd.databricks.v1+cell": {
     "cellMetadata": {
      "byteLimit": 2048000,
      "rowLimit": 10000
     },
     "inputWidgets": {},
     "nuid": "89de3c2d-5a53-4ddd-8fec-601cda9797e4",
     "showTitle": false,
     "title": ""
    }
   },
   "outputs": [
    {
     "output_type": "display_data",
     "data": {
      "text/html": [
       "<style scoped>\n  .table-result-container {\n    max-height: 300px;\n    overflow: auto;\n  }\n  table, th, td {\n    border: 1px solid black;\n    border-collapse: collapse;\n  }\n  th, td {\n    padding: 5px;\n  }\n  th {\n    text-align: left;\n  }\n</style><div class='table-result-container'><table class='table-result'><thead style='background-color: white'><tr><th>EMPLOYEE_ID</th><th>FIRST_NAME</th><th>LAST_NAME</th><th>JOB_ID</th><th>SALARY</th><th>MANAGER_ID</th><th>DEPARTMENT_ID</th><th>HIRE_DATE</th></tr></thead><tbody><tr><td>100</td><td>Steven</td><td>King</td><td>AD_PRES</td><td>24000</td><td>null</td><td>90</td><td>2009-09-01</td></tr><tr><td>101</td><td>Neena</td><td>Kochhar</td><td>AD_VP</td><td>17000</td><td>100</td><td>90</td><td>2011-12-07</td></tr><tr><td>102</td><td>Lex</td><td>De Haan</td><td>AD_VP</td><td>17000</td><td>100</td><td>90</td><td>2015-03-31</td></tr><tr><td>103</td><td>Alexander</td><td>Hunold</td><td>IT_PROG</td><td>9000</td><td>102</td><td>60</td><td>2012-03-20</td></tr><tr><td>104</td><td>Bruce</td><td>Ernst</td><td>IT_PROG</td><td>6000</td><td>103</td><td>60</td><td>2013-08-05</td></tr><tr><td>105</td><td>David</td><td>Austin</td><td>IT_PROG</td><td>4800</td><td>103</td><td>60</td><td>2019-09-10</td></tr><tr><td>106</td><td>Valli</td><td>Pataballa</td><td>IT_PROG</td><td>4800</td><td>103</td><td>60</td><td>2020-04-22</td></tr><tr><td>107</td><td>Diana</td><td>Lorentz</td><td>IT_PROG</td><td>4200</td><td>103</td><td>60</td><td>2021-04-24</td></tr><tr><td>108</td><td>Nancy</td><td>Greenberg</td><td>FI_MGR</td><td>12000</td><td>101</td><td>100</td><td>2016-11-01</td></tr><tr><td>109</td><td>Daniel</td><td>Faviet</td><td>FI_ACCOUNT</td><td>9000</td><td>108</td><td>100</td><td>2016-10-31</td></tr><tr><td>110</td><td>John</td><td>Chen</td><td>FI_ACCOUNT</td><td>8200</td><td>108</td><td>100</td><td>2019-12-14</td></tr><tr><td>111</td><td>Ismael</td><td>Sciarra</td><td>FI_ACCOUNT</td><td>7700</td><td>108</td><td>100</td><td>2019-12-16</td></tr><tr><td>112</td><td>Jose Manuel</td><td>Urman</td><td>FI_ACCOUNT</td><td>7800</td><td>108</td><td>100</td><td>2020-05-22</td></tr><tr><td>113</td><td>Luis</td><td>Popp</td><td>FI_ACCOUNT</td><td>6900</td><td>108</td><td>100</td><td>2022-02-21</td></tr><tr><td>114</td><td>Den</td><td>Raphaely</td><td>PU_MAN</td><td>11000</td><td>100</td><td>30</td><td>2017-02-21</td></tr><tr><td>115</td><td>Alexander</td><td>Khoo</td><td>PU_CLERK</td><td>3100</td><td>114</td><td>30</td><td>2017-08-02</td></tr><tr><td>116</td><td>Shelli</td><td>Baida</td><td>PU_CLERK</td><td>2900</td><td>114</td><td>30</td><td>2020-03-10</td></tr><tr><td>117</td><td>Sigal</td><td>Tobias</td><td>PU_CLERK</td><td>2800</td><td>114</td><td>30</td><td>2019-10-09</td></tr><tr><td>118</td><td>Guy</td><td>Himuro</td><td>PU_CLERK</td><td>2600</td><td>114</td><td>30</td><td>2021-01-30</td></tr><tr><td>119</td><td>Karen</td><td>Colmenares</td><td>PU_CLERK</td><td>2500</td><td>114</td><td>30</td><td>2021-10-25</td></tr><tr><td>120</td><td>Matthew</td><td>Weiss</td><td>ST_MAN</td><td>8000</td><td>100</td><td>50</td><td>2018-10-03</td></tr><tr><td>121</td><td>Adam</td><td>Fripp</td><td>ST_MAN</td><td>8200</td><td>100</td><td>50</td><td>2019-06-26</td></tr><tr><td>122</td><td>Payam</td><td>Kaufling</td><td>ST_MAN</td><td>7900</td><td>100</td><td>50</td><td>2017-07-16</td></tr><tr><td>123</td><td>Shanta</td><td>Vollman</td><td>ST_MAN</td><td>6500</td><td>100</td><td>50</td><td>2019-12-26</td></tr><tr><td>124</td><td>Kevin</td><td>Mourgos</td><td>ST_MAN</td><td>5800</td><td>100</td><td>50</td><td>2022-01-31</td></tr><tr><td>125</td><td>Julia</td><td>Nayer</td><td>ST_CLERK</td><td>3200</td><td>120</td><td>50</td><td>2019-10-01</td></tr><tr><td>126</td><td>Irene</td><td>Mikkilineni</td><td>ST_CLERK</td><td>2700</td><td>120</td><td>50</td><td>2020-12-13</td></tr><tr><td>127</td><td>James</td><td>Landry</td><td>ST_CLERK</td><td>2400</td><td>120</td><td>50</td><td>2021-03-31</td></tr><tr><td>128</td><td>Steven</td><td>Markle</td><td>ST_CLERK</td><td>2200</td><td>120</td><td>50</td><td>2022-05-24</td></tr><tr><td>129</td><td>Laura</td><td>Bissot</td><td>ST_CLERK</td><td>3300</td><td>121</td><td>50</td><td>2019-11-05</td></tr><tr><td>130</td><td>Mozhe</td><td>Atkinson</td><td>ST_CLERK</td><td>2800</td><td>121</td><td>50</td><td>2020-01-15</td></tr><tr><td>131</td><td>James</td><td>Marlow</td><td>ST_CLERK</td><td>2500</td><td>121</td><td>50</td><td>2019-05-04</td></tr><tr><td>132</td><td>TJ</td><td>Olson</td><td>ST_CLERK</td><td>2100</td><td>121</td><td>50</td><td>2021-06-25</td></tr><tr><td>133</td><td>Jason</td><td>Mallin</td><td>ST_CLERK</td><td>3300</td><td>122</td><td>50</td><td>2018-08-30</td></tr><tr><td>134</td><td>Michael</td><td>Rogers</td><td>ST_CLERK</td><td>2900</td><td>122</td><td>50</td><td>2020-11-10</td></tr><tr><td>135</td><td>Ki</td><td>Gee</td><td>ST_CLERK</td><td>2400</td><td>122</td><td>50</td><td>2022-02-26</td></tr><tr><td>136</td><td>Hazel</td><td>Philtanker</td><td>ST_CLERK</td><td>2200</td><td>122</td><td>50</td><td>2022-04-23</td></tr><tr><td>137</td><td>Renske</td><td>Ladwig</td><td>ST_CLERK</td><td>3600</td><td>123</td><td>50</td><td>2017-09-28</td></tr><tr><td>138</td><td>Stephen</td><td>Stiles</td><td>ST_CLERK</td><td>3200</td><td>123</td><td>50</td><td>2020-01-11</td></tr><tr><td>139</td><td>John</td><td>Seo</td><td>ST_CLERK</td><td>2700</td><td>123</td><td>50</td><td>2020-04-29</td></tr><tr><td>140</td><td>Joshua</td><td>Patel</td><td>ST_CLERK</td><td>2500</td><td>123</td><td>50</td><td>2020-06-21</td></tr><tr><td>141</td><td>Trenna</td><td>Rajs</td><td>ST_CLERK</td><td>3500</td><td>124</td><td>50</td><td>2018-01-01</td></tr><tr><td>142</td><td>Curtis</td><td>Davies</td><td>ST_CLERK</td><td>3100</td><td>124</td><td>50</td><td>2019-04-16</td></tr><tr><td>143</td><td>Randall</td><td>Matos</td><td>ST_CLERK</td><td>2600</td><td>124</td><td>50</td><td>2020-05-30</td></tr><tr><td>144</td><td>Peter</td><td>Vargas</td><td>ST_CLERK</td><td>2500</td><td>124</td><td>50</td><td>2020-09-23</td></tr><tr><td>145</td><td>John</td><td>Russell</td><td>SA_MAN</td><td>14000</td><td>100</td><td>80</td><td>2018-12-17</td></tr><tr><td>146</td><td>Karen</td><td>Partners</td><td>SA_MAN</td><td>13500</td><td>100</td><td>80</td><td>2019-03-23</td></tr><tr><td>147</td><td>Alberto</td><td>Errazuriz</td><td>SA_MAN</td><td>12000</td><td>100</td><td>80</td><td>2019-05-26</td></tr><tr><td>148</td><td>Gerald</td><td>Cambrault</td><td>SA_MAN</td><td>11000</td><td>100</td><td>80</td><td>2021-12-30</td></tr><tr><td>149</td><td>Eleni</td><td>Zlotkey</td><td>SA_MAN</td><td>10500</td><td>100</td><td>80</td><td>2022-04-15</td></tr><tr><td>150</td><td>Peter</td><td>Tucker</td><td>SA_REP</td><td>10000</td><td>145</td><td>80</td><td>2019-04-17</td></tr><tr><td>151</td><td>David</td><td>Bernstein</td><td>SA_REP</td><td>9500</td><td>145</td><td>80</td><td>2019-06-09</td></tr><tr><td>152</td><td>Peter</td><td>Hall</td><td>SA_REP</td><td>9000</td><td>145</td><td>80</td><td>2019-11-05</td></tr><tr><td>153</td><td>Christopher</td><td>Olsen</td><td>SA_REP</td><td>8000</td><td>145</td><td>80</td><td>2020-06-14</td></tr><tr><td>154</td><td>Nanette</td><td>Cambrault</td><td>SA_REP</td><td>7500</td><td>145</td><td>80</td><td>2021-02-23</td></tr><tr><td>155</td><td>Oliver</td><td>Tuvault</td><td>SA_REP</td><td>7000</td><td>145</td><td>80</td><td>2022-02-07</td></tr><tr><td>156</td><td>Janette</td><td>King</td><td>SA_REP</td><td>10000</td><td>146</td><td>80</td><td>2018-04-16</td></tr><tr><td>157</td><td>Patrick</td><td>Sully</td><td>SA_REP</td><td>9500</td><td>146</td><td>80</td><td>2018-05-20</td></tr><tr><td>158</td><td>Allan</td><td>McEwen</td><td>SA_REP</td><td>9000</td><td>146</td><td>80</td><td>2018-10-17</td></tr><tr><td>159</td><td>Lindsey</td><td>Smith</td><td>SA_REP</td><td>8000</td><td>146</td><td>80</td><td>2019-05-26</td></tr><tr><td>160</td><td>Louise</td><td>Doran</td><td>SA_REP</td><td>7500</td><td>146</td><td>80</td><td>2020-03-01</td></tr><tr><td>161</td><td>Sarath</td><td>Sewall</td><td>SA_REP</td><td>7000</td><td>146</td><td>80</td><td>2021-01-18</td></tr><tr><td>162</td><td>Clara</td><td>Vishney</td><td>SA_REP</td><td>10500</td><td>147</td><td>80</td><td>2020-01-27</td></tr><tr><td>163</td><td>Danielle</td><td>Greene</td><td>SA_REP</td><td>9500</td><td>147</td><td>80</td><td>2021-06-03</td></tr><tr><td>164</td><td>Mattea</td><td>Marvins</td><td>SA_REP</td><td>7200</td><td>147</td><td>80</td><td>2022-04-10</td></tr><tr><td>165</td><td>David</td><td>Lee</td><td>SA_REP</td><td>6800</td><td>147</td><td>80</td><td>2022-05-10</td></tr><tr><td>166</td><td>Sundar</td><td>Ande</td><td>SA_REP</td><td>6400</td><td>147</td><td>80</td><td>2022-06-09</td></tr><tr><td>167</td><td>Amit</td><td>Banda</td><td>SA_REP</td><td>6200</td><td>147</td><td>80</td><td>2022-07-07</td></tr><tr><td>168</td><td>Lisa</td><td>Ozer</td><td>SA_REP</td><td>11500</td><td>148</td><td>80</td><td>2019-05-27</td></tr><tr><td>169</td><td>Harrison</td><td>Bloom</td><td>SA_REP</td><td>10000</td><td>148</td><td>80</td><td>2020-06-07</td></tr><tr><td>170</td><td>Tayler</td><td>Fox</td><td>SA_REP</td><td>9600</td><td>148</td><td>80</td><td>2020-04-10</td></tr><tr><td>171</td><td>William</td><td>Smith</td><td>SA_REP</td><td>7400</td><td>148</td><td>80</td><td>2021-05-10</td></tr><tr><td>172</td><td>Elizabeth</td><td>Bates</td><td>SA_REP</td><td>7300</td><td>148</td><td>80</td><td>2021-06-08</td></tr><tr><td>173</td><td>Sundita</td><td>Kumar</td><td>SA_REP</td><td>6100</td><td>148</td><td>80</td><td>2022-07-07</td></tr><tr><td>174</td><td>Ellen</td><td>Abel</td><td>SA_REP</td><td>11000</td><td>149</td><td>80</td><td>2018-07-27</td></tr><tr><td>175</td><td>Alyssa</td><td>Hutton</td><td>SA_REP</td><td>8800</td><td>149</td><td>80</td><td>2019-06-04</td></tr><tr><td>176</td><td>Jonathon</td><td>Taylor</td><td>SA_REP</td><td>8600</td><td>149</td><td>80</td><td>2020-06-08</td></tr><tr><td>177</td><td>Jack</td><td>Livingston</td><td>SA_REP</td><td>8400</td><td>149</td><td>80</td><td>2020-07-08</td></tr><tr><td>178</td><td>Kimberely</td><td>Grant</td><td>SA_REP</td><td>7000</td><td>149</td><td>null</td><td>2021-08-08</td></tr><tr><td>179</td><td>Charles</td><td>Johnson</td><td>SA_REP</td><td>6200</td><td>149</td><td>80</td><td>2022-03-21</td></tr><tr><td>180</td><td>Winston</td><td>Taylor</td><td>SH_CLERK</td><td>3200</td><td>120</td><td>50</td><td>2020-04-10</td></tr><tr><td>181</td><td>Jean</td><td>Fleaur</td><td>SH_CLERK</td><td>3100</td><td>120</td><td>50</td><td>2020-05-10</td></tr><tr><td>182</td><td>Martha</td><td>Sullivan</td><td>SH_CLERK</td><td>2500</td><td>120</td><td>50</td><td>2021-09-05</td></tr><tr><td>183</td><td>Girard</td><td>Geoni</td><td>SH_CLERK</td><td>2800</td><td>120</td><td>50</td><td>2022-04-20</td></tr><tr><td>184</td><td>Nandita</td><td>Sarchand</td><td>SH_CLERK</td><td>4200</td><td>121</td><td>50</td><td>2018-04-13</td></tr><tr><td>185</td><td>Alexis</td><td>Bull</td><td>SH_CLERK</td><td>4100</td><td>121</td><td>50</td><td>2019-05-08</td></tr><tr><td>186</td><td>Julia</td><td>Dellinger</td><td>SH_CLERK</td><td>3400</td><td>121</td><td>50</td><td>2020-09-08</td></tr><tr><td>187</td><td>Anthony</td><td>Cabrio</td><td>SH_CLERK</td><td>3000</td><td>121</td><td>50</td><td>2021-04-24</td></tr><tr><td>188</td><td>Kelly</td><td>Chung</td><td>SH_CLERK</td><td>3800</td><td>122</td><td>50</td><td>2019-08-30</td></tr><tr><td>189</td><td>Jennifer</td><td>Dilly</td><td>SH_CLERK</td><td>3600</td><td>122</td><td>50</td><td>2019-10-29</td></tr><tr><td>190</td><td>Timothy</td><td>Gates</td><td>SH_CLERK</td><td>2900</td><td>122</td><td>50</td><td>2020-09-25</td></tr><tr><td>191</td><td>Randall</td><td>Perkins</td><td>SH_CLERK</td><td>2500</td><td>122</td><td>50</td><td>2022-03-05</td></tr><tr><td>192</td><td>Sarah</td><td>Bell</td><td>SH_CLERK</td><td>4000</td><td>123</td><td>50</td><td>2018-04-21</td></tr><tr><td>193</td><td>Britney</td><td>Everett</td><td>SH_CLERK</td><td>3900</td><td>123</td><td>50</td><td>2019-05-19</td></tr><tr><td>194</td><td>Samuel</td><td>McCain</td><td>SH_CLERK</td><td>3200</td><td>123</td><td>50</td><td>2020-09-15</td></tr><tr><td>195</td><td>Vance</td><td>Jones</td><td>SH_CLERK</td><td>2800</td><td>123</td><td>50</td><td>2021-06-01</td></tr><tr><td>196</td><td>Alana</td><td>Walsh</td><td>SH_CLERK</td><td>3100</td><td>124</td><td>50</td><td>2020-07-09</td></tr><tr><td>197</td><td>Kevin</td><td>Feeney</td><td>SH_CLERK</td><td>3000</td><td>124</td><td>50</td><td>2020-08-07</td></tr><tr><td>198</td><td>Donald</td><td>OConnell</td><td>SH_CLERK</td><td>2600</td><td>124</td><td>50</td><td>2021-09-05</td></tr><tr><td>199</td><td>Douglas</td><td>Grant</td><td>SH_CLERK</td><td>2600</td><td>124</td><td>50</td><td>2022-03-30</td></tr><tr><td>200</td><td>Jennifer</td><td>Whalen</td><td>AD_ASST</td><td>4400</td><td>101</td><td>10</td><td>2009-12-02</td></tr><tr><td>201</td><td>Michael</td><td>Hartstein</td><td>MK_MAN</td><td>13000</td><td>100</td><td>20</td><td>2018-05-04</td></tr><tr><td>202</td><td>Pat</td><td>Fay</td><td>MK_REP</td><td>6000</td><td>201</td><td>20</td><td>2019-11-02</td></tr><tr><td>203</td><td>Susan</td><td>Mavris</td><td>HR_REP</td><td>6500</td><td>101</td><td>40</td><td>2016-08-22</td></tr><tr><td>204</td><td>Hermann</td><td>Baer</td><td>PR_REP</td><td>10000</td><td>101</td><td>70</td><td>2016-08-22</td></tr><tr><td>205</td><td>Shelley</td><td>Higgins</td><td>AC_MGR</td><td>12000</td><td>101</td><td>110</td><td>2016-08-22</td></tr><tr><td>206</td><td>William</td><td>Gietz</td><td>AC_ACCOUNT</td><td>8300</td><td>205</td><td>110</td><td>2016-08-22</td></tr></tbody></table></div>"
      ]
     },
     "metadata": {
      "application/vnd.databricks.v1+output": {
       "addedWidgets": {},
       "aggData": [],
       "aggError": "",
       "aggOverflow": false,
       "aggSchema": [],
       "aggSeriesLimitReached": false,
       "aggType": "",
       "arguments": {},
       "columnCustomDisplayInfos": {},
       "data": [
        [
         100,
         "Steven",
         "King",
         "AD_PRES",
         24000,
         null,
         90,
         "2009-09-01"
        ],
        [
         101,
         "Neena",
         "Kochhar",
         "AD_VP",
         17000,
         100,
         90,
         "2011-12-07"
        ],
        [
         102,
         "Lex",
         "De Haan",
         "AD_VP",
         17000,
         100,
         90,
         "2015-03-31"
        ],
        [
         103,
         "Alexander",
         "Hunold",
         "IT_PROG",
         9000,
         102,
         60,
         "2012-03-20"
        ],
        [
         104,
         "Bruce",
         "Ernst",
         "IT_PROG",
         6000,
         103,
         60,
         "2013-08-05"
        ],
        [
         105,
         "David",
         "Austin",
         "IT_PROG",
         4800,
         103,
         60,
         "2019-09-10"
        ],
        [
         106,
         "Valli",
         "Pataballa",
         "IT_PROG",
         4800,
         103,
         60,
         "2020-04-22"
        ],
        [
         107,
         "Diana",
         "Lorentz",
         "IT_PROG",
         4200,
         103,
         60,
         "2021-04-24"
        ],
        [
         108,
         "Nancy",
         "Greenberg",
         "FI_MGR",
         12000,
         101,
         100,
         "2016-11-01"
        ],
        [
         109,
         "Daniel",
         "Faviet",
         "FI_ACCOUNT",
         9000,
         108,
         100,
         "2016-10-31"
        ],
        [
         110,
         "John",
         "Chen",
         "FI_ACCOUNT",
         8200,
         108,
         100,
         "2019-12-14"
        ],
        [
         111,
         "Ismael",
         "Sciarra",
         "FI_ACCOUNT",
         7700,
         108,
         100,
         "2019-12-16"
        ],
        [
         112,
         "Jose Manuel",
         "Urman",
         "FI_ACCOUNT",
         7800,
         108,
         100,
         "2020-05-22"
        ],
        [
         113,
         "Luis",
         "Popp",
         "FI_ACCOUNT",
         6900,
         108,
         100,
         "2022-02-21"
        ],
        [
         114,
         "Den",
         "Raphaely",
         "PU_MAN",
         11000,
         100,
         30,
         "2017-02-21"
        ],
        [
         115,
         "Alexander",
         "Khoo",
         "PU_CLERK",
         3100,
         114,
         30,
         "2017-08-02"
        ],
        [
         116,
         "Shelli",
         "Baida",
         "PU_CLERK",
         2900,
         114,
         30,
         "2020-03-10"
        ],
        [
         117,
         "Sigal",
         "Tobias",
         "PU_CLERK",
         2800,
         114,
         30,
         "2019-10-09"
        ],
        [
         118,
         "Guy",
         "Himuro",
         "PU_CLERK",
         2600,
         114,
         30,
         "2021-01-30"
        ],
        [
         119,
         "Karen",
         "Colmenares",
         "PU_CLERK",
         2500,
         114,
         30,
         "2021-10-25"
        ],
        [
         120,
         "Matthew",
         "Weiss",
         "ST_MAN",
         8000,
         100,
         50,
         "2018-10-03"
        ],
        [
         121,
         "Adam",
         "Fripp",
         "ST_MAN",
         8200,
         100,
         50,
         "2019-06-26"
        ],
        [
         122,
         "Payam",
         "Kaufling",
         "ST_MAN",
         7900,
         100,
         50,
         "2017-07-16"
        ],
        [
         123,
         "Shanta",
         "Vollman",
         "ST_MAN",
         6500,
         100,
         50,
         "2019-12-26"
        ],
        [
         124,
         "Kevin",
         "Mourgos",
         "ST_MAN",
         5800,
         100,
         50,
         "2022-01-31"
        ],
        [
         125,
         "Julia",
         "Nayer",
         "ST_CLERK",
         3200,
         120,
         50,
         "2019-10-01"
        ],
        [
         126,
         "Irene",
         "Mikkilineni",
         "ST_CLERK",
         2700,
         120,
         50,
         "2020-12-13"
        ],
        [
         127,
         "James",
         "Landry",
         "ST_CLERK",
         2400,
         120,
         50,
         "2021-03-31"
        ],
        [
         128,
         "Steven",
         "Markle",
         "ST_CLERK",
         2200,
         120,
         50,
         "2022-05-24"
        ],
        [
         129,
         "Laura",
         "Bissot",
         "ST_CLERK",
         3300,
         121,
         50,
         "2019-11-05"
        ],
        [
         130,
         "Mozhe",
         "Atkinson",
         "ST_CLERK",
         2800,
         121,
         50,
         "2020-01-15"
        ],
        [
         131,
         "James",
         "Marlow",
         "ST_CLERK",
         2500,
         121,
         50,
         "2019-05-04"
        ],
        [
         132,
         "TJ",
         "Olson",
         "ST_CLERK",
         2100,
         121,
         50,
         "2021-06-25"
        ],
        [
         133,
         "Jason",
         "Mallin",
         "ST_CLERK",
         3300,
         122,
         50,
         "2018-08-30"
        ],
        [
         134,
         "Michael",
         "Rogers",
         "ST_CLERK",
         2900,
         122,
         50,
         "2020-11-10"
        ],
        [
         135,
         "Ki",
         "Gee",
         "ST_CLERK",
         2400,
         122,
         50,
         "2022-02-26"
        ],
        [
         136,
         "Hazel",
         "Philtanker",
         "ST_CLERK",
         2200,
         122,
         50,
         "2022-04-23"
        ],
        [
         137,
         "Renske",
         "Ladwig",
         "ST_CLERK",
         3600,
         123,
         50,
         "2017-09-28"
        ],
        [
         138,
         "Stephen",
         "Stiles",
         "ST_CLERK",
         3200,
         123,
         50,
         "2020-01-11"
        ],
        [
         139,
         "John",
         "Seo",
         "ST_CLERK",
         2700,
         123,
         50,
         "2020-04-29"
        ],
        [
         140,
         "Joshua",
         "Patel",
         "ST_CLERK",
         2500,
         123,
         50,
         "2020-06-21"
        ],
        [
         141,
         "Trenna",
         "Rajs",
         "ST_CLERK",
         3500,
         124,
         50,
         "2018-01-01"
        ],
        [
         142,
         "Curtis",
         "Davies",
         "ST_CLERK",
         3100,
         124,
         50,
         "2019-04-16"
        ],
        [
         143,
         "Randall",
         "Matos",
         "ST_CLERK",
         2600,
         124,
         50,
         "2020-05-30"
        ],
        [
         144,
         "Peter",
         "Vargas",
         "ST_CLERK",
         2500,
         124,
         50,
         "2020-09-23"
        ],
        [
         145,
         "John",
         "Russell",
         "SA_MAN",
         14000,
         100,
         80,
         "2018-12-17"
        ],
        [
         146,
         "Karen",
         "Partners",
         "SA_MAN",
         13500,
         100,
         80,
         "2019-03-23"
        ],
        [
         147,
         "Alberto",
         "Errazuriz",
         "SA_MAN",
         12000,
         100,
         80,
         "2019-05-26"
        ],
        [
         148,
         "Gerald",
         "Cambrault",
         "SA_MAN",
         11000,
         100,
         80,
         "2021-12-30"
        ],
        [
         149,
         "Eleni",
         "Zlotkey",
         "SA_MAN",
         10500,
         100,
         80,
         "2022-04-15"
        ],
        [
         150,
         "Peter",
         "Tucker",
         "SA_REP",
         10000,
         145,
         80,
         "2019-04-17"
        ],
        [
         151,
         "David",
         "Bernstein",
         "SA_REP",
         9500,
         145,
         80,
         "2019-06-09"
        ],
        [
         152,
         "Peter",
         "Hall",
         "SA_REP",
         9000,
         145,
         80,
         "2019-11-05"
        ],
        [
         153,
         "Christopher",
         "Olsen",
         "SA_REP",
         8000,
         145,
         80,
         "2020-06-14"
        ],
        [
         154,
         "Nanette",
         "Cambrault",
         "SA_REP",
         7500,
         145,
         80,
         "2021-02-23"
        ],
        [
         155,
         "Oliver",
         "Tuvault",
         "SA_REP",
         7000,
         145,
         80,
         "2022-02-07"
        ],
        [
         156,
         "Janette",
         "King",
         "SA_REP",
         10000,
         146,
         80,
         "2018-04-16"
        ],
        [
         157,
         "Patrick",
         "Sully",
         "SA_REP",
         9500,
         146,
         80,
         "2018-05-20"
        ],
        [
         158,
         "Allan",
         "McEwen",
         "SA_REP",
         9000,
         146,
         80,
         "2018-10-17"
        ],
        [
         159,
         "Lindsey",
         "Smith",
         "SA_REP",
         8000,
         146,
         80,
         "2019-05-26"
        ],
        [
         160,
         "Louise",
         "Doran",
         "SA_REP",
         7500,
         146,
         80,
         "2020-03-01"
        ],
        [
         161,
         "Sarath",
         "Sewall",
         "SA_REP",
         7000,
         146,
         80,
         "2021-01-18"
        ],
        [
         162,
         "Clara",
         "Vishney",
         "SA_REP",
         10500,
         147,
         80,
         "2020-01-27"
        ],
        [
         163,
         "Danielle",
         "Greene",
         "SA_REP",
         9500,
         147,
         80,
         "2021-06-03"
        ],
        [
         164,
         "Mattea",
         "Marvins",
         "SA_REP",
         7200,
         147,
         80,
         "2022-04-10"
        ],
        [
         165,
         "David",
         "Lee",
         "SA_REP",
         6800,
         147,
         80,
         "2022-05-10"
        ],
        [
         166,
         "Sundar",
         "Ande",
         "SA_REP",
         6400,
         147,
         80,
         "2022-06-09"
        ],
        [
         167,
         "Amit",
         "Banda",
         "SA_REP",
         6200,
         147,
         80,
         "2022-07-07"
        ],
        [
         168,
         "Lisa",
         "Ozer",
         "SA_REP",
         11500,
         148,
         80,
         "2019-05-27"
        ],
        [
         169,
         "Harrison",
         "Bloom",
         "SA_REP",
         10000,
         148,
         80,
         "2020-06-07"
        ],
        [
         170,
         "Tayler",
         "Fox",
         "SA_REP",
         9600,
         148,
         80,
         "2020-04-10"
        ],
        [
         171,
         "William",
         "Smith",
         "SA_REP",
         7400,
         148,
         80,
         "2021-05-10"
        ],
        [
         172,
         "Elizabeth",
         "Bates",
         "SA_REP",
         7300,
         148,
         80,
         "2021-06-08"
        ],
        [
         173,
         "Sundita",
         "Kumar",
         "SA_REP",
         6100,
         148,
         80,
         "2022-07-07"
        ],
        [
         174,
         "Ellen",
         "Abel",
         "SA_REP",
         11000,
         149,
         80,
         "2018-07-27"
        ],
        [
         175,
         "Alyssa",
         "Hutton",
         "SA_REP",
         8800,
         149,
         80,
         "2019-06-04"
        ],
        [
         176,
         "Jonathon",
         "Taylor",
         "SA_REP",
         8600,
         149,
         80,
         "2020-06-08"
        ],
        [
         177,
         "Jack",
         "Livingston",
         "SA_REP",
         8400,
         149,
         80,
         "2020-07-08"
        ],
        [
         178,
         "Kimberely",
         "Grant",
         "SA_REP",
         7000,
         149,
         null,
         "2021-08-08"
        ],
        [
         179,
         "Charles",
         "Johnson",
         "SA_REP",
         6200,
         149,
         80,
         "2022-03-21"
        ],
        [
         180,
         "Winston",
         "Taylor",
         "SH_CLERK",
         3200,
         120,
         50,
         "2020-04-10"
        ],
        [
         181,
         "Jean",
         "Fleaur",
         "SH_CLERK",
         3100,
         120,
         50,
         "2020-05-10"
        ],
        [
         182,
         "Martha",
         "Sullivan",
         "SH_CLERK",
         2500,
         120,
         50,
         "2021-09-05"
        ],
        [
         183,
         "Girard",
         "Geoni",
         "SH_CLERK",
         2800,
         120,
         50,
         "2022-04-20"
        ],
        [
         184,
         "Nandita",
         "Sarchand",
         "SH_CLERK",
         4200,
         121,
         50,
         "2018-04-13"
        ],
        [
         185,
         "Alexis",
         "Bull",
         "SH_CLERK",
         4100,
         121,
         50,
         "2019-05-08"
        ],
        [
         186,
         "Julia",
         "Dellinger",
         "SH_CLERK",
         3400,
         121,
         50,
         "2020-09-08"
        ],
        [
         187,
         "Anthony",
         "Cabrio",
         "SH_CLERK",
         3000,
         121,
         50,
         "2021-04-24"
        ],
        [
         188,
         "Kelly",
         "Chung",
         "SH_CLERK",
         3800,
         122,
         50,
         "2019-08-30"
        ],
        [
         189,
         "Jennifer",
         "Dilly",
         "SH_CLERK",
         3600,
         122,
         50,
         "2019-10-29"
        ],
        [
         190,
         "Timothy",
         "Gates",
         "SH_CLERK",
         2900,
         122,
         50,
         "2020-09-25"
        ],
        [
         191,
         "Randall",
         "Perkins",
         "SH_CLERK",
         2500,
         122,
         50,
         "2022-03-05"
        ],
        [
         192,
         "Sarah",
         "Bell",
         "SH_CLERK",
         4000,
         123,
         50,
         "2018-04-21"
        ],
        [
         193,
         "Britney",
         "Everett",
         "SH_CLERK",
         3900,
         123,
         50,
         "2019-05-19"
        ],
        [
         194,
         "Samuel",
         "McCain",
         "SH_CLERK",
         3200,
         123,
         50,
         "2020-09-15"
        ],
        [
         195,
         "Vance",
         "Jones",
         "SH_CLERK",
         2800,
         123,
         50,
         "2021-06-01"
        ],
        [
         196,
         "Alana",
         "Walsh",
         "SH_CLERK",
         3100,
         124,
         50,
         "2020-07-09"
        ],
        [
         197,
         "Kevin",
         "Feeney",
         "SH_CLERK",
         3000,
         124,
         50,
         "2020-08-07"
        ],
        [
         198,
         "Donald",
         "OConnell",
         "SH_CLERK",
         2600,
         124,
         50,
         "2021-09-05"
        ],
        [
         199,
         "Douglas",
         "Grant",
         "SH_CLERK",
         2600,
         124,
         50,
         "2022-03-30"
        ],
        [
         200,
         "Jennifer",
         "Whalen",
         "AD_ASST",
         4400,
         101,
         10,
         "2009-12-02"
        ],
        [
         201,
         "Michael",
         "Hartstein",
         "MK_MAN",
         13000,
         100,
         20,
         "2018-05-04"
        ],
        [
         202,
         "Pat",
         "Fay",
         "MK_REP",
         6000,
         201,
         20,
         "2019-11-02"
        ],
        [
         203,
         "Susan",
         "Mavris",
         "HR_REP",
         6500,
         101,
         40,
         "2016-08-22"
        ],
        [
         204,
         "Hermann",
         "Baer",
         "PR_REP",
         10000,
         101,
         70,
         "2016-08-22"
        ],
        [
         205,
         "Shelley",
         "Higgins",
         "AC_MGR",
         12000,
         101,
         110,
         "2016-08-22"
        ],
        [
         206,
         "William",
         "Gietz",
         "AC_ACCOUNT",
         8300,
         205,
         110,
         "2016-08-22"
        ]
       ],
       "datasetInfos": [],
       "dbfsResultPath": null,
       "isJsonSchema": true,
       "metadata": {},
       "overflow": false,
       "plotOptions": {
        "customPlotOptions": {},
        "displayType": "table",
        "pivotAggregation": null,
        "pivotColumns": null,
        "xColumns": null,
        "yColumns": null
       },
       "removedWidgets": [],
       "schema": [
        {
         "metadata": "{}",
         "name": "EMPLOYEE_ID",
         "type": "\"integer\""
        },
        {
         "metadata": "{}",
         "name": "FIRST_NAME",
         "type": "\"string\""
        },
        {
         "metadata": "{}",
         "name": "LAST_NAME",
         "type": "\"string\""
        },
        {
         "metadata": "{}",
         "name": "JOB_ID",
         "type": "\"string\""
        },
        {
         "metadata": "{}",
         "name": "SALARY",
         "type": "\"integer\""
        },
        {
         "metadata": "{}",
         "name": "MANAGER_ID",
         "type": "\"integer\""
        },
        {
         "metadata": "{}",
         "name": "DEPARTMENT_ID",
         "type": "\"integer\""
        },
        {
         "metadata": "{}",
         "name": "HIRE_DATE",
         "type": "\"date\""
        }
       ],
       "type": "table"
      }
     },
     "output_type": "display_data"
    }
   ],
   "source": [
    "# Drop unnecessary columns\n",
    "employees = employees.drop('EMAIL', 'PHONE', 'DATE_HIRED')\n",
    "employees.display()"
   ]
  },
  {
   "cell_type": "code",
   "execution_count": 0,
   "metadata": {
    "application/vnd.databricks.v1+cell": {
     "cellMetadata": {
      "byteLimit": 2048000,
      "rowLimit": 10000
     },
     "inputWidgets": {},
     "nuid": "ebb42809-e86d-494a-823c-a2209c3c46fb",
     "showTitle": false,
     "title": ""
    }
   },
   "outputs": [
    {
     "output_type": "display_data",
     "data": {
      "text/html": [
       "<style scoped>\n  .ansiout {\n    display: block;\n    unicode-bidi: embed;\n    white-space: pre-wrap;\n    word-wrap: break-word;\n    word-break: break-all;\n    font-family: \"Source Code Pro\", \"Menlo\", monospace;;\n    font-size: 13px;\n    color: #555;\n    margin-left: 4px;\n    line-height: 19px;\n  }\n</style>\n<div class=\"ansiout\">Out[71]: True</div>"
      ]
     },
     "metadata": {
      "application/vnd.databricks.v1+output": {
       "addedWidgets": {},
       "arguments": {},
       "data": "<div class=\"ansiout\">Out[71]: True</div>",
       "datasetInfos": [],
       "metadata": {},
       "removedWidgets": [],
       "type": "html"
      }
     },
     "output_type": "display_data"
    }
   ],
   "source": [
    "dbutils.fs.rm('/mnt/employees/silver', recurse=True)"
   ]
  },
  {
   "cell_type": "code",
   "execution_count": 0,
   "metadata": {
    "application/vnd.databricks.v1+cell": {
     "cellMetadata": {
      "byteLimit": 2048000,
      "rowLimit": 10000
     },
     "inputWidgets": {},
     "nuid": "e850f6e7-287e-471b-90c3-ea36f5cc1e76",
     "showTitle": false,
     "title": ""
    }
   },
   "outputs": [
    {
     "output_type": "display_data",
     "data": {
      "text/html": [
       "<style scoped>\n  .ansiout {\n    display: block;\n    unicode-bidi: embed;\n    white-space: pre-wrap;\n    word-wrap: break-word;\n    word-break: break-all;\n    font-family: \"Source Code Pro\", \"Menlo\", monospace;;\n    font-size: 13px;\n    color: #555;\n    margin-left: 4px;\n    line-height: 19px;\n  }\n</style>\n<div class=\"ansiout\"></div>"
      ]
     },
     "metadata": {
      "application/vnd.databricks.v1+output": {
       "addedWidgets": {},
       "arguments": {},
       "data": "<div class=\"ansiout\"></div>",
       "datasetInfos": [],
       "metadata": {},
       "removedWidgets": [],
       "type": "html"
      }
     },
     "output_type": "display_data"
    }
   ],
   "source": [
    "# Write files to /mnt/employees/silver\n",
    "save_path = '/mnt/employees/silver'\n",
    "employees.write.parquet(f\"{save_path}/employees\")\n",
    "departments.write.parquet(f\"{save_path}/departments\")\n",
    "countries.write.parquet(f\"{save_path}/countries\")"
   ]
  },
  {
   "cell_type": "markdown",
   "metadata": {
    "application/vnd.databricks.v1+cell": {
     "cellMetadata": {},
     "inputWidgets": {},
     "nuid": "13620535-d433-49a3-aeab-a6fd63b0e695",
     "showTitle": false,
     "title": ""
    }
   },
   "source": [
    "### GOLD SECTION"
   ]
  },
  {
   "cell_type": "code",
   "execution_count": 0,
   "metadata": {
    "application/vnd.databricks.v1+cell": {
     "cellMetadata": {
      "byteLimit": 2048000,
      "rowLimit": 10000
     },
     "inputWidgets": {},
     "nuid": "942ccfd0-c91e-4714-b807-6d483103684a",
     "showTitle": false,
     "title": ""
    }
   },
   "outputs": [
    {
     "output_type": "display_data",
     "data": {
      "text/html": [
       "<style scoped>\n  .table-result-container {\n    max-height: 300px;\n    overflow: auto;\n  }\n  table, th, td {\n    border: 1px solid black;\n    border-collapse: collapse;\n  }\n  th, td {\n    padding: 5px;\n  }\n  th {\n    text-align: left;\n  }\n</style><div class='table-result-container'><table class='table-result'><thead style='background-color: white'><tr><th>EMPLOYEE_ID</th><th>FIRST_NAME</th><th>LAST_NAME</th><th>JOB_ID</th><th>SALARY</th><th>MANAGER_ID</th><th>DEPARTMENT_ID</th><th>HIRE_DATE</th><th>FULL_NAME</th></tr></thead><tbody><tr><td>100</td><td>Steven</td><td>King</td><td>AD_PRES</td><td>24000</td><td>null</td><td>90</td><td>2009-09-01</td><td>Steven King</td></tr><tr><td>101</td><td>Neena</td><td>Kochhar</td><td>AD_VP</td><td>17000</td><td>100</td><td>90</td><td>2011-12-07</td><td>Neena Kochhar</td></tr><tr><td>102</td><td>Lex</td><td>De Haan</td><td>AD_VP</td><td>17000</td><td>100</td><td>90</td><td>2015-03-31</td><td>Lex De Haan</td></tr><tr><td>103</td><td>Alexander</td><td>Hunold</td><td>IT_PROG</td><td>9000</td><td>102</td><td>60</td><td>2012-03-20</td><td>Alexander Hunold</td></tr><tr><td>104</td><td>Bruce</td><td>Ernst</td><td>IT_PROG</td><td>6000</td><td>103</td><td>60</td><td>2013-08-05</td><td>Bruce Ernst</td></tr><tr><td>105</td><td>David</td><td>Austin</td><td>IT_PROG</td><td>4800</td><td>103</td><td>60</td><td>2019-09-10</td><td>David Austin</td></tr><tr><td>106</td><td>Valli</td><td>Pataballa</td><td>IT_PROG</td><td>4800</td><td>103</td><td>60</td><td>2020-04-22</td><td>Valli Pataballa</td></tr><tr><td>107</td><td>Diana</td><td>Lorentz</td><td>IT_PROG</td><td>4200</td><td>103</td><td>60</td><td>2021-04-24</td><td>Diana Lorentz</td></tr><tr><td>108</td><td>Nancy</td><td>Greenberg</td><td>FI_MGR</td><td>12000</td><td>101</td><td>100</td><td>2016-11-01</td><td>Nancy Greenberg</td></tr><tr><td>109</td><td>Daniel</td><td>Faviet</td><td>FI_ACCOUNT</td><td>9000</td><td>108</td><td>100</td><td>2016-10-31</td><td>Daniel Faviet</td></tr><tr><td>110</td><td>John</td><td>Chen</td><td>FI_ACCOUNT</td><td>8200</td><td>108</td><td>100</td><td>2019-12-14</td><td>John Chen</td></tr><tr><td>111</td><td>Ismael</td><td>Sciarra</td><td>FI_ACCOUNT</td><td>7700</td><td>108</td><td>100</td><td>2019-12-16</td><td>Ismael Sciarra</td></tr><tr><td>112</td><td>Jose Manuel</td><td>Urman</td><td>FI_ACCOUNT</td><td>7800</td><td>108</td><td>100</td><td>2020-05-22</td><td>Jose Manuel Urman</td></tr><tr><td>113</td><td>Luis</td><td>Popp</td><td>FI_ACCOUNT</td><td>6900</td><td>108</td><td>100</td><td>2022-02-21</td><td>Luis Popp</td></tr><tr><td>114</td><td>Den</td><td>Raphaely</td><td>PU_MAN</td><td>11000</td><td>100</td><td>30</td><td>2017-02-21</td><td>Den Raphaely</td></tr><tr><td>115</td><td>Alexander</td><td>Khoo</td><td>PU_CLERK</td><td>3100</td><td>114</td><td>30</td><td>2017-08-02</td><td>Alexander Khoo</td></tr><tr><td>116</td><td>Shelli</td><td>Baida</td><td>PU_CLERK</td><td>2900</td><td>114</td><td>30</td><td>2020-03-10</td><td>Shelli Baida</td></tr><tr><td>117</td><td>Sigal</td><td>Tobias</td><td>PU_CLERK</td><td>2800</td><td>114</td><td>30</td><td>2019-10-09</td><td>Sigal Tobias</td></tr><tr><td>118</td><td>Guy</td><td>Himuro</td><td>PU_CLERK</td><td>2600</td><td>114</td><td>30</td><td>2021-01-30</td><td>Guy Himuro</td></tr><tr><td>119</td><td>Karen</td><td>Colmenares</td><td>PU_CLERK</td><td>2500</td><td>114</td><td>30</td><td>2021-10-25</td><td>Karen Colmenares</td></tr><tr><td>120</td><td>Matthew</td><td>Weiss</td><td>ST_MAN</td><td>8000</td><td>100</td><td>50</td><td>2018-10-03</td><td>Matthew Weiss</td></tr><tr><td>121</td><td>Adam</td><td>Fripp</td><td>ST_MAN</td><td>8200</td><td>100</td><td>50</td><td>2019-06-26</td><td>Adam Fripp</td></tr><tr><td>122</td><td>Payam</td><td>Kaufling</td><td>ST_MAN</td><td>7900</td><td>100</td><td>50</td><td>2017-07-16</td><td>Payam Kaufling</td></tr><tr><td>123</td><td>Shanta</td><td>Vollman</td><td>ST_MAN</td><td>6500</td><td>100</td><td>50</td><td>2019-12-26</td><td>Shanta Vollman</td></tr><tr><td>124</td><td>Kevin</td><td>Mourgos</td><td>ST_MAN</td><td>5800</td><td>100</td><td>50</td><td>2022-01-31</td><td>Kevin Mourgos</td></tr><tr><td>125</td><td>Julia</td><td>Nayer</td><td>ST_CLERK</td><td>3200</td><td>120</td><td>50</td><td>2019-10-01</td><td>Julia Nayer</td></tr><tr><td>126</td><td>Irene</td><td>Mikkilineni</td><td>ST_CLERK</td><td>2700</td><td>120</td><td>50</td><td>2020-12-13</td><td>Irene Mikkilineni</td></tr><tr><td>127</td><td>James</td><td>Landry</td><td>ST_CLERK</td><td>2400</td><td>120</td><td>50</td><td>2021-03-31</td><td>James Landry</td></tr><tr><td>128</td><td>Steven</td><td>Markle</td><td>ST_CLERK</td><td>2200</td><td>120</td><td>50</td><td>2022-05-24</td><td>Steven Markle</td></tr><tr><td>129</td><td>Laura</td><td>Bissot</td><td>ST_CLERK</td><td>3300</td><td>121</td><td>50</td><td>2019-11-05</td><td>Laura Bissot</td></tr><tr><td>130</td><td>Mozhe</td><td>Atkinson</td><td>ST_CLERK</td><td>2800</td><td>121</td><td>50</td><td>2020-01-15</td><td>Mozhe Atkinson</td></tr><tr><td>131</td><td>James</td><td>Marlow</td><td>ST_CLERK</td><td>2500</td><td>121</td><td>50</td><td>2019-05-04</td><td>James Marlow</td></tr><tr><td>132</td><td>TJ</td><td>Olson</td><td>ST_CLERK</td><td>2100</td><td>121</td><td>50</td><td>2021-06-25</td><td>TJ Olson</td></tr><tr><td>133</td><td>Jason</td><td>Mallin</td><td>ST_CLERK</td><td>3300</td><td>122</td><td>50</td><td>2018-08-30</td><td>Jason Mallin</td></tr><tr><td>134</td><td>Michael</td><td>Rogers</td><td>ST_CLERK</td><td>2900</td><td>122</td><td>50</td><td>2020-11-10</td><td>Michael Rogers</td></tr><tr><td>135</td><td>Ki</td><td>Gee</td><td>ST_CLERK</td><td>2400</td><td>122</td><td>50</td><td>2022-02-26</td><td>Ki Gee</td></tr><tr><td>136</td><td>Hazel</td><td>Philtanker</td><td>ST_CLERK</td><td>2200</td><td>122</td><td>50</td><td>2022-04-23</td><td>Hazel Philtanker</td></tr><tr><td>137</td><td>Renske</td><td>Ladwig</td><td>ST_CLERK</td><td>3600</td><td>123</td><td>50</td><td>2017-09-28</td><td>Renske Ladwig</td></tr><tr><td>138</td><td>Stephen</td><td>Stiles</td><td>ST_CLERK</td><td>3200</td><td>123</td><td>50</td><td>2020-01-11</td><td>Stephen Stiles</td></tr><tr><td>139</td><td>John</td><td>Seo</td><td>ST_CLERK</td><td>2700</td><td>123</td><td>50</td><td>2020-04-29</td><td>John Seo</td></tr><tr><td>140</td><td>Joshua</td><td>Patel</td><td>ST_CLERK</td><td>2500</td><td>123</td><td>50</td><td>2020-06-21</td><td>Joshua Patel</td></tr><tr><td>141</td><td>Trenna</td><td>Rajs</td><td>ST_CLERK</td><td>3500</td><td>124</td><td>50</td><td>2018-01-01</td><td>Trenna Rajs</td></tr><tr><td>142</td><td>Curtis</td><td>Davies</td><td>ST_CLERK</td><td>3100</td><td>124</td><td>50</td><td>2019-04-16</td><td>Curtis Davies</td></tr><tr><td>143</td><td>Randall</td><td>Matos</td><td>ST_CLERK</td><td>2600</td><td>124</td><td>50</td><td>2020-05-30</td><td>Randall Matos</td></tr><tr><td>144</td><td>Peter</td><td>Vargas</td><td>ST_CLERK</td><td>2500</td><td>124</td><td>50</td><td>2020-09-23</td><td>Peter Vargas</td></tr><tr><td>145</td><td>John</td><td>Russell</td><td>SA_MAN</td><td>14000</td><td>100</td><td>80</td><td>2018-12-17</td><td>John Russell</td></tr><tr><td>146</td><td>Karen</td><td>Partners</td><td>SA_MAN</td><td>13500</td><td>100</td><td>80</td><td>2019-03-23</td><td>Karen Partners</td></tr><tr><td>147</td><td>Alberto</td><td>Errazuriz</td><td>SA_MAN</td><td>12000</td><td>100</td><td>80</td><td>2019-05-26</td><td>Alberto Errazuriz</td></tr><tr><td>148</td><td>Gerald</td><td>Cambrault</td><td>SA_MAN</td><td>11000</td><td>100</td><td>80</td><td>2021-12-30</td><td>Gerald Cambrault</td></tr><tr><td>149</td><td>Eleni</td><td>Zlotkey</td><td>SA_MAN</td><td>10500</td><td>100</td><td>80</td><td>2022-04-15</td><td>Eleni Zlotkey</td></tr><tr><td>150</td><td>Peter</td><td>Tucker</td><td>SA_REP</td><td>10000</td><td>145</td><td>80</td><td>2019-04-17</td><td>Peter Tucker</td></tr><tr><td>151</td><td>David</td><td>Bernstein</td><td>SA_REP</td><td>9500</td><td>145</td><td>80</td><td>2019-06-09</td><td>David Bernstein</td></tr><tr><td>152</td><td>Peter</td><td>Hall</td><td>SA_REP</td><td>9000</td><td>145</td><td>80</td><td>2019-11-05</td><td>Peter Hall</td></tr><tr><td>153</td><td>Christopher</td><td>Olsen</td><td>SA_REP</td><td>8000</td><td>145</td><td>80</td><td>2020-06-14</td><td>Christopher Olsen</td></tr><tr><td>154</td><td>Nanette</td><td>Cambrault</td><td>SA_REP</td><td>7500</td><td>145</td><td>80</td><td>2021-02-23</td><td>Nanette Cambrault</td></tr><tr><td>155</td><td>Oliver</td><td>Tuvault</td><td>SA_REP</td><td>7000</td><td>145</td><td>80</td><td>2022-02-07</td><td>Oliver Tuvault</td></tr><tr><td>156</td><td>Janette</td><td>King</td><td>SA_REP</td><td>10000</td><td>146</td><td>80</td><td>2018-04-16</td><td>Janette King</td></tr><tr><td>157</td><td>Patrick</td><td>Sully</td><td>SA_REP</td><td>9500</td><td>146</td><td>80</td><td>2018-05-20</td><td>Patrick Sully</td></tr><tr><td>158</td><td>Allan</td><td>McEwen</td><td>SA_REP</td><td>9000</td><td>146</td><td>80</td><td>2018-10-17</td><td>Allan McEwen</td></tr><tr><td>159</td><td>Lindsey</td><td>Smith</td><td>SA_REP</td><td>8000</td><td>146</td><td>80</td><td>2019-05-26</td><td>Lindsey Smith</td></tr><tr><td>160</td><td>Louise</td><td>Doran</td><td>SA_REP</td><td>7500</td><td>146</td><td>80</td><td>2020-03-01</td><td>Louise Doran</td></tr><tr><td>161</td><td>Sarath</td><td>Sewall</td><td>SA_REP</td><td>7000</td><td>146</td><td>80</td><td>2021-01-18</td><td>Sarath Sewall</td></tr><tr><td>162</td><td>Clara</td><td>Vishney</td><td>SA_REP</td><td>10500</td><td>147</td><td>80</td><td>2020-01-27</td><td>Clara Vishney</td></tr><tr><td>163</td><td>Danielle</td><td>Greene</td><td>SA_REP</td><td>9500</td><td>147</td><td>80</td><td>2021-06-03</td><td>Danielle Greene</td></tr><tr><td>164</td><td>Mattea</td><td>Marvins</td><td>SA_REP</td><td>7200</td><td>147</td><td>80</td><td>2022-04-10</td><td>Mattea Marvins</td></tr><tr><td>165</td><td>David</td><td>Lee</td><td>SA_REP</td><td>6800</td><td>147</td><td>80</td><td>2022-05-10</td><td>David Lee</td></tr><tr><td>166</td><td>Sundar</td><td>Ande</td><td>SA_REP</td><td>6400</td><td>147</td><td>80</td><td>2022-06-09</td><td>Sundar Ande</td></tr><tr><td>167</td><td>Amit</td><td>Banda</td><td>SA_REP</td><td>6200</td><td>147</td><td>80</td><td>2022-07-07</td><td>Amit Banda</td></tr><tr><td>168</td><td>Lisa</td><td>Ozer</td><td>SA_REP</td><td>11500</td><td>148</td><td>80</td><td>2019-05-27</td><td>Lisa Ozer</td></tr><tr><td>169</td><td>Harrison</td><td>Bloom</td><td>SA_REP</td><td>10000</td><td>148</td><td>80</td><td>2020-06-07</td><td>Harrison Bloom</td></tr><tr><td>170</td><td>Tayler</td><td>Fox</td><td>SA_REP</td><td>9600</td><td>148</td><td>80</td><td>2020-04-10</td><td>Tayler Fox</td></tr><tr><td>171</td><td>William</td><td>Smith</td><td>SA_REP</td><td>7400</td><td>148</td><td>80</td><td>2021-05-10</td><td>William Smith</td></tr><tr><td>172</td><td>Elizabeth</td><td>Bates</td><td>SA_REP</td><td>7300</td><td>148</td><td>80</td><td>2021-06-08</td><td>Elizabeth Bates</td></tr><tr><td>173</td><td>Sundita</td><td>Kumar</td><td>SA_REP</td><td>6100</td><td>148</td><td>80</td><td>2022-07-07</td><td>Sundita Kumar</td></tr><tr><td>174</td><td>Ellen</td><td>Abel</td><td>SA_REP</td><td>11000</td><td>149</td><td>80</td><td>2018-07-27</td><td>Ellen Abel</td></tr><tr><td>175</td><td>Alyssa</td><td>Hutton</td><td>SA_REP</td><td>8800</td><td>149</td><td>80</td><td>2019-06-04</td><td>Alyssa Hutton</td></tr><tr><td>176</td><td>Jonathon</td><td>Taylor</td><td>SA_REP</td><td>8600</td><td>149</td><td>80</td><td>2020-06-08</td><td>Jonathon Taylor</td></tr><tr><td>177</td><td>Jack</td><td>Livingston</td><td>SA_REP</td><td>8400</td><td>149</td><td>80</td><td>2020-07-08</td><td>Jack Livingston</td></tr><tr><td>178</td><td>Kimberely</td><td>Grant</td><td>SA_REP</td><td>7000</td><td>149</td><td>null</td><td>2021-08-08</td><td>Kimberely Grant</td></tr><tr><td>179</td><td>Charles</td><td>Johnson</td><td>SA_REP</td><td>6200</td><td>149</td><td>80</td><td>2022-03-21</td><td>Charles Johnson</td></tr><tr><td>180</td><td>Winston</td><td>Taylor</td><td>SH_CLERK</td><td>3200</td><td>120</td><td>50</td><td>2020-04-10</td><td>Winston Taylor</td></tr><tr><td>181</td><td>Jean</td><td>Fleaur</td><td>SH_CLERK</td><td>3100</td><td>120</td><td>50</td><td>2020-05-10</td><td>Jean Fleaur</td></tr><tr><td>182</td><td>Martha</td><td>Sullivan</td><td>SH_CLERK</td><td>2500</td><td>120</td><td>50</td><td>2021-09-05</td><td>Martha Sullivan</td></tr><tr><td>183</td><td>Girard</td><td>Geoni</td><td>SH_CLERK</td><td>2800</td><td>120</td><td>50</td><td>2022-04-20</td><td>Girard Geoni</td></tr><tr><td>184</td><td>Nandita</td><td>Sarchand</td><td>SH_CLERK</td><td>4200</td><td>121</td><td>50</td><td>2018-04-13</td><td>Nandita Sarchand</td></tr><tr><td>185</td><td>Alexis</td><td>Bull</td><td>SH_CLERK</td><td>4100</td><td>121</td><td>50</td><td>2019-05-08</td><td>Alexis Bull</td></tr><tr><td>186</td><td>Julia</td><td>Dellinger</td><td>SH_CLERK</td><td>3400</td><td>121</td><td>50</td><td>2020-09-08</td><td>Julia Dellinger</td></tr><tr><td>187</td><td>Anthony</td><td>Cabrio</td><td>SH_CLERK</td><td>3000</td><td>121</td><td>50</td><td>2021-04-24</td><td>Anthony Cabrio</td></tr><tr><td>188</td><td>Kelly</td><td>Chung</td><td>SH_CLERK</td><td>3800</td><td>122</td><td>50</td><td>2019-08-30</td><td>Kelly Chung</td></tr><tr><td>189</td><td>Jennifer</td><td>Dilly</td><td>SH_CLERK</td><td>3600</td><td>122</td><td>50</td><td>2019-10-29</td><td>Jennifer Dilly</td></tr><tr><td>190</td><td>Timothy</td><td>Gates</td><td>SH_CLERK</td><td>2900</td><td>122</td><td>50</td><td>2020-09-25</td><td>Timothy Gates</td></tr><tr><td>191</td><td>Randall</td><td>Perkins</td><td>SH_CLERK</td><td>2500</td><td>122</td><td>50</td><td>2022-03-05</td><td>Randall Perkins</td></tr><tr><td>192</td><td>Sarah</td><td>Bell</td><td>SH_CLERK</td><td>4000</td><td>123</td><td>50</td><td>2018-04-21</td><td>Sarah Bell</td></tr><tr><td>193</td><td>Britney</td><td>Everett</td><td>SH_CLERK</td><td>3900</td><td>123</td><td>50</td><td>2019-05-19</td><td>Britney Everett</td></tr><tr><td>194</td><td>Samuel</td><td>McCain</td><td>SH_CLERK</td><td>3200</td><td>123</td><td>50</td><td>2020-09-15</td><td>Samuel McCain</td></tr><tr><td>195</td><td>Vance</td><td>Jones</td><td>SH_CLERK</td><td>2800</td><td>123</td><td>50</td><td>2021-06-01</td><td>Vance Jones</td></tr><tr><td>196</td><td>Alana</td><td>Walsh</td><td>SH_CLERK</td><td>3100</td><td>124</td><td>50</td><td>2020-07-09</td><td>Alana Walsh</td></tr><tr><td>197</td><td>Kevin</td><td>Feeney</td><td>SH_CLERK</td><td>3000</td><td>124</td><td>50</td><td>2020-08-07</td><td>Kevin Feeney</td></tr><tr><td>198</td><td>Donald</td><td>OConnell</td><td>SH_CLERK</td><td>2600</td><td>124</td><td>50</td><td>2021-09-05</td><td>Donald OConnell</td></tr><tr><td>199</td><td>Douglas</td><td>Grant</td><td>SH_CLERK</td><td>2600</td><td>124</td><td>50</td><td>2022-03-30</td><td>Douglas Grant</td></tr><tr><td>200</td><td>Jennifer</td><td>Whalen</td><td>AD_ASST</td><td>4400</td><td>101</td><td>10</td><td>2009-12-02</td><td>Jennifer Whalen</td></tr><tr><td>201</td><td>Michael</td><td>Hartstein</td><td>MK_MAN</td><td>13000</td><td>100</td><td>20</td><td>2018-05-04</td><td>Michael Hartstein</td></tr><tr><td>202</td><td>Pat</td><td>Fay</td><td>MK_REP</td><td>6000</td><td>201</td><td>20</td><td>2019-11-02</td><td>Pat Fay</td></tr><tr><td>203</td><td>Susan</td><td>Mavris</td><td>HR_REP</td><td>6500</td><td>101</td><td>40</td><td>2016-08-22</td><td>Susan Mavris</td></tr><tr><td>204</td><td>Hermann</td><td>Baer</td><td>PR_REP</td><td>10000</td><td>101</td><td>70</td><td>2016-08-22</td><td>Hermann Baer</td></tr><tr><td>205</td><td>Shelley</td><td>Higgins</td><td>AC_MGR</td><td>12000</td><td>101</td><td>110</td><td>2016-08-22</td><td>Shelley Higgins</td></tr><tr><td>206</td><td>William</td><td>Gietz</td><td>AC_ACCOUNT</td><td>8300</td><td>205</td><td>110</td><td>2016-08-22</td><td>William Gietz</td></tr></tbody></table></div>"
      ]
     },
     "metadata": {
      "application/vnd.databricks.v1+output": {
       "addedWidgets": {},
       "aggData": [],
       "aggError": "",
       "aggOverflow": false,
       "aggSchema": [],
       "aggSeriesLimitReached": false,
       "aggType": "",
       "arguments": {},
       "columnCustomDisplayInfos": {},
       "data": [
        [
         100,
         "Steven",
         "King",
         "AD_PRES",
         24000,
         null,
         90,
         "2009-09-01",
         "Steven King"
        ],
        [
         101,
         "Neena",
         "Kochhar",
         "AD_VP",
         17000,
         100,
         90,
         "2011-12-07",
         "Neena Kochhar"
        ],
        [
         102,
         "Lex",
         "De Haan",
         "AD_VP",
         17000,
         100,
         90,
         "2015-03-31",
         "Lex De Haan"
        ],
        [
         103,
         "Alexander",
         "Hunold",
         "IT_PROG",
         9000,
         102,
         60,
         "2012-03-20",
         "Alexander Hunold"
        ],
        [
         104,
         "Bruce",
         "Ernst",
         "IT_PROG",
         6000,
         103,
         60,
         "2013-08-05",
         "Bruce Ernst"
        ],
        [
         105,
         "David",
         "Austin",
         "IT_PROG",
         4800,
         103,
         60,
         "2019-09-10",
         "David Austin"
        ],
        [
         106,
         "Valli",
         "Pataballa",
         "IT_PROG",
         4800,
         103,
         60,
         "2020-04-22",
         "Valli Pataballa"
        ],
        [
         107,
         "Diana",
         "Lorentz",
         "IT_PROG",
         4200,
         103,
         60,
         "2021-04-24",
         "Diana Lorentz"
        ],
        [
         108,
         "Nancy",
         "Greenberg",
         "FI_MGR",
         12000,
         101,
         100,
         "2016-11-01",
         "Nancy Greenberg"
        ],
        [
         109,
         "Daniel",
         "Faviet",
         "FI_ACCOUNT",
         9000,
         108,
         100,
         "2016-10-31",
         "Daniel Faviet"
        ],
        [
         110,
         "John",
         "Chen",
         "FI_ACCOUNT",
         8200,
         108,
         100,
         "2019-12-14",
         "John Chen"
        ],
        [
         111,
         "Ismael",
         "Sciarra",
         "FI_ACCOUNT",
         7700,
         108,
         100,
         "2019-12-16",
         "Ismael Sciarra"
        ],
        [
         112,
         "Jose Manuel",
         "Urman",
         "FI_ACCOUNT",
         7800,
         108,
         100,
         "2020-05-22",
         "Jose Manuel Urman"
        ],
        [
         113,
         "Luis",
         "Popp",
         "FI_ACCOUNT",
         6900,
         108,
         100,
         "2022-02-21",
         "Luis Popp"
        ],
        [
         114,
         "Den",
         "Raphaely",
         "PU_MAN",
         11000,
         100,
         30,
         "2017-02-21",
         "Den Raphaely"
        ],
        [
         115,
         "Alexander",
         "Khoo",
         "PU_CLERK",
         3100,
         114,
         30,
         "2017-08-02",
         "Alexander Khoo"
        ],
        [
         116,
         "Shelli",
         "Baida",
         "PU_CLERK",
         2900,
         114,
         30,
         "2020-03-10",
         "Shelli Baida"
        ],
        [
         117,
         "Sigal",
         "Tobias",
         "PU_CLERK",
         2800,
         114,
         30,
         "2019-10-09",
         "Sigal Tobias"
        ],
        [
         118,
         "Guy",
         "Himuro",
         "PU_CLERK",
         2600,
         114,
         30,
         "2021-01-30",
         "Guy Himuro"
        ],
        [
         119,
         "Karen",
         "Colmenares",
         "PU_CLERK",
         2500,
         114,
         30,
         "2021-10-25",
         "Karen Colmenares"
        ],
        [
         120,
         "Matthew",
         "Weiss",
         "ST_MAN",
         8000,
         100,
         50,
         "2018-10-03",
         "Matthew Weiss"
        ],
        [
         121,
         "Adam",
         "Fripp",
         "ST_MAN",
         8200,
         100,
         50,
         "2019-06-26",
         "Adam Fripp"
        ],
        [
         122,
         "Payam",
         "Kaufling",
         "ST_MAN",
         7900,
         100,
         50,
         "2017-07-16",
         "Payam Kaufling"
        ],
        [
         123,
         "Shanta",
         "Vollman",
         "ST_MAN",
         6500,
         100,
         50,
         "2019-12-26",
         "Shanta Vollman"
        ],
        [
         124,
         "Kevin",
         "Mourgos",
         "ST_MAN",
         5800,
         100,
         50,
         "2022-01-31",
         "Kevin Mourgos"
        ],
        [
         125,
         "Julia",
         "Nayer",
         "ST_CLERK",
         3200,
         120,
         50,
         "2019-10-01",
         "Julia Nayer"
        ],
        [
         126,
         "Irene",
         "Mikkilineni",
         "ST_CLERK",
         2700,
         120,
         50,
         "2020-12-13",
         "Irene Mikkilineni"
        ],
        [
         127,
         "James",
         "Landry",
         "ST_CLERK",
         2400,
         120,
         50,
         "2021-03-31",
         "James Landry"
        ],
        [
         128,
         "Steven",
         "Markle",
         "ST_CLERK",
         2200,
         120,
         50,
         "2022-05-24",
         "Steven Markle"
        ],
        [
         129,
         "Laura",
         "Bissot",
         "ST_CLERK",
         3300,
         121,
         50,
         "2019-11-05",
         "Laura Bissot"
        ],
        [
         130,
         "Mozhe",
         "Atkinson",
         "ST_CLERK",
         2800,
         121,
         50,
         "2020-01-15",
         "Mozhe Atkinson"
        ],
        [
         131,
         "James",
         "Marlow",
         "ST_CLERK",
         2500,
         121,
         50,
         "2019-05-04",
         "James Marlow"
        ],
        [
         132,
         "TJ",
         "Olson",
         "ST_CLERK",
         2100,
         121,
         50,
         "2021-06-25",
         "TJ Olson"
        ],
        [
         133,
         "Jason",
         "Mallin",
         "ST_CLERK",
         3300,
         122,
         50,
         "2018-08-30",
         "Jason Mallin"
        ],
        [
         134,
         "Michael",
         "Rogers",
         "ST_CLERK",
         2900,
         122,
         50,
         "2020-11-10",
         "Michael Rogers"
        ],
        [
         135,
         "Ki",
         "Gee",
         "ST_CLERK",
         2400,
         122,
         50,
         "2022-02-26",
         "Ki Gee"
        ],
        [
         136,
         "Hazel",
         "Philtanker",
         "ST_CLERK",
         2200,
         122,
         50,
         "2022-04-23",
         "Hazel Philtanker"
        ],
        [
         137,
         "Renske",
         "Ladwig",
         "ST_CLERK",
         3600,
         123,
         50,
         "2017-09-28",
         "Renske Ladwig"
        ],
        [
         138,
         "Stephen",
         "Stiles",
         "ST_CLERK",
         3200,
         123,
         50,
         "2020-01-11",
         "Stephen Stiles"
        ],
        [
         139,
         "John",
         "Seo",
         "ST_CLERK",
         2700,
         123,
         50,
         "2020-04-29",
         "John Seo"
        ],
        [
         140,
         "Joshua",
         "Patel",
         "ST_CLERK",
         2500,
         123,
         50,
         "2020-06-21",
         "Joshua Patel"
        ],
        [
         141,
         "Trenna",
         "Rajs",
         "ST_CLERK",
         3500,
         124,
         50,
         "2018-01-01",
         "Trenna Rajs"
        ],
        [
         142,
         "Curtis",
         "Davies",
         "ST_CLERK",
         3100,
         124,
         50,
         "2019-04-16",
         "Curtis Davies"
        ],
        [
         143,
         "Randall",
         "Matos",
         "ST_CLERK",
         2600,
         124,
         50,
         "2020-05-30",
         "Randall Matos"
        ],
        [
         144,
         "Peter",
         "Vargas",
         "ST_CLERK",
         2500,
         124,
         50,
         "2020-09-23",
         "Peter Vargas"
        ],
        [
         145,
         "John",
         "Russell",
         "SA_MAN",
         14000,
         100,
         80,
         "2018-12-17",
         "John Russell"
        ],
        [
         146,
         "Karen",
         "Partners",
         "SA_MAN",
         13500,
         100,
         80,
         "2019-03-23",
         "Karen Partners"
        ],
        [
         147,
         "Alberto",
         "Errazuriz",
         "SA_MAN",
         12000,
         100,
         80,
         "2019-05-26",
         "Alberto Errazuriz"
        ],
        [
         148,
         "Gerald",
         "Cambrault",
         "SA_MAN",
         11000,
         100,
         80,
         "2021-12-30",
         "Gerald Cambrault"
        ],
        [
         149,
         "Eleni",
         "Zlotkey",
         "SA_MAN",
         10500,
         100,
         80,
         "2022-04-15",
         "Eleni Zlotkey"
        ],
        [
         150,
         "Peter",
         "Tucker",
         "SA_REP",
         10000,
         145,
         80,
         "2019-04-17",
         "Peter Tucker"
        ],
        [
         151,
         "David",
         "Bernstein",
         "SA_REP",
         9500,
         145,
         80,
         "2019-06-09",
         "David Bernstein"
        ],
        [
         152,
         "Peter",
         "Hall",
         "SA_REP",
         9000,
         145,
         80,
         "2019-11-05",
         "Peter Hall"
        ],
        [
         153,
         "Christopher",
         "Olsen",
         "SA_REP",
         8000,
         145,
         80,
         "2020-06-14",
         "Christopher Olsen"
        ],
        [
         154,
         "Nanette",
         "Cambrault",
         "SA_REP",
         7500,
         145,
         80,
         "2021-02-23",
         "Nanette Cambrault"
        ],
        [
         155,
         "Oliver",
         "Tuvault",
         "SA_REP",
         7000,
         145,
         80,
         "2022-02-07",
         "Oliver Tuvault"
        ],
        [
         156,
         "Janette",
         "King",
         "SA_REP",
         10000,
         146,
         80,
         "2018-04-16",
         "Janette King"
        ],
        [
         157,
         "Patrick",
         "Sully",
         "SA_REP",
         9500,
         146,
         80,
         "2018-05-20",
         "Patrick Sully"
        ],
        [
         158,
         "Allan",
         "McEwen",
         "SA_REP",
         9000,
         146,
         80,
         "2018-10-17",
         "Allan McEwen"
        ],
        [
         159,
         "Lindsey",
         "Smith",
         "SA_REP",
         8000,
         146,
         80,
         "2019-05-26",
         "Lindsey Smith"
        ],
        [
         160,
         "Louise",
         "Doran",
         "SA_REP",
         7500,
         146,
         80,
         "2020-03-01",
         "Louise Doran"
        ],
        [
         161,
         "Sarath",
         "Sewall",
         "SA_REP",
         7000,
         146,
         80,
         "2021-01-18",
         "Sarath Sewall"
        ],
        [
         162,
         "Clara",
         "Vishney",
         "SA_REP",
         10500,
         147,
         80,
         "2020-01-27",
         "Clara Vishney"
        ],
        [
         163,
         "Danielle",
         "Greene",
         "SA_REP",
         9500,
         147,
         80,
         "2021-06-03",
         "Danielle Greene"
        ],
        [
         164,
         "Mattea",
         "Marvins",
         "SA_REP",
         7200,
         147,
         80,
         "2022-04-10",
         "Mattea Marvins"
        ],
        [
         165,
         "David",
         "Lee",
         "SA_REP",
         6800,
         147,
         80,
         "2022-05-10",
         "David Lee"
        ],
        [
         166,
         "Sundar",
         "Ande",
         "SA_REP",
         6400,
         147,
         80,
         "2022-06-09",
         "Sundar Ande"
        ],
        [
         167,
         "Amit",
         "Banda",
         "SA_REP",
         6200,
         147,
         80,
         "2022-07-07",
         "Amit Banda"
        ],
        [
         168,
         "Lisa",
         "Ozer",
         "SA_REP",
         11500,
         148,
         80,
         "2019-05-27",
         "Lisa Ozer"
        ],
        [
         169,
         "Harrison",
         "Bloom",
         "SA_REP",
         10000,
         148,
         80,
         "2020-06-07",
         "Harrison Bloom"
        ],
        [
         170,
         "Tayler",
         "Fox",
         "SA_REP",
         9600,
         148,
         80,
         "2020-04-10",
         "Tayler Fox"
        ],
        [
         171,
         "William",
         "Smith",
         "SA_REP",
         7400,
         148,
         80,
         "2021-05-10",
         "William Smith"
        ],
        [
         172,
         "Elizabeth",
         "Bates",
         "SA_REP",
         7300,
         148,
         80,
         "2021-06-08",
         "Elizabeth Bates"
        ],
        [
         173,
         "Sundita",
         "Kumar",
         "SA_REP",
         6100,
         148,
         80,
         "2022-07-07",
         "Sundita Kumar"
        ],
        [
         174,
         "Ellen",
         "Abel",
         "SA_REP",
         11000,
         149,
         80,
         "2018-07-27",
         "Ellen Abel"
        ],
        [
         175,
         "Alyssa",
         "Hutton",
         "SA_REP",
         8800,
         149,
         80,
         "2019-06-04",
         "Alyssa Hutton"
        ],
        [
         176,
         "Jonathon",
         "Taylor",
         "SA_REP",
         8600,
         149,
         80,
         "2020-06-08",
         "Jonathon Taylor"
        ],
        [
         177,
         "Jack",
         "Livingston",
         "SA_REP",
         8400,
         149,
         80,
         "2020-07-08",
         "Jack Livingston"
        ],
        [
         178,
         "Kimberely",
         "Grant",
         "SA_REP",
         7000,
         149,
         null,
         "2021-08-08",
         "Kimberely Grant"
        ],
        [
         179,
         "Charles",
         "Johnson",
         "SA_REP",
         6200,
         149,
         80,
         "2022-03-21",
         "Charles Johnson"
        ],
        [
         180,
         "Winston",
         "Taylor",
         "SH_CLERK",
         3200,
         120,
         50,
         "2020-04-10",
         "Winston Taylor"
        ],
        [
         181,
         "Jean",
         "Fleaur",
         "SH_CLERK",
         3100,
         120,
         50,
         "2020-05-10",
         "Jean Fleaur"
        ],
        [
         182,
         "Martha",
         "Sullivan",
         "SH_CLERK",
         2500,
         120,
         50,
         "2021-09-05",
         "Martha Sullivan"
        ],
        [
         183,
         "Girard",
         "Geoni",
         "SH_CLERK",
         2800,
         120,
         50,
         "2022-04-20",
         "Girard Geoni"
        ],
        [
         184,
         "Nandita",
         "Sarchand",
         "SH_CLERK",
         4200,
         121,
         50,
         "2018-04-13",
         "Nandita Sarchand"
        ],
        [
         185,
         "Alexis",
         "Bull",
         "SH_CLERK",
         4100,
         121,
         50,
         "2019-05-08",
         "Alexis Bull"
        ],
        [
         186,
         "Julia",
         "Dellinger",
         "SH_CLERK",
         3400,
         121,
         50,
         "2020-09-08",
         "Julia Dellinger"
        ],
        [
         187,
         "Anthony",
         "Cabrio",
         "SH_CLERK",
         3000,
         121,
         50,
         "2021-04-24",
         "Anthony Cabrio"
        ],
        [
         188,
         "Kelly",
         "Chung",
         "SH_CLERK",
         3800,
         122,
         50,
         "2019-08-30",
         "Kelly Chung"
        ],
        [
         189,
         "Jennifer",
         "Dilly",
         "SH_CLERK",
         3600,
         122,
         50,
         "2019-10-29",
         "Jennifer Dilly"
        ],
        [
         190,
         "Timothy",
         "Gates",
         "SH_CLERK",
         2900,
         122,
         50,
         "2020-09-25",
         "Timothy Gates"
        ],
        [
         191,
         "Randall",
         "Perkins",
         "SH_CLERK",
         2500,
         122,
         50,
         "2022-03-05",
         "Randall Perkins"
        ],
        [
         192,
         "Sarah",
         "Bell",
         "SH_CLERK",
         4000,
         123,
         50,
         "2018-04-21",
         "Sarah Bell"
        ],
        [
         193,
         "Britney",
         "Everett",
         "SH_CLERK",
         3900,
         123,
         50,
         "2019-05-19",
         "Britney Everett"
        ],
        [
         194,
         "Samuel",
         "McCain",
         "SH_CLERK",
         3200,
         123,
         50,
         "2020-09-15",
         "Samuel McCain"
        ],
        [
         195,
         "Vance",
         "Jones",
         "SH_CLERK",
         2800,
         123,
         50,
         "2021-06-01",
         "Vance Jones"
        ],
        [
         196,
         "Alana",
         "Walsh",
         "SH_CLERK",
         3100,
         124,
         50,
         "2020-07-09",
         "Alana Walsh"
        ],
        [
         197,
         "Kevin",
         "Feeney",
         "SH_CLERK",
         3000,
         124,
         50,
         "2020-08-07",
         "Kevin Feeney"
        ],
        [
         198,
         "Donald",
         "OConnell",
         "SH_CLERK",
         2600,
         124,
         50,
         "2021-09-05",
         "Donald OConnell"
        ],
        [
         199,
         "Douglas",
         "Grant",
         "SH_CLERK",
         2600,
         124,
         50,
         "2022-03-30",
         "Douglas Grant"
        ],
        [
         200,
         "Jennifer",
         "Whalen",
         "AD_ASST",
         4400,
         101,
         10,
         "2009-12-02",
         "Jennifer Whalen"
        ],
        [
         201,
         "Michael",
         "Hartstein",
         "MK_MAN",
         13000,
         100,
         20,
         "2018-05-04",
         "Michael Hartstein"
        ],
        [
         202,
         "Pat",
         "Fay",
         "MK_REP",
         6000,
         201,
         20,
         "2019-11-02",
         "Pat Fay"
        ],
        [
         203,
         "Susan",
         "Mavris",
         "HR_REP",
         6500,
         101,
         40,
         "2016-08-22",
         "Susan Mavris"
        ],
        [
         204,
         "Hermann",
         "Baer",
         "PR_REP",
         10000,
         101,
         70,
         "2016-08-22",
         "Hermann Baer"
        ],
        [
         205,
         "Shelley",
         "Higgins",
         "AC_MGR",
         12000,
         101,
         110,
         "2016-08-22",
         "Shelley Higgins"
        ],
        [
         206,
         "William",
         "Gietz",
         "AC_ACCOUNT",
         8300,
         205,
         110,
         "2016-08-22",
         "William Gietz"
        ]
       ],
       "datasetInfos": [],
       "dbfsResultPath": null,
       "isJsonSchema": true,
       "metadata": {},
       "overflow": false,
       "plotOptions": {
        "customPlotOptions": {},
        "displayType": "table",
        "pivotAggregation": null,
        "pivotColumns": null,
        "xColumns": null,
        "yColumns": null
       },
       "removedWidgets": [],
       "schema": [
        {
         "metadata": "{}",
         "name": "EMPLOYEE_ID",
         "type": "\"integer\""
        },
        {
         "metadata": "{}",
         "name": "FIRST_NAME",
         "type": "\"string\""
        },
        {
         "metadata": "{}",
         "name": "LAST_NAME",
         "type": "\"string\""
        },
        {
         "metadata": "{}",
         "name": "JOB_ID",
         "type": "\"string\""
        },
        {
         "metadata": "{}",
         "name": "SALARY",
         "type": "\"integer\""
        },
        {
         "metadata": "{}",
         "name": "MANAGER_ID",
         "type": "\"integer\""
        },
        {
         "metadata": "{}",
         "name": "DEPARTMENT_ID",
         "type": "\"integer\""
        },
        {
         "metadata": "{}",
         "name": "HIRE_DATE",
         "type": "\"date\""
        },
        {
         "metadata": "{}",
         "name": "FULL_NAME",
         "type": "\"string\""
        }
       ],
       "type": "table"
      }
     },
     "output_type": "display_data"
    }
   ],
   "source": [
    "employees = employees.withColumn('FULL_NAME', concat(employees['FIRST_NAME'], lit(\" \"), employees['LAST_NAME']))\n",
    "employees.display()"
   ]
  },
  {
   "cell_type": "code",
   "execution_count": 0,
   "metadata": {
    "application/vnd.databricks.v1+cell": {
     "cellMetadata": {
      "byteLimit": 2048000,
      "rowLimit": 10000
     },
     "inputWidgets": {},
     "nuid": "d0c33136-7fbb-412a-b26c-04cef2fbe170",
     "showTitle": false,
     "title": ""
    }
   },
   "outputs": [
    {
     "output_type": "display_data",
     "data": {
      "text/html": [
       "<style scoped>\n  .table-result-container {\n    max-height: 300px;\n    overflow: auto;\n  }\n  table, th, td {\n    border: 1px solid black;\n    border-collapse: collapse;\n  }\n  th, td {\n    padding: 5px;\n  }\n  th {\n    text-align: left;\n  }\n</style><div class='table-result-container'><table class='table-result'><thead style='background-color: white'><tr><th>EMPLOYEE_ID</th><th>JOB_ID</th><th>SALARY</th><th>HIRE_DATE</th><th>FULL_NAME</th><th>DEPARTMENT_NAME</th></tr></thead><tbody><tr><td>100</td><td>AD_PRES</td><td>24000</td><td>2009-09-01</td><td>Steven King</td><td>Executive</td></tr><tr><td>101</td><td>AD_VP</td><td>17000</td><td>2011-12-07</td><td>Neena Kochhar</td><td>Executive</td></tr><tr><td>102</td><td>AD_VP</td><td>17000</td><td>2015-03-31</td><td>Lex De Haan</td><td>Executive</td></tr><tr><td>103</td><td>IT_PROG</td><td>9000</td><td>2012-03-20</td><td>Alexander Hunold</td><td>IT</td></tr><tr><td>104</td><td>IT_PROG</td><td>6000</td><td>2013-08-05</td><td>Bruce Ernst</td><td>IT</td></tr><tr><td>105</td><td>IT_PROG</td><td>4800</td><td>2019-09-10</td><td>David Austin</td><td>IT</td></tr><tr><td>106</td><td>IT_PROG</td><td>4800</td><td>2020-04-22</td><td>Valli Pataballa</td><td>IT</td></tr><tr><td>107</td><td>IT_PROG</td><td>4200</td><td>2021-04-24</td><td>Diana Lorentz</td><td>IT</td></tr><tr><td>108</td><td>FI_MGR</td><td>12000</td><td>2016-11-01</td><td>Nancy Greenberg</td><td>Finance</td></tr><tr><td>109</td><td>FI_ACCOUNT</td><td>9000</td><td>2016-10-31</td><td>Daniel Faviet</td><td>Finance</td></tr><tr><td>110</td><td>FI_ACCOUNT</td><td>8200</td><td>2019-12-14</td><td>John Chen</td><td>Finance</td></tr><tr><td>111</td><td>FI_ACCOUNT</td><td>7700</td><td>2019-12-16</td><td>Ismael Sciarra</td><td>Finance</td></tr><tr><td>112</td><td>FI_ACCOUNT</td><td>7800</td><td>2020-05-22</td><td>Jose Manuel Urman</td><td>Finance</td></tr><tr><td>113</td><td>FI_ACCOUNT</td><td>6900</td><td>2022-02-21</td><td>Luis Popp</td><td>Finance</td></tr><tr><td>114</td><td>PU_MAN</td><td>11000</td><td>2017-02-21</td><td>Den Raphaely</td><td>Purchasing</td></tr><tr><td>115</td><td>PU_CLERK</td><td>3100</td><td>2017-08-02</td><td>Alexander Khoo</td><td>Purchasing</td></tr><tr><td>116</td><td>PU_CLERK</td><td>2900</td><td>2020-03-10</td><td>Shelli Baida</td><td>Purchasing</td></tr><tr><td>117</td><td>PU_CLERK</td><td>2800</td><td>2019-10-09</td><td>Sigal Tobias</td><td>Purchasing</td></tr><tr><td>118</td><td>PU_CLERK</td><td>2600</td><td>2021-01-30</td><td>Guy Himuro</td><td>Purchasing</td></tr><tr><td>119</td><td>PU_CLERK</td><td>2500</td><td>2021-10-25</td><td>Karen Colmenares</td><td>Purchasing</td></tr><tr><td>120</td><td>ST_MAN</td><td>8000</td><td>2018-10-03</td><td>Matthew Weiss</td><td>Shipping</td></tr><tr><td>121</td><td>ST_MAN</td><td>8200</td><td>2019-06-26</td><td>Adam Fripp</td><td>Shipping</td></tr><tr><td>122</td><td>ST_MAN</td><td>7900</td><td>2017-07-16</td><td>Payam Kaufling</td><td>Shipping</td></tr><tr><td>123</td><td>ST_MAN</td><td>6500</td><td>2019-12-26</td><td>Shanta Vollman</td><td>Shipping</td></tr><tr><td>124</td><td>ST_MAN</td><td>5800</td><td>2022-01-31</td><td>Kevin Mourgos</td><td>Shipping</td></tr><tr><td>125</td><td>ST_CLERK</td><td>3200</td><td>2019-10-01</td><td>Julia Nayer</td><td>Shipping</td></tr><tr><td>126</td><td>ST_CLERK</td><td>2700</td><td>2020-12-13</td><td>Irene Mikkilineni</td><td>Shipping</td></tr><tr><td>127</td><td>ST_CLERK</td><td>2400</td><td>2021-03-31</td><td>James Landry</td><td>Shipping</td></tr><tr><td>128</td><td>ST_CLERK</td><td>2200</td><td>2022-05-24</td><td>Steven Markle</td><td>Shipping</td></tr><tr><td>129</td><td>ST_CLERK</td><td>3300</td><td>2019-11-05</td><td>Laura Bissot</td><td>Shipping</td></tr><tr><td>130</td><td>ST_CLERK</td><td>2800</td><td>2020-01-15</td><td>Mozhe Atkinson</td><td>Shipping</td></tr><tr><td>131</td><td>ST_CLERK</td><td>2500</td><td>2019-05-04</td><td>James Marlow</td><td>Shipping</td></tr><tr><td>132</td><td>ST_CLERK</td><td>2100</td><td>2021-06-25</td><td>TJ Olson</td><td>Shipping</td></tr><tr><td>133</td><td>ST_CLERK</td><td>3300</td><td>2018-08-30</td><td>Jason Mallin</td><td>Shipping</td></tr><tr><td>134</td><td>ST_CLERK</td><td>2900</td><td>2020-11-10</td><td>Michael Rogers</td><td>Shipping</td></tr><tr><td>135</td><td>ST_CLERK</td><td>2400</td><td>2022-02-26</td><td>Ki Gee</td><td>Shipping</td></tr><tr><td>136</td><td>ST_CLERK</td><td>2200</td><td>2022-04-23</td><td>Hazel Philtanker</td><td>Shipping</td></tr><tr><td>137</td><td>ST_CLERK</td><td>3600</td><td>2017-09-28</td><td>Renske Ladwig</td><td>Shipping</td></tr><tr><td>138</td><td>ST_CLERK</td><td>3200</td><td>2020-01-11</td><td>Stephen Stiles</td><td>Shipping</td></tr><tr><td>139</td><td>ST_CLERK</td><td>2700</td><td>2020-04-29</td><td>John Seo</td><td>Shipping</td></tr><tr><td>140</td><td>ST_CLERK</td><td>2500</td><td>2020-06-21</td><td>Joshua Patel</td><td>Shipping</td></tr><tr><td>141</td><td>ST_CLERK</td><td>3500</td><td>2018-01-01</td><td>Trenna Rajs</td><td>Shipping</td></tr><tr><td>142</td><td>ST_CLERK</td><td>3100</td><td>2019-04-16</td><td>Curtis Davies</td><td>Shipping</td></tr><tr><td>143</td><td>ST_CLERK</td><td>2600</td><td>2020-05-30</td><td>Randall Matos</td><td>Shipping</td></tr><tr><td>144</td><td>ST_CLERK</td><td>2500</td><td>2020-09-23</td><td>Peter Vargas</td><td>Shipping</td></tr><tr><td>145</td><td>SA_MAN</td><td>14000</td><td>2018-12-17</td><td>John Russell</td><td>Sales</td></tr><tr><td>146</td><td>SA_MAN</td><td>13500</td><td>2019-03-23</td><td>Karen Partners</td><td>Sales</td></tr><tr><td>147</td><td>SA_MAN</td><td>12000</td><td>2019-05-26</td><td>Alberto Errazuriz</td><td>Sales</td></tr><tr><td>148</td><td>SA_MAN</td><td>11000</td><td>2021-12-30</td><td>Gerald Cambrault</td><td>Sales</td></tr><tr><td>149</td><td>SA_MAN</td><td>10500</td><td>2022-04-15</td><td>Eleni Zlotkey</td><td>Sales</td></tr><tr><td>150</td><td>SA_REP</td><td>10000</td><td>2019-04-17</td><td>Peter Tucker</td><td>Sales</td></tr><tr><td>151</td><td>SA_REP</td><td>9500</td><td>2019-06-09</td><td>David Bernstein</td><td>Sales</td></tr><tr><td>152</td><td>SA_REP</td><td>9000</td><td>2019-11-05</td><td>Peter Hall</td><td>Sales</td></tr><tr><td>153</td><td>SA_REP</td><td>8000</td><td>2020-06-14</td><td>Christopher Olsen</td><td>Sales</td></tr><tr><td>154</td><td>SA_REP</td><td>7500</td><td>2021-02-23</td><td>Nanette Cambrault</td><td>Sales</td></tr><tr><td>155</td><td>SA_REP</td><td>7000</td><td>2022-02-07</td><td>Oliver Tuvault</td><td>Sales</td></tr><tr><td>156</td><td>SA_REP</td><td>10000</td><td>2018-04-16</td><td>Janette King</td><td>Sales</td></tr><tr><td>157</td><td>SA_REP</td><td>9500</td><td>2018-05-20</td><td>Patrick Sully</td><td>Sales</td></tr><tr><td>158</td><td>SA_REP</td><td>9000</td><td>2018-10-17</td><td>Allan McEwen</td><td>Sales</td></tr><tr><td>159</td><td>SA_REP</td><td>8000</td><td>2019-05-26</td><td>Lindsey Smith</td><td>Sales</td></tr><tr><td>160</td><td>SA_REP</td><td>7500</td><td>2020-03-01</td><td>Louise Doran</td><td>Sales</td></tr><tr><td>161</td><td>SA_REP</td><td>7000</td><td>2021-01-18</td><td>Sarath Sewall</td><td>Sales</td></tr><tr><td>162</td><td>SA_REP</td><td>10500</td><td>2020-01-27</td><td>Clara Vishney</td><td>Sales</td></tr><tr><td>163</td><td>SA_REP</td><td>9500</td><td>2021-06-03</td><td>Danielle Greene</td><td>Sales</td></tr><tr><td>164</td><td>SA_REP</td><td>7200</td><td>2022-04-10</td><td>Mattea Marvins</td><td>Sales</td></tr><tr><td>165</td><td>SA_REP</td><td>6800</td><td>2022-05-10</td><td>David Lee</td><td>Sales</td></tr><tr><td>166</td><td>SA_REP</td><td>6400</td><td>2022-06-09</td><td>Sundar Ande</td><td>Sales</td></tr><tr><td>167</td><td>SA_REP</td><td>6200</td><td>2022-07-07</td><td>Amit Banda</td><td>Sales</td></tr><tr><td>168</td><td>SA_REP</td><td>11500</td><td>2019-05-27</td><td>Lisa Ozer</td><td>Sales</td></tr><tr><td>169</td><td>SA_REP</td><td>10000</td><td>2020-06-07</td><td>Harrison Bloom</td><td>Sales</td></tr><tr><td>170</td><td>SA_REP</td><td>9600</td><td>2020-04-10</td><td>Tayler Fox</td><td>Sales</td></tr><tr><td>171</td><td>SA_REP</td><td>7400</td><td>2021-05-10</td><td>William Smith</td><td>Sales</td></tr><tr><td>172</td><td>SA_REP</td><td>7300</td><td>2021-06-08</td><td>Elizabeth Bates</td><td>Sales</td></tr><tr><td>173</td><td>SA_REP</td><td>6100</td><td>2022-07-07</td><td>Sundita Kumar</td><td>Sales</td></tr><tr><td>174</td><td>SA_REP</td><td>11000</td><td>2018-07-27</td><td>Ellen Abel</td><td>Sales</td></tr><tr><td>175</td><td>SA_REP</td><td>8800</td><td>2019-06-04</td><td>Alyssa Hutton</td><td>Sales</td></tr><tr><td>176</td><td>SA_REP</td><td>8600</td><td>2020-06-08</td><td>Jonathon Taylor</td><td>Sales</td></tr><tr><td>177</td><td>SA_REP</td><td>8400</td><td>2020-07-08</td><td>Jack Livingston</td><td>Sales</td></tr><tr><td>178</td><td>SA_REP</td><td>7000</td><td>2021-08-08</td><td>Kimberely Grant</td><td>null</td></tr><tr><td>179</td><td>SA_REP</td><td>6200</td><td>2022-03-21</td><td>Charles Johnson</td><td>Sales</td></tr><tr><td>180</td><td>SH_CLERK</td><td>3200</td><td>2020-04-10</td><td>Winston Taylor</td><td>Shipping</td></tr><tr><td>181</td><td>SH_CLERK</td><td>3100</td><td>2020-05-10</td><td>Jean Fleaur</td><td>Shipping</td></tr><tr><td>182</td><td>SH_CLERK</td><td>2500</td><td>2021-09-05</td><td>Martha Sullivan</td><td>Shipping</td></tr><tr><td>183</td><td>SH_CLERK</td><td>2800</td><td>2022-04-20</td><td>Girard Geoni</td><td>Shipping</td></tr><tr><td>184</td><td>SH_CLERK</td><td>4200</td><td>2018-04-13</td><td>Nandita Sarchand</td><td>Shipping</td></tr><tr><td>185</td><td>SH_CLERK</td><td>4100</td><td>2019-05-08</td><td>Alexis Bull</td><td>Shipping</td></tr><tr><td>186</td><td>SH_CLERK</td><td>3400</td><td>2020-09-08</td><td>Julia Dellinger</td><td>Shipping</td></tr><tr><td>187</td><td>SH_CLERK</td><td>3000</td><td>2021-04-24</td><td>Anthony Cabrio</td><td>Shipping</td></tr><tr><td>188</td><td>SH_CLERK</td><td>3800</td><td>2019-08-30</td><td>Kelly Chung</td><td>Shipping</td></tr><tr><td>189</td><td>SH_CLERK</td><td>3600</td><td>2019-10-29</td><td>Jennifer Dilly</td><td>Shipping</td></tr><tr><td>190</td><td>SH_CLERK</td><td>2900</td><td>2020-09-25</td><td>Timothy Gates</td><td>Shipping</td></tr><tr><td>191</td><td>SH_CLERK</td><td>2500</td><td>2022-03-05</td><td>Randall Perkins</td><td>Shipping</td></tr><tr><td>192</td><td>SH_CLERK</td><td>4000</td><td>2018-04-21</td><td>Sarah Bell</td><td>Shipping</td></tr><tr><td>193</td><td>SH_CLERK</td><td>3900</td><td>2019-05-19</td><td>Britney Everett</td><td>Shipping</td></tr><tr><td>194</td><td>SH_CLERK</td><td>3200</td><td>2020-09-15</td><td>Samuel McCain</td><td>Shipping</td></tr><tr><td>195</td><td>SH_CLERK</td><td>2800</td><td>2021-06-01</td><td>Vance Jones</td><td>Shipping</td></tr><tr><td>196</td><td>SH_CLERK</td><td>3100</td><td>2020-07-09</td><td>Alana Walsh</td><td>Shipping</td></tr><tr><td>197</td><td>SH_CLERK</td><td>3000</td><td>2020-08-07</td><td>Kevin Feeney</td><td>Shipping</td></tr><tr><td>198</td><td>SH_CLERK</td><td>2600</td><td>2021-09-05</td><td>Donald OConnell</td><td>Shipping</td></tr><tr><td>199</td><td>SH_CLERK</td><td>2600</td><td>2022-03-30</td><td>Douglas Grant</td><td>Shipping</td></tr><tr><td>200</td><td>AD_ASST</td><td>4400</td><td>2009-12-02</td><td>Jennifer Whalen</td><td>Administration</td></tr><tr><td>201</td><td>MK_MAN</td><td>13000</td><td>2018-05-04</td><td>Michael Hartstein</td><td>Marketing</td></tr><tr><td>202</td><td>MK_REP</td><td>6000</td><td>2019-11-02</td><td>Pat Fay</td><td>Marketing</td></tr><tr><td>203</td><td>HR_REP</td><td>6500</td><td>2016-08-22</td><td>Susan Mavris</td><td>Human Resources</td></tr><tr><td>204</td><td>PR_REP</td><td>10000</td><td>2016-08-22</td><td>Hermann Baer</td><td>Public Relations</td></tr><tr><td>205</td><td>AC_MGR</td><td>12000</td><td>2016-08-22</td><td>Shelley Higgins</td><td>Accounting</td></tr><tr><td>206</td><td>AC_ACCOUNT</td><td>8300</td><td>2016-08-22</td><td>William Gietz</td><td>Accounting</td></tr></tbody></table></div>"
      ]
     },
     "metadata": {
      "application/vnd.databricks.v1+output": {
       "addedWidgets": {},
       "aggData": [],
       "aggError": "",
       "aggOverflow": false,
       "aggSchema": [],
       "aggSeriesLimitReached": false,
       "aggType": "",
       "arguments": {},
       "columnCustomDisplayInfos": {},
       "data": [
        [
         100,
         "AD_PRES",
         24000,
         "2009-09-01",
         "Steven King",
         "Executive"
        ],
        [
         101,
         "AD_VP",
         17000,
         "2011-12-07",
         "Neena Kochhar",
         "Executive"
        ],
        [
         102,
         "AD_VP",
         17000,
         "2015-03-31",
         "Lex De Haan",
         "Executive"
        ],
        [
         103,
         "IT_PROG",
         9000,
         "2012-03-20",
         "Alexander Hunold",
         "IT"
        ],
        [
         104,
         "IT_PROG",
         6000,
         "2013-08-05",
         "Bruce Ernst",
         "IT"
        ],
        [
         105,
         "IT_PROG",
         4800,
         "2019-09-10",
         "David Austin",
         "IT"
        ],
        [
         106,
         "IT_PROG",
         4800,
         "2020-04-22",
         "Valli Pataballa",
         "IT"
        ],
        [
         107,
         "IT_PROG",
         4200,
         "2021-04-24",
         "Diana Lorentz",
         "IT"
        ],
        [
         108,
         "FI_MGR",
         12000,
         "2016-11-01",
         "Nancy Greenberg",
         "Finance"
        ],
        [
         109,
         "FI_ACCOUNT",
         9000,
         "2016-10-31",
         "Daniel Faviet",
         "Finance"
        ],
        [
         110,
         "FI_ACCOUNT",
         8200,
         "2019-12-14",
         "John Chen",
         "Finance"
        ],
        [
         111,
         "FI_ACCOUNT",
         7700,
         "2019-12-16",
         "Ismael Sciarra",
         "Finance"
        ],
        [
         112,
         "FI_ACCOUNT",
         7800,
         "2020-05-22",
         "Jose Manuel Urman",
         "Finance"
        ],
        [
         113,
         "FI_ACCOUNT",
         6900,
         "2022-02-21",
         "Luis Popp",
         "Finance"
        ],
        [
         114,
         "PU_MAN",
         11000,
         "2017-02-21",
         "Den Raphaely",
         "Purchasing"
        ],
        [
         115,
         "PU_CLERK",
         3100,
         "2017-08-02",
         "Alexander Khoo",
         "Purchasing"
        ],
        [
         116,
         "PU_CLERK",
         2900,
         "2020-03-10",
         "Shelli Baida",
         "Purchasing"
        ],
        [
         117,
         "PU_CLERK",
         2800,
         "2019-10-09",
         "Sigal Tobias",
         "Purchasing"
        ],
        [
         118,
         "PU_CLERK",
         2600,
         "2021-01-30",
         "Guy Himuro",
         "Purchasing"
        ],
        [
         119,
         "PU_CLERK",
         2500,
         "2021-10-25",
         "Karen Colmenares",
         "Purchasing"
        ],
        [
         120,
         "ST_MAN",
         8000,
         "2018-10-03",
         "Matthew Weiss",
         "Shipping"
        ],
        [
         121,
         "ST_MAN",
         8200,
         "2019-06-26",
         "Adam Fripp",
         "Shipping"
        ],
        [
         122,
         "ST_MAN",
         7900,
         "2017-07-16",
         "Payam Kaufling",
         "Shipping"
        ],
        [
         123,
         "ST_MAN",
         6500,
         "2019-12-26",
         "Shanta Vollman",
         "Shipping"
        ],
        [
         124,
         "ST_MAN",
         5800,
         "2022-01-31",
         "Kevin Mourgos",
         "Shipping"
        ],
        [
         125,
         "ST_CLERK",
         3200,
         "2019-10-01",
         "Julia Nayer",
         "Shipping"
        ],
        [
         126,
         "ST_CLERK",
         2700,
         "2020-12-13",
         "Irene Mikkilineni",
         "Shipping"
        ],
        [
         127,
         "ST_CLERK",
         2400,
         "2021-03-31",
         "James Landry",
         "Shipping"
        ],
        [
         128,
         "ST_CLERK",
         2200,
         "2022-05-24",
         "Steven Markle",
         "Shipping"
        ],
        [
         129,
         "ST_CLERK",
         3300,
         "2019-11-05",
         "Laura Bissot",
         "Shipping"
        ],
        [
         130,
         "ST_CLERK",
         2800,
         "2020-01-15",
         "Mozhe Atkinson",
         "Shipping"
        ],
        [
         131,
         "ST_CLERK",
         2500,
         "2019-05-04",
         "James Marlow",
         "Shipping"
        ],
        [
         132,
         "ST_CLERK",
         2100,
         "2021-06-25",
         "TJ Olson",
         "Shipping"
        ],
        [
         133,
         "ST_CLERK",
         3300,
         "2018-08-30",
         "Jason Mallin",
         "Shipping"
        ],
        [
         134,
         "ST_CLERK",
         2900,
         "2020-11-10",
         "Michael Rogers",
         "Shipping"
        ],
        [
         135,
         "ST_CLERK",
         2400,
         "2022-02-26",
         "Ki Gee",
         "Shipping"
        ],
        [
         136,
         "ST_CLERK",
         2200,
         "2022-04-23",
         "Hazel Philtanker",
         "Shipping"
        ],
        [
         137,
         "ST_CLERK",
         3600,
         "2017-09-28",
         "Renske Ladwig",
         "Shipping"
        ],
        [
         138,
         "ST_CLERK",
         3200,
         "2020-01-11",
         "Stephen Stiles",
         "Shipping"
        ],
        [
         139,
         "ST_CLERK",
         2700,
         "2020-04-29",
         "John Seo",
         "Shipping"
        ],
        [
         140,
         "ST_CLERK",
         2500,
         "2020-06-21",
         "Joshua Patel",
         "Shipping"
        ],
        [
         141,
         "ST_CLERK",
         3500,
         "2018-01-01",
         "Trenna Rajs",
         "Shipping"
        ],
        [
         142,
         "ST_CLERK",
         3100,
         "2019-04-16",
         "Curtis Davies",
         "Shipping"
        ],
        [
         143,
         "ST_CLERK",
         2600,
         "2020-05-30",
         "Randall Matos",
         "Shipping"
        ],
        [
         144,
         "ST_CLERK",
         2500,
         "2020-09-23",
         "Peter Vargas",
         "Shipping"
        ],
        [
         145,
         "SA_MAN",
         14000,
         "2018-12-17",
         "John Russell",
         "Sales"
        ],
        [
         146,
         "SA_MAN",
         13500,
         "2019-03-23",
         "Karen Partners",
         "Sales"
        ],
        [
         147,
         "SA_MAN",
         12000,
         "2019-05-26",
         "Alberto Errazuriz",
         "Sales"
        ],
        [
         148,
         "SA_MAN",
         11000,
         "2021-12-30",
         "Gerald Cambrault",
         "Sales"
        ],
        [
         149,
         "SA_MAN",
         10500,
         "2022-04-15",
         "Eleni Zlotkey",
         "Sales"
        ],
        [
         150,
         "SA_REP",
         10000,
         "2019-04-17",
         "Peter Tucker",
         "Sales"
        ],
        [
         151,
         "SA_REP",
         9500,
         "2019-06-09",
         "David Bernstein",
         "Sales"
        ],
        [
         152,
         "SA_REP",
         9000,
         "2019-11-05",
         "Peter Hall",
         "Sales"
        ],
        [
         153,
         "SA_REP",
         8000,
         "2020-06-14",
         "Christopher Olsen",
         "Sales"
        ],
        [
         154,
         "SA_REP",
         7500,
         "2021-02-23",
         "Nanette Cambrault",
         "Sales"
        ],
        [
         155,
         "SA_REP",
         7000,
         "2022-02-07",
         "Oliver Tuvault",
         "Sales"
        ],
        [
         156,
         "SA_REP",
         10000,
         "2018-04-16",
         "Janette King",
         "Sales"
        ],
        [
         157,
         "SA_REP",
         9500,
         "2018-05-20",
         "Patrick Sully",
         "Sales"
        ],
        [
         158,
         "SA_REP",
         9000,
         "2018-10-17",
         "Allan McEwen",
         "Sales"
        ],
        [
         159,
         "SA_REP",
         8000,
         "2019-05-26",
         "Lindsey Smith",
         "Sales"
        ],
        [
         160,
         "SA_REP",
         7500,
         "2020-03-01",
         "Louise Doran",
         "Sales"
        ],
        [
         161,
         "SA_REP",
         7000,
         "2021-01-18",
         "Sarath Sewall",
         "Sales"
        ],
        [
         162,
         "SA_REP",
         10500,
         "2020-01-27",
         "Clara Vishney",
         "Sales"
        ],
        [
         163,
         "SA_REP",
         9500,
         "2021-06-03",
         "Danielle Greene",
         "Sales"
        ],
        [
         164,
         "SA_REP",
         7200,
         "2022-04-10",
         "Mattea Marvins",
         "Sales"
        ],
        [
         165,
         "SA_REP",
         6800,
         "2022-05-10",
         "David Lee",
         "Sales"
        ],
        [
         166,
         "SA_REP",
         6400,
         "2022-06-09",
         "Sundar Ande",
         "Sales"
        ],
        [
         167,
         "SA_REP",
         6200,
         "2022-07-07",
         "Amit Banda",
         "Sales"
        ],
        [
         168,
         "SA_REP",
         11500,
         "2019-05-27",
         "Lisa Ozer",
         "Sales"
        ],
        [
         169,
         "SA_REP",
         10000,
         "2020-06-07",
         "Harrison Bloom",
         "Sales"
        ],
        [
         170,
         "SA_REP",
         9600,
         "2020-04-10",
         "Tayler Fox",
         "Sales"
        ],
        [
         171,
         "SA_REP",
         7400,
         "2021-05-10",
         "William Smith",
         "Sales"
        ],
        [
         172,
         "SA_REP",
         7300,
         "2021-06-08",
         "Elizabeth Bates",
         "Sales"
        ],
        [
         173,
         "SA_REP",
         6100,
         "2022-07-07",
         "Sundita Kumar",
         "Sales"
        ],
        [
         174,
         "SA_REP",
         11000,
         "2018-07-27",
         "Ellen Abel",
         "Sales"
        ],
        [
         175,
         "SA_REP",
         8800,
         "2019-06-04",
         "Alyssa Hutton",
         "Sales"
        ],
        [
         176,
         "SA_REP",
         8600,
         "2020-06-08",
         "Jonathon Taylor",
         "Sales"
        ],
        [
         177,
         "SA_REP",
         8400,
         "2020-07-08",
         "Jack Livingston",
         "Sales"
        ],
        [
         178,
         "SA_REP",
         7000,
         "2021-08-08",
         "Kimberely Grant",
         null
        ],
        [
         179,
         "SA_REP",
         6200,
         "2022-03-21",
         "Charles Johnson",
         "Sales"
        ],
        [
         180,
         "SH_CLERK",
         3200,
         "2020-04-10",
         "Winston Taylor",
         "Shipping"
        ],
        [
         181,
         "SH_CLERK",
         3100,
         "2020-05-10",
         "Jean Fleaur",
         "Shipping"
        ],
        [
         182,
         "SH_CLERK",
         2500,
         "2021-09-05",
         "Martha Sullivan",
         "Shipping"
        ],
        [
         183,
         "SH_CLERK",
         2800,
         "2022-04-20",
         "Girard Geoni",
         "Shipping"
        ],
        [
         184,
         "SH_CLERK",
         4200,
         "2018-04-13",
         "Nandita Sarchand",
         "Shipping"
        ],
        [
         185,
         "SH_CLERK",
         4100,
         "2019-05-08",
         "Alexis Bull",
         "Shipping"
        ],
        [
         186,
         "SH_CLERK",
         3400,
         "2020-09-08",
         "Julia Dellinger",
         "Shipping"
        ],
        [
         187,
         "SH_CLERK",
         3000,
         "2021-04-24",
         "Anthony Cabrio",
         "Shipping"
        ],
        [
         188,
         "SH_CLERK",
         3800,
         "2019-08-30",
         "Kelly Chung",
         "Shipping"
        ],
        [
         189,
         "SH_CLERK",
         3600,
         "2019-10-29",
         "Jennifer Dilly",
         "Shipping"
        ],
        [
         190,
         "SH_CLERK",
         2900,
         "2020-09-25",
         "Timothy Gates",
         "Shipping"
        ],
        [
         191,
         "SH_CLERK",
         2500,
         "2022-03-05",
         "Randall Perkins",
         "Shipping"
        ],
        [
         192,
         "SH_CLERK",
         4000,
         "2018-04-21",
         "Sarah Bell",
         "Shipping"
        ],
        [
         193,
         "SH_CLERK",
         3900,
         "2019-05-19",
         "Britney Everett",
         "Shipping"
        ],
        [
         194,
         "SH_CLERK",
         3200,
         "2020-09-15",
         "Samuel McCain",
         "Shipping"
        ],
        [
         195,
         "SH_CLERK",
         2800,
         "2021-06-01",
         "Vance Jones",
         "Shipping"
        ],
        [
         196,
         "SH_CLERK",
         3100,
         "2020-07-09",
         "Alana Walsh",
         "Shipping"
        ],
        [
         197,
         "SH_CLERK",
         3000,
         "2020-08-07",
         "Kevin Feeney",
         "Shipping"
        ],
        [
         198,
         "SH_CLERK",
         2600,
         "2021-09-05",
         "Donald OConnell",
         "Shipping"
        ],
        [
         199,
         "SH_CLERK",
         2600,
         "2022-03-30",
         "Douglas Grant",
         "Shipping"
        ],
        [
         200,
         "AD_ASST",
         4400,
         "2009-12-02",
         "Jennifer Whalen",
         "Administration"
        ],
        [
         201,
         "MK_MAN",
         13000,
         "2018-05-04",
         "Michael Hartstein",
         "Marketing"
        ],
        [
         202,
         "MK_REP",
         6000,
         "2019-11-02",
         "Pat Fay",
         "Marketing"
        ],
        [
         203,
         "HR_REP",
         6500,
         "2016-08-22",
         "Susan Mavris",
         "Human Resources"
        ],
        [
         204,
         "PR_REP",
         10000,
         "2016-08-22",
         "Hermann Baer",
         "Public Relations"
        ],
        [
         205,
         "AC_MGR",
         12000,
         "2016-08-22",
         "Shelley Higgins",
         "Accounting"
        ],
        [
         206,
         "AC_ACCOUNT",
         8300,
         "2016-08-22",
         "William Gietz",
         "Accounting"
        ]
       ],
       "datasetInfos": [],
       "dbfsResultPath": null,
       "isJsonSchema": true,
       "metadata": {},
       "overflow": false,
       "plotOptions": {
        "customPlotOptions": {},
        "displayType": "table",
        "pivotAggregation": null,
        "pivotColumns": null,
        "xColumns": null,
        "yColumns": null
       },
       "removedWidgets": [],
       "schema": [
        {
         "metadata": "{}",
         "name": "EMPLOYEE_ID",
         "type": "\"integer\""
        },
        {
         "metadata": "{}",
         "name": "JOB_ID",
         "type": "\"string\""
        },
        {
         "metadata": "{}",
         "name": "SALARY",
         "type": "\"integer\""
        },
        {
         "metadata": "{}",
         "name": "HIRE_DATE",
         "type": "\"date\""
        },
        {
         "metadata": "{}",
         "name": "FULL_NAME",
         "type": "\"string\""
        },
        {
         "metadata": "{}",
         "name": "DEPARTMENT_NAME",
         "type": "\"string\""
        }
       ],
       "type": "table"
      }
     },
     "output_type": "display_data"
    }
   ],
   "source": [
    "# Create employees table with the following columns \n",
    "\n",
    "# employee_id, full_name, hire_date, job_id, salary, department_name\n",
    "\n",
    "\n",
    "# Perform left join with departments df and drop columns\n",
    "employees = employees.join(departments, employees['DEPARTMENT_ID']==departments['DEPARTMENT_ID'], 'left').drop('FIRST_NAME', 'LAST_NAME', 'DEPARTMENT_ID', 'MANAGER_ID')\n",
    "employees.display()"
   ]
  },
  {
   "cell_type": "code",
   "execution_count": 0,
   "metadata": {
    "application/vnd.databricks.v1+cell": {
     "cellMetadata": {
      "byteLimit": 2048000,
      "rowLimit": 10000
     },
     "inputWidgets": {},
     "nuid": "09e8b41e-704d-4572-ba37-7f2c01e2af9f",
     "showTitle": false,
     "title": ""
    }
   },
   "outputs": [
    {
     "output_type": "display_data",
     "data": {
      "text/html": [
       "<style scoped>\n  .table-result-container {\n    max-height: 300px;\n    overflow: auto;\n  }\n  table, th, td {\n    border: 1px solid black;\n    border-collapse: collapse;\n  }\n  th, td {\n    padding: 5px;\n  }\n  th {\n    text-align: left;\n  }\n</style><div class='table-result-container'><table class='table-result'><thead style='background-color: white'><tr><th>EMPLOYEE_ID</th><th>FULL_NAME</th><th>HIRE_DATE</th><th>JOB_ID</th><th>SALARY</th><th>DEPARTMENT_NAME</th></tr></thead><tbody><tr><td>100</td><td>Steven King</td><td>2009-09-01</td><td>AD_PRES</td><td>24000</td><td>Executive</td></tr><tr><td>101</td><td>Neena Kochhar</td><td>2011-12-07</td><td>AD_VP</td><td>17000</td><td>Executive</td></tr><tr><td>102</td><td>Lex De Haan</td><td>2015-03-31</td><td>AD_VP</td><td>17000</td><td>Executive</td></tr><tr><td>103</td><td>Alexander Hunold</td><td>2012-03-20</td><td>IT_PROG</td><td>9000</td><td>IT</td></tr><tr><td>104</td><td>Bruce Ernst</td><td>2013-08-05</td><td>IT_PROG</td><td>6000</td><td>IT</td></tr><tr><td>105</td><td>David Austin</td><td>2019-09-10</td><td>IT_PROG</td><td>4800</td><td>IT</td></tr><tr><td>106</td><td>Valli Pataballa</td><td>2020-04-22</td><td>IT_PROG</td><td>4800</td><td>IT</td></tr><tr><td>107</td><td>Diana Lorentz</td><td>2021-04-24</td><td>IT_PROG</td><td>4200</td><td>IT</td></tr><tr><td>108</td><td>Nancy Greenberg</td><td>2016-11-01</td><td>FI_MGR</td><td>12000</td><td>Finance</td></tr><tr><td>109</td><td>Daniel Faviet</td><td>2016-10-31</td><td>FI_ACCOUNT</td><td>9000</td><td>Finance</td></tr><tr><td>110</td><td>John Chen</td><td>2019-12-14</td><td>FI_ACCOUNT</td><td>8200</td><td>Finance</td></tr><tr><td>111</td><td>Ismael Sciarra</td><td>2019-12-16</td><td>FI_ACCOUNT</td><td>7700</td><td>Finance</td></tr><tr><td>112</td><td>Jose Manuel Urman</td><td>2020-05-22</td><td>FI_ACCOUNT</td><td>7800</td><td>Finance</td></tr><tr><td>113</td><td>Luis Popp</td><td>2022-02-21</td><td>FI_ACCOUNT</td><td>6900</td><td>Finance</td></tr><tr><td>114</td><td>Den Raphaely</td><td>2017-02-21</td><td>PU_MAN</td><td>11000</td><td>Purchasing</td></tr><tr><td>115</td><td>Alexander Khoo</td><td>2017-08-02</td><td>PU_CLERK</td><td>3100</td><td>Purchasing</td></tr><tr><td>116</td><td>Shelli Baida</td><td>2020-03-10</td><td>PU_CLERK</td><td>2900</td><td>Purchasing</td></tr><tr><td>117</td><td>Sigal Tobias</td><td>2019-10-09</td><td>PU_CLERK</td><td>2800</td><td>Purchasing</td></tr><tr><td>118</td><td>Guy Himuro</td><td>2021-01-30</td><td>PU_CLERK</td><td>2600</td><td>Purchasing</td></tr><tr><td>119</td><td>Karen Colmenares</td><td>2021-10-25</td><td>PU_CLERK</td><td>2500</td><td>Purchasing</td></tr><tr><td>120</td><td>Matthew Weiss</td><td>2018-10-03</td><td>ST_MAN</td><td>8000</td><td>Shipping</td></tr><tr><td>121</td><td>Adam Fripp</td><td>2019-06-26</td><td>ST_MAN</td><td>8200</td><td>Shipping</td></tr><tr><td>122</td><td>Payam Kaufling</td><td>2017-07-16</td><td>ST_MAN</td><td>7900</td><td>Shipping</td></tr><tr><td>123</td><td>Shanta Vollman</td><td>2019-12-26</td><td>ST_MAN</td><td>6500</td><td>Shipping</td></tr><tr><td>124</td><td>Kevin Mourgos</td><td>2022-01-31</td><td>ST_MAN</td><td>5800</td><td>Shipping</td></tr><tr><td>125</td><td>Julia Nayer</td><td>2019-10-01</td><td>ST_CLERK</td><td>3200</td><td>Shipping</td></tr><tr><td>126</td><td>Irene Mikkilineni</td><td>2020-12-13</td><td>ST_CLERK</td><td>2700</td><td>Shipping</td></tr><tr><td>127</td><td>James Landry</td><td>2021-03-31</td><td>ST_CLERK</td><td>2400</td><td>Shipping</td></tr><tr><td>128</td><td>Steven Markle</td><td>2022-05-24</td><td>ST_CLERK</td><td>2200</td><td>Shipping</td></tr><tr><td>129</td><td>Laura Bissot</td><td>2019-11-05</td><td>ST_CLERK</td><td>3300</td><td>Shipping</td></tr><tr><td>130</td><td>Mozhe Atkinson</td><td>2020-01-15</td><td>ST_CLERK</td><td>2800</td><td>Shipping</td></tr><tr><td>131</td><td>James Marlow</td><td>2019-05-04</td><td>ST_CLERK</td><td>2500</td><td>Shipping</td></tr><tr><td>132</td><td>TJ Olson</td><td>2021-06-25</td><td>ST_CLERK</td><td>2100</td><td>Shipping</td></tr><tr><td>133</td><td>Jason Mallin</td><td>2018-08-30</td><td>ST_CLERK</td><td>3300</td><td>Shipping</td></tr><tr><td>134</td><td>Michael Rogers</td><td>2020-11-10</td><td>ST_CLERK</td><td>2900</td><td>Shipping</td></tr><tr><td>135</td><td>Ki Gee</td><td>2022-02-26</td><td>ST_CLERK</td><td>2400</td><td>Shipping</td></tr><tr><td>136</td><td>Hazel Philtanker</td><td>2022-04-23</td><td>ST_CLERK</td><td>2200</td><td>Shipping</td></tr><tr><td>137</td><td>Renske Ladwig</td><td>2017-09-28</td><td>ST_CLERK</td><td>3600</td><td>Shipping</td></tr><tr><td>138</td><td>Stephen Stiles</td><td>2020-01-11</td><td>ST_CLERK</td><td>3200</td><td>Shipping</td></tr><tr><td>139</td><td>John Seo</td><td>2020-04-29</td><td>ST_CLERK</td><td>2700</td><td>Shipping</td></tr><tr><td>140</td><td>Joshua Patel</td><td>2020-06-21</td><td>ST_CLERK</td><td>2500</td><td>Shipping</td></tr><tr><td>141</td><td>Trenna Rajs</td><td>2018-01-01</td><td>ST_CLERK</td><td>3500</td><td>Shipping</td></tr><tr><td>142</td><td>Curtis Davies</td><td>2019-04-16</td><td>ST_CLERK</td><td>3100</td><td>Shipping</td></tr><tr><td>143</td><td>Randall Matos</td><td>2020-05-30</td><td>ST_CLERK</td><td>2600</td><td>Shipping</td></tr><tr><td>144</td><td>Peter Vargas</td><td>2020-09-23</td><td>ST_CLERK</td><td>2500</td><td>Shipping</td></tr><tr><td>145</td><td>John Russell</td><td>2018-12-17</td><td>SA_MAN</td><td>14000</td><td>Sales</td></tr><tr><td>146</td><td>Karen Partners</td><td>2019-03-23</td><td>SA_MAN</td><td>13500</td><td>Sales</td></tr><tr><td>147</td><td>Alberto Errazuriz</td><td>2019-05-26</td><td>SA_MAN</td><td>12000</td><td>Sales</td></tr><tr><td>148</td><td>Gerald Cambrault</td><td>2021-12-30</td><td>SA_MAN</td><td>11000</td><td>Sales</td></tr><tr><td>149</td><td>Eleni Zlotkey</td><td>2022-04-15</td><td>SA_MAN</td><td>10500</td><td>Sales</td></tr><tr><td>150</td><td>Peter Tucker</td><td>2019-04-17</td><td>SA_REP</td><td>10000</td><td>Sales</td></tr><tr><td>151</td><td>David Bernstein</td><td>2019-06-09</td><td>SA_REP</td><td>9500</td><td>Sales</td></tr><tr><td>152</td><td>Peter Hall</td><td>2019-11-05</td><td>SA_REP</td><td>9000</td><td>Sales</td></tr><tr><td>153</td><td>Christopher Olsen</td><td>2020-06-14</td><td>SA_REP</td><td>8000</td><td>Sales</td></tr><tr><td>154</td><td>Nanette Cambrault</td><td>2021-02-23</td><td>SA_REP</td><td>7500</td><td>Sales</td></tr><tr><td>155</td><td>Oliver Tuvault</td><td>2022-02-07</td><td>SA_REP</td><td>7000</td><td>Sales</td></tr><tr><td>156</td><td>Janette King</td><td>2018-04-16</td><td>SA_REP</td><td>10000</td><td>Sales</td></tr><tr><td>157</td><td>Patrick Sully</td><td>2018-05-20</td><td>SA_REP</td><td>9500</td><td>Sales</td></tr><tr><td>158</td><td>Allan McEwen</td><td>2018-10-17</td><td>SA_REP</td><td>9000</td><td>Sales</td></tr><tr><td>159</td><td>Lindsey Smith</td><td>2019-05-26</td><td>SA_REP</td><td>8000</td><td>Sales</td></tr><tr><td>160</td><td>Louise Doran</td><td>2020-03-01</td><td>SA_REP</td><td>7500</td><td>Sales</td></tr><tr><td>161</td><td>Sarath Sewall</td><td>2021-01-18</td><td>SA_REP</td><td>7000</td><td>Sales</td></tr><tr><td>162</td><td>Clara Vishney</td><td>2020-01-27</td><td>SA_REP</td><td>10500</td><td>Sales</td></tr><tr><td>163</td><td>Danielle Greene</td><td>2021-06-03</td><td>SA_REP</td><td>9500</td><td>Sales</td></tr><tr><td>164</td><td>Mattea Marvins</td><td>2022-04-10</td><td>SA_REP</td><td>7200</td><td>Sales</td></tr><tr><td>165</td><td>David Lee</td><td>2022-05-10</td><td>SA_REP</td><td>6800</td><td>Sales</td></tr><tr><td>166</td><td>Sundar Ande</td><td>2022-06-09</td><td>SA_REP</td><td>6400</td><td>Sales</td></tr><tr><td>167</td><td>Amit Banda</td><td>2022-07-07</td><td>SA_REP</td><td>6200</td><td>Sales</td></tr><tr><td>168</td><td>Lisa Ozer</td><td>2019-05-27</td><td>SA_REP</td><td>11500</td><td>Sales</td></tr><tr><td>169</td><td>Harrison Bloom</td><td>2020-06-07</td><td>SA_REP</td><td>10000</td><td>Sales</td></tr><tr><td>170</td><td>Tayler Fox</td><td>2020-04-10</td><td>SA_REP</td><td>9600</td><td>Sales</td></tr><tr><td>171</td><td>William Smith</td><td>2021-05-10</td><td>SA_REP</td><td>7400</td><td>Sales</td></tr><tr><td>172</td><td>Elizabeth Bates</td><td>2021-06-08</td><td>SA_REP</td><td>7300</td><td>Sales</td></tr><tr><td>173</td><td>Sundita Kumar</td><td>2022-07-07</td><td>SA_REP</td><td>6100</td><td>Sales</td></tr><tr><td>174</td><td>Ellen Abel</td><td>2018-07-27</td><td>SA_REP</td><td>11000</td><td>Sales</td></tr><tr><td>175</td><td>Alyssa Hutton</td><td>2019-06-04</td><td>SA_REP</td><td>8800</td><td>Sales</td></tr><tr><td>176</td><td>Jonathon Taylor</td><td>2020-06-08</td><td>SA_REP</td><td>8600</td><td>Sales</td></tr><tr><td>177</td><td>Jack Livingston</td><td>2020-07-08</td><td>SA_REP</td><td>8400</td><td>Sales</td></tr><tr><td>178</td><td>Kimberely Grant</td><td>2021-08-08</td><td>SA_REP</td><td>7000</td><td>null</td></tr><tr><td>179</td><td>Charles Johnson</td><td>2022-03-21</td><td>SA_REP</td><td>6200</td><td>Sales</td></tr><tr><td>180</td><td>Winston Taylor</td><td>2020-04-10</td><td>SH_CLERK</td><td>3200</td><td>Shipping</td></tr><tr><td>181</td><td>Jean Fleaur</td><td>2020-05-10</td><td>SH_CLERK</td><td>3100</td><td>Shipping</td></tr><tr><td>182</td><td>Martha Sullivan</td><td>2021-09-05</td><td>SH_CLERK</td><td>2500</td><td>Shipping</td></tr><tr><td>183</td><td>Girard Geoni</td><td>2022-04-20</td><td>SH_CLERK</td><td>2800</td><td>Shipping</td></tr><tr><td>184</td><td>Nandita Sarchand</td><td>2018-04-13</td><td>SH_CLERK</td><td>4200</td><td>Shipping</td></tr><tr><td>185</td><td>Alexis Bull</td><td>2019-05-08</td><td>SH_CLERK</td><td>4100</td><td>Shipping</td></tr><tr><td>186</td><td>Julia Dellinger</td><td>2020-09-08</td><td>SH_CLERK</td><td>3400</td><td>Shipping</td></tr><tr><td>187</td><td>Anthony Cabrio</td><td>2021-04-24</td><td>SH_CLERK</td><td>3000</td><td>Shipping</td></tr><tr><td>188</td><td>Kelly Chung</td><td>2019-08-30</td><td>SH_CLERK</td><td>3800</td><td>Shipping</td></tr><tr><td>189</td><td>Jennifer Dilly</td><td>2019-10-29</td><td>SH_CLERK</td><td>3600</td><td>Shipping</td></tr><tr><td>190</td><td>Timothy Gates</td><td>2020-09-25</td><td>SH_CLERK</td><td>2900</td><td>Shipping</td></tr><tr><td>191</td><td>Randall Perkins</td><td>2022-03-05</td><td>SH_CLERK</td><td>2500</td><td>Shipping</td></tr><tr><td>192</td><td>Sarah Bell</td><td>2018-04-21</td><td>SH_CLERK</td><td>4000</td><td>Shipping</td></tr><tr><td>193</td><td>Britney Everett</td><td>2019-05-19</td><td>SH_CLERK</td><td>3900</td><td>Shipping</td></tr><tr><td>194</td><td>Samuel McCain</td><td>2020-09-15</td><td>SH_CLERK</td><td>3200</td><td>Shipping</td></tr><tr><td>195</td><td>Vance Jones</td><td>2021-06-01</td><td>SH_CLERK</td><td>2800</td><td>Shipping</td></tr><tr><td>196</td><td>Alana Walsh</td><td>2020-07-09</td><td>SH_CLERK</td><td>3100</td><td>Shipping</td></tr><tr><td>197</td><td>Kevin Feeney</td><td>2020-08-07</td><td>SH_CLERK</td><td>3000</td><td>Shipping</td></tr><tr><td>198</td><td>Donald OConnell</td><td>2021-09-05</td><td>SH_CLERK</td><td>2600</td><td>Shipping</td></tr><tr><td>199</td><td>Douglas Grant</td><td>2022-03-30</td><td>SH_CLERK</td><td>2600</td><td>Shipping</td></tr><tr><td>200</td><td>Jennifer Whalen</td><td>2009-12-02</td><td>AD_ASST</td><td>4400</td><td>Administration</td></tr><tr><td>201</td><td>Michael Hartstein</td><td>2018-05-04</td><td>MK_MAN</td><td>13000</td><td>Marketing</td></tr><tr><td>202</td><td>Pat Fay</td><td>2019-11-02</td><td>MK_REP</td><td>6000</td><td>Marketing</td></tr><tr><td>203</td><td>Susan Mavris</td><td>2016-08-22</td><td>HR_REP</td><td>6500</td><td>Human Resources</td></tr><tr><td>204</td><td>Hermann Baer</td><td>2016-08-22</td><td>PR_REP</td><td>10000</td><td>Public Relations</td></tr><tr><td>205</td><td>Shelley Higgins</td><td>2016-08-22</td><td>AC_MGR</td><td>12000</td><td>Accounting</td></tr><tr><td>206</td><td>William Gietz</td><td>2016-08-22</td><td>AC_ACCOUNT</td><td>8300</td><td>Accounting</td></tr></tbody></table></div>"
      ]
     },
     "metadata": {
      "application/vnd.databricks.v1+output": {
       "addedWidgets": {},
       "aggData": [],
       "aggError": "",
       "aggOverflow": false,
       "aggSchema": [],
       "aggSeriesLimitReached": false,
       "aggType": "",
       "arguments": {},
       "columnCustomDisplayInfos": {},
       "data": [
        [
         100,
         "Steven King",
         "2009-09-01",
         "AD_PRES",
         24000,
         "Executive"
        ],
        [
         101,
         "Neena Kochhar",
         "2011-12-07",
         "AD_VP",
         17000,
         "Executive"
        ],
        [
         102,
         "Lex De Haan",
         "2015-03-31",
         "AD_VP",
         17000,
         "Executive"
        ],
        [
         103,
         "Alexander Hunold",
         "2012-03-20",
         "IT_PROG",
         9000,
         "IT"
        ],
        [
         104,
         "Bruce Ernst",
         "2013-08-05",
         "IT_PROG",
         6000,
         "IT"
        ],
        [
         105,
         "David Austin",
         "2019-09-10",
         "IT_PROG",
         4800,
         "IT"
        ],
        [
         106,
         "Valli Pataballa",
         "2020-04-22",
         "IT_PROG",
         4800,
         "IT"
        ],
        [
         107,
         "Diana Lorentz",
         "2021-04-24",
         "IT_PROG",
         4200,
         "IT"
        ],
        [
         108,
         "Nancy Greenberg",
         "2016-11-01",
         "FI_MGR",
         12000,
         "Finance"
        ],
        [
         109,
         "Daniel Faviet",
         "2016-10-31",
         "FI_ACCOUNT",
         9000,
         "Finance"
        ],
        [
         110,
         "John Chen",
         "2019-12-14",
         "FI_ACCOUNT",
         8200,
         "Finance"
        ],
        [
         111,
         "Ismael Sciarra",
         "2019-12-16",
         "FI_ACCOUNT",
         7700,
         "Finance"
        ],
        [
         112,
         "Jose Manuel Urman",
         "2020-05-22",
         "FI_ACCOUNT",
         7800,
         "Finance"
        ],
        [
         113,
         "Luis Popp",
         "2022-02-21",
         "FI_ACCOUNT",
         6900,
         "Finance"
        ],
        [
         114,
         "Den Raphaely",
         "2017-02-21",
         "PU_MAN",
         11000,
         "Purchasing"
        ],
        [
         115,
         "Alexander Khoo",
         "2017-08-02",
         "PU_CLERK",
         3100,
         "Purchasing"
        ],
        [
         116,
         "Shelli Baida",
         "2020-03-10",
         "PU_CLERK",
         2900,
         "Purchasing"
        ],
        [
         117,
         "Sigal Tobias",
         "2019-10-09",
         "PU_CLERK",
         2800,
         "Purchasing"
        ],
        [
         118,
         "Guy Himuro",
         "2021-01-30",
         "PU_CLERK",
         2600,
         "Purchasing"
        ],
        [
         119,
         "Karen Colmenares",
         "2021-10-25",
         "PU_CLERK",
         2500,
         "Purchasing"
        ],
        [
         120,
         "Matthew Weiss",
         "2018-10-03",
         "ST_MAN",
         8000,
         "Shipping"
        ],
        [
         121,
         "Adam Fripp",
         "2019-06-26",
         "ST_MAN",
         8200,
         "Shipping"
        ],
        [
         122,
         "Payam Kaufling",
         "2017-07-16",
         "ST_MAN",
         7900,
         "Shipping"
        ],
        [
         123,
         "Shanta Vollman",
         "2019-12-26",
         "ST_MAN",
         6500,
         "Shipping"
        ],
        [
         124,
         "Kevin Mourgos",
         "2022-01-31",
         "ST_MAN",
         5800,
         "Shipping"
        ],
        [
         125,
         "Julia Nayer",
         "2019-10-01",
         "ST_CLERK",
         3200,
         "Shipping"
        ],
        [
         126,
         "Irene Mikkilineni",
         "2020-12-13",
         "ST_CLERK",
         2700,
         "Shipping"
        ],
        [
         127,
         "James Landry",
         "2021-03-31",
         "ST_CLERK",
         2400,
         "Shipping"
        ],
        [
         128,
         "Steven Markle",
         "2022-05-24",
         "ST_CLERK",
         2200,
         "Shipping"
        ],
        [
         129,
         "Laura Bissot",
         "2019-11-05",
         "ST_CLERK",
         3300,
         "Shipping"
        ],
        [
         130,
         "Mozhe Atkinson",
         "2020-01-15",
         "ST_CLERK",
         2800,
         "Shipping"
        ],
        [
         131,
         "James Marlow",
         "2019-05-04",
         "ST_CLERK",
         2500,
         "Shipping"
        ],
        [
         132,
         "TJ Olson",
         "2021-06-25",
         "ST_CLERK",
         2100,
         "Shipping"
        ],
        [
         133,
         "Jason Mallin",
         "2018-08-30",
         "ST_CLERK",
         3300,
         "Shipping"
        ],
        [
         134,
         "Michael Rogers",
         "2020-11-10",
         "ST_CLERK",
         2900,
         "Shipping"
        ],
        [
         135,
         "Ki Gee",
         "2022-02-26",
         "ST_CLERK",
         2400,
         "Shipping"
        ],
        [
         136,
         "Hazel Philtanker",
         "2022-04-23",
         "ST_CLERK",
         2200,
         "Shipping"
        ],
        [
         137,
         "Renske Ladwig",
         "2017-09-28",
         "ST_CLERK",
         3600,
         "Shipping"
        ],
        [
         138,
         "Stephen Stiles",
         "2020-01-11",
         "ST_CLERK",
         3200,
         "Shipping"
        ],
        [
         139,
         "John Seo",
         "2020-04-29",
         "ST_CLERK",
         2700,
         "Shipping"
        ],
        [
         140,
         "Joshua Patel",
         "2020-06-21",
         "ST_CLERK",
         2500,
         "Shipping"
        ],
        [
         141,
         "Trenna Rajs",
         "2018-01-01",
         "ST_CLERK",
         3500,
         "Shipping"
        ],
        [
         142,
         "Curtis Davies",
         "2019-04-16",
         "ST_CLERK",
         3100,
         "Shipping"
        ],
        [
         143,
         "Randall Matos",
         "2020-05-30",
         "ST_CLERK",
         2600,
         "Shipping"
        ],
        [
         144,
         "Peter Vargas",
         "2020-09-23",
         "ST_CLERK",
         2500,
         "Shipping"
        ],
        [
         145,
         "John Russell",
         "2018-12-17",
         "SA_MAN",
         14000,
         "Sales"
        ],
        [
         146,
         "Karen Partners",
         "2019-03-23",
         "SA_MAN",
         13500,
         "Sales"
        ],
        [
         147,
         "Alberto Errazuriz",
         "2019-05-26",
         "SA_MAN",
         12000,
         "Sales"
        ],
        [
         148,
         "Gerald Cambrault",
         "2021-12-30",
         "SA_MAN",
         11000,
         "Sales"
        ],
        [
         149,
         "Eleni Zlotkey",
         "2022-04-15",
         "SA_MAN",
         10500,
         "Sales"
        ],
        [
         150,
         "Peter Tucker",
         "2019-04-17",
         "SA_REP",
         10000,
         "Sales"
        ],
        [
         151,
         "David Bernstein",
         "2019-06-09",
         "SA_REP",
         9500,
         "Sales"
        ],
        [
         152,
         "Peter Hall",
         "2019-11-05",
         "SA_REP",
         9000,
         "Sales"
        ],
        [
         153,
         "Christopher Olsen",
         "2020-06-14",
         "SA_REP",
         8000,
         "Sales"
        ],
        [
         154,
         "Nanette Cambrault",
         "2021-02-23",
         "SA_REP",
         7500,
         "Sales"
        ],
        [
         155,
         "Oliver Tuvault",
         "2022-02-07",
         "SA_REP",
         7000,
         "Sales"
        ],
        [
         156,
         "Janette King",
         "2018-04-16",
         "SA_REP",
         10000,
         "Sales"
        ],
        [
         157,
         "Patrick Sully",
         "2018-05-20",
         "SA_REP",
         9500,
         "Sales"
        ],
        [
         158,
         "Allan McEwen",
         "2018-10-17",
         "SA_REP",
         9000,
         "Sales"
        ],
        [
         159,
         "Lindsey Smith",
         "2019-05-26",
         "SA_REP",
         8000,
         "Sales"
        ],
        [
         160,
         "Louise Doran",
         "2020-03-01",
         "SA_REP",
         7500,
         "Sales"
        ],
        [
         161,
         "Sarath Sewall",
         "2021-01-18",
         "SA_REP",
         7000,
         "Sales"
        ],
        [
         162,
         "Clara Vishney",
         "2020-01-27",
         "SA_REP",
         10500,
         "Sales"
        ],
        [
         163,
         "Danielle Greene",
         "2021-06-03",
         "SA_REP",
         9500,
         "Sales"
        ],
        [
         164,
         "Mattea Marvins",
         "2022-04-10",
         "SA_REP",
         7200,
         "Sales"
        ],
        [
         165,
         "David Lee",
         "2022-05-10",
         "SA_REP",
         6800,
         "Sales"
        ],
        [
         166,
         "Sundar Ande",
         "2022-06-09",
         "SA_REP",
         6400,
         "Sales"
        ],
        [
         167,
         "Amit Banda",
         "2022-07-07",
         "SA_REP",
         6200,
         "Sales"
        ],
        [
         168,
         "Lisa Ozer",
         "2019-05-27",
         "SA_REP",
         11500,
         "Sales"
        ],
        [
         169,
         "Harrison Bloom",
         "2020-06-07",
         "SA_REP",
         10000,
         "Sales"
        ],
        [
         170,
         "Tayler Fox",
         "2020-04-10",
         "SA_REP",
         9600,
         "Sales"
        ],
        [
         171,
         "William Smith",
         "2021-05-10",
         "SA_REP",
         7400,
         "Sales"
        ],
        [
         172,
         "Elizabeth Bates",
         "2021-06-08",
         "SA_REP",
         7300,
         "Sales"
        ],
        [
         173,
         "Sundita Kumar",
         "2022-07-07",
         "SA_REP",
         6100,
         "Sales"
        ],
        [
         174,
         "Ellen Abel",
         "2018-07-27",
         "SA_REP",
         11000,
         "Sales"
        ],
        [
         175,
         "Alyssa Hutton",
         "2019-06-04",
         "SA_REP",
         8800,
         "Sales"
        ],
        [
         176,
         "Jonathon Taylor",
         "2020-06-08",
         "SA_REP",
         8600,
         "Sales"
        ],
        [
         177,
         "Jack Livingston",
         "2020-07-08",
         "SA_REP",
         8400,
         "Sales"
        ],
        [
         178,
         "Kimberely Grant",
         "2021-08-08",
         "SA_REP",
         7000,
         null
        ],
        [
         179,
         "Charles Johnson",
         "2022-03-21",
         "SA_REP",
         6200,
         "Sales"
        ],
        [
         180,
         "Winston Taylor",
         "2020-04-10",
         "SH_CLERK",
         3200,
         "Shipping"
        ],
        [
         181,
         "Jean Fleaur",
         "2020-05-10",
         "SH_CLERK",
         3100,
         "Shipping"
        ],
        [
         182,
         "Martha Sullivan",
         "2021-09-05",
         "SH_CLERK",
         2500,
         "Shipping"
        ],
        [
         183,
         "Girard Geoni",
         "2022-04-20",
         "SH_CLERK",
         2800,
         "Shipping"
        ],
        [
         184,
         "Nandita Sarchand",
         "2018-04-13",
         "SH_CLERK",
         4200,
         "Shipping"
        ],
        [
         185,
         "Alexis Bull",
         "2019-05-08",
         "SH_CLERK",
         4100,
         "Shipping"
        ],
        [
         186,
         "Julia Dellinger",
         "2020-09-08",
         "SH_CLERK",
         3400,
         "Shipping"
        ],
        [
         187,
         "Anthony Cabrio",
         "2021-04-24",
         "SH_CLERK",
         3000,
         "Shipping"
        ],
        [
         188,
         "Kelly Chung",
         "2019-08-30",
         "SH_CLERK",
         3800,
         "Shipping"
        ],
        [
         189,
         "Jennifer Dilly",
         "2019-10-29",
         "SH_CLERK",
         3600,
         "Shipping"
        ],
        [
         190,
         "Timothy Gates",
         "2020-09-25",
         "SH_CLERK",
         2900,
         "Shipping"
        ],
        [
         191,
         "Randall Perkins",
         "2022-03-05",
         "SH_CLERK",
         2500,
         "Shipping"
        ],
        [
         192,
         "Sarah Bell",
         "2018-04-21",
         "SH_CLERK",
         4000,
         "Shipping"
        ],
        [
         193,
         "Britney Everett",
         "2019-05-19",
         "SH_CLERK",
         3900,
         "Shipping"
        ],
        [
         194,
         "Samuel McCain",
         "2020-09-15",
         "SH_CLERK",
         3200,
         "Shipping"
        ],
        [
         195,
         "Vance Jones",
         "2021-06-01",
         "SH_CLERK",
         2800,
         "Shipping"
        ],
        [
         196,
         "Alana Walsh",
         "2020-07-09",
         "SH_CLERK",
         3100,
         "Shipping"
        ],
        [
         197,
         "Kevin Feeney",
         "2020-08-07",
         "SH_CLERK",
         3000,
         "Shipping"
        ],
        [
         198,
         "Donald OConnell",
         "2021-09-05",
         "SH_CLERK",
         2600,
         "Shipping"
        ],
        [
         199,
         "Douglas Grant",
         "2022-03-30",
         "SH_CLERK",
         2600,
         "Shipping"
        ],
        [
         200,
         "Jennifer Whalen",
         "2009-12-02",
         "AD_ASST",
         4400,
         "Administration"
        ],
        [
         201,
         "Michael Hartstein",
         "2018-05-04",
         "MK_MAN",
         13000,
         "Marketing"
        ],
        [
         202,
         "Pat Fay",
         "2019-11-02",
         "MK_REP",
         6000,
         "Marketing"
        ],
        [
         203,
         "Susan Mavris",
         "2016-08-22",
         "HR_REP",
         6500,
         "Human Resources"
        ],
        [
         204,
         "Hermann Baer",
         "2016-08-22",
         "PR_REP",
         10000,
         "Public Relations"
        ],
        [
         205,
         "Shelley Higgins",
         "2016-08-22",
         "AC_MGR",
         12000,
         "Accounting"
        ],
        [
         206,
         "William Gietz",
         "2016-08-22",
         "AC_ACCOUNT",
         8300,
         "Accounting"
        ]
       ],
       "datasetInfos": [],
       "dbfsResultPath": null,
       "isJsonSchema": true,
       "metadata": {},
       "overflow": false,
       "plotOptions": {
        "customPlotOptions": {},
        "displayType": "table",
        "pivotAggregation": null,
        "pivotColumns": null,
        "xColumns": null,
        "yColumns": null
       },
       "removedWidgets": [],
       "schema": [
        {
         "metadata": "{}",
         "name": "EMPLOYEE_ID",
         "type": "\"integer\""
        },
        {
         "metadata": "{}",
         "name": "FULL_NAME",
         "type": "\"string\""
        },
        {
         "metadata": "{}",
         "name": "HIRE_DATE",
         "type": "\"date\""
        },
        {
         "metadata": "{}",
         "name": "JOB_ID",
         "type": "\"string\""
        },
        {
         "metadata": "{}",
         "name": "SALARY",
         "type": "\"integer\""
        },
        {
         "metadata": "{}",
         "name": "DEPARTMENT_NAME",
         "type": "\"string\""
        }
       ],
       "type": "table"
      }
     },
     "output_type": "display_data"
    }
   ],
   "source": [
    "employees = employees.select('EMPLOYEE_ID', 'FULL_NAME', 'HIRE_DATE', 'JOB_ID', 'SALARY', 'DEPARTMENT_NAME')\n",
    "employees.display()"
   ]
  },
  {
   "cell_type": "code",
   "execution_count": 0,
   "metadata": {
    "application/vnd.databricks.v1+cell": {
     "cellMetadata": {
      "byteLimit": 2048000,
      "rowLimit": 10000
     },
     "inputWidgets": {},
     "nuid": "fd3d6948-29fc-48eb-8ff6-dd1c193bb4e8",
     "showTitle": false,
     "title": ""
    }
   },
   "outputs": [
    {
     "output_type": "display_data",
     "data": {
      "text/html": [
       "<style scoped>\n  .ansiout {\n    display: block;\n    unicode-bidi: embed;\n    white-space: pre-wrap;\n    word-wrap: break-word;\n    word-break: break-all;\n    font-family: \"Source Code Pro\", \"Menlo\", monospace;;\n    font-size: 13px;\n    color: #555;\n    margin-left: 4px;\n    line-height: 19px;\n  }\n</style>\n<div class=\"ansiout\"></div>"
      ]
     },
     "metadata": {
      "application/vnd.databricks.v1+output": {
       "addedWidgets": {},
       "arguments": {},
       "data": "<div class=\"ansiout\"></div>",
       "datasetInfos": [],
       "metadata": {},
       "removedWidgets": [],
       "type": "html"
      }
     },
     "output_type": "display_data"
    }
   ],
   "source": [
    "save_path = '/mnt/employees/gold'\n",
    "employees.write.parquet(f\"{save_path}/employees\")"
   ]
  },
  {
   "cell_type": "code",
   "execution_count": 0,
   "metadata": {
    "application/vnd.databricks.v1+cell": {
     "cellMetadata": {
      "byteLimit": 2048000,
      "implicitDf": true,
      "rowLimit": 10000
     },
     "inputWidgets": {},
     "nuid": "e155cc58-53f6-4b08-bd1f-c313a864908d",
     "showTitle": false,
     "title": ""
    }
   },
   "outputs": [
    {
     "output_type": "display_data",
     "data": {
      "text/html": [
       "<style scoped>\n  .table-result-container {\n    max-height: 300px;\n    overflow: auto;\n  }\n  table, th, td {\n    border: 1px solid black;\n    border-collapse: collapse;\n  }\n  th, td {\n    padding: 5px;\n  }\n  th {\n    text-align: left;\n  }\n</style><div class='table-result-container'><table class='table-result'><thead style='background-color: white'><tr></tr></thead><tbody></tbody></table></div>"
      ]
     },
     "metadata": {
      "application/vnd.databricks.v1+output": {
       "addedWidgets": {},
       "aggData": [],
       "aggError": "",
       "aggOverflow": false,
       "aggSchema": [],
       "aggSeriesLimitReached": false,
       "aggType": "",
       "arguments": {},
       "columnCustomDisplayInfos": {},
       "data": [],
       "datasetInfos": [],
       "dbfsResultPath": null,
       "isJsonSchema": true,
       "metadata": {},
       "overflow": false,
       "plotOptions": {
        "customPlotOptions": {},
        "displayType": "table",
        "pivotAggregation": null,
        "pivotColumns": null,
        "xColumns": null,
        "yColumns": null
       },
       "removedWidgets": [],
       "schema": [],
       "type": "table"
      }
     },
     "output_type": "display_data"
    }
   ],
   "source": [
    "%sql \n",
    "CREATE DATABASE IF NOT EXISTS employees"
   ]
  },
  {
   "cell_type": "code",
   "execution_count": 0,
   "metadata": {
    "application/vnd.databricks.v1+cell": {
     "cellMetadata": {
      "byteLimit": 2048000,
      "implicitDf": true,
      "rowLimit": 10000
     },
     "inputWidgets": {},
     "nuid": "0aebca16-b6ee-4fbd-9678-3146c31eb1c1",
     "showTitle": false,
     "title": ""
    }
   },
   "outputs": [
    {
     "output_type": "display_data",
     "data": {
      "text/html": [
       "<style scoped>\n  .table-result-container {\n    max-height: 300px;\n    overflow: auto;\n  }\n  table, th, td {\n    border: 1px solid black;\n    border-collapse: collapse;\n  }\n  th, td {\n    padding: 5px;\n  }\n  th {\n    text-align: left;\n  }\n</style><div class='table-result-container'><table class='table-result'><thead style='background-color: white'><tr></tr></thead><tbody></tbody></table></div>"
      ]
     },
     "metadata": {
      "application/vnd.databricks.v1+output": {
       "addedWidgets": {},
       "aggData": [],
       "aggError": "",
       "aggOverflow": false,
       "aggSchema": [],
       "aggSeriesLimitReached": false,
       "aggType": "",
       "arguments": {},
       "columnCustomDisplayInfos": {},
       "data": [],
       "datasetInfos": [],
       "dbfsResultPath": null,
       "isJsonSchema": true,
       "metadata": {},
       "overflow": false,
       "plotOptions": {
        "customPlotOptions": {},
        "displayType": "table",
        "pivotAggregation": null,
        "pivotColumns": null,
        "xColumns": null,
        "yColumns": null
       },
       "removedWidgets": [],
       "schema": [],
       "type": "table"
      }
     },
     "output_type": "display_data"
    }
   ],
   "source": [
    "%sql \n",
    "CREATE TABLE employees.employees\n",
    "(\n",
    "  EMPLOYEE_ID int, \n",
    "  FULL_NAME string, \n",
    "  HIRE_DATE date, \n",
    "  JOB_ID string, \n",
    "  SALARY int, \n",
    "  DEPARTMENT_NAME string\n",
    ")\n",
    "USING parquet \n",
    "LOCATION '/mnt/employees/gold/employees'"
   ]
  },
  {
   "cell_type": "code",
   "execution_count": 0,
   "metadata": {
    "application/vnd.databricks.v1+cell": {
     "cellMetadata": {
      "byteLimit": 2048000,
      "implicitDf": true,
      "rowLimit": 10000
     },
     "inputWidgets": {},
     "nuid": "206931ed-e9b1-4574-80ec-bbd7257aff9b",
     "showTitle": false,
     "title": ""
    }
   },
   "outputs": [
    {
     "output_type": "display_data",
     "data": {
      "text/html": [
       "<style scoped>\n  .table-result-container {\n    max-height: 300px;\n    overflow: auto;\n  }\n  table, th, td {\n    border: 1px solid black;\n    border-collapse: collapse;\n  }\n  th, td {\n    padding: 5px;\n  }\n  th {\n    text-align: left;\n  }\n</style><div class='table-result-container'><table class='table-result'><thead style='background-color: white'><tr><th>EMPLOYEE_ID</th><th>FULL_NAME</th><th>HIRE_DATE</th><th>JOB_ID</th><th>SALARY</th><th>DEPARTMENT_NAME</th></tr></thead><tbody><tr><td>100</td><td>Steven King</td><td>2009-09-01</td><td>AD_PRES</td><td>24000</td><td>Executive</td></tr><tr><td>101</td><td>Neena Kochhar</td><td>2011-12-07</td><td>AD_VP</td><td>17000</td><td>Executive</td></tr><tr><td>102</td><td>Lex De Haan</td><td>2015-03-31</td><td>AD_VP</td><td>17000</td><td>Executive</td></tr><tr><td>103</td><td>Alexander Hunold</td><td>2012-03-20</td><td>IT_PROG</td><td>9000</td><td>IT</td></tr><tr><td>104</td><td>Bruce Ernst</td><td>2013-08-05</td><td>IT_PROG</td><td>6000</td><td>IT</td></tr><tr><td>105</td><td>David Austin</td><td>2019-09-10</td><td>IT_PROG</td><td>4800</td><td>IT</td></tr><tr><td>106</td><td>Valli Pataballa</td><td>2020-04-22</td><td>IT_PROG</td><td>4800</td><td>IT</td></tr><tr><td>107</td><td>Diana Lorentz</td><td>2021-04-24</td><td>IT_PROG</td><td>4200</td><td>IT</td></tr><tr><td>108</td><td>Nancy Greenberg</td><td>2016-11-01</td><td>FI_MGR</td><td>12000</td><td>Finance</td></tr><tr><td>109</td><td>Daniel Faviet</td><td>2016-10-31</td><td>FI_ACCOUNT</td><td>9000</td><td>Finance</td></tr><tr><td>110</td><td>John Chen</td><td>2019-12-14</td><td>FI_ACCOUNT</td><td>8200</td><td>Finance</td></tr><tr><td>111</td><td>Ismael Sciarra</td><td>2019-12-16</td><td>FI_ACCOUNT</td><td>7700</td><td>Finance</td></tr><tr><td>112</td><td>Jose Manuel Urman</td><td>2020-05-22</td><td>FI_ACCOUNT</td><td>7800</td><td>Finance</td></tr><tr><td>113</td><td>Luis Popp</td><td>2022-02-21</td><td>FI_ACCOUNT</td><td>6900</td><td>Finance</td></tr><tr><td>114</td><td>Den Raphaely</td><td>2017-02-21</td><td>PU_MAN</td><td>11000</td><td>Purchasing</td></tr><tr><td>115</td><td>Alexander Khoo</td><td>2017-08-02</td><td>PU_CLERK</td><td>3100</td><td>Purchasing</td></tr><tr><td>116</td><td>Shelli Baida</td><td>2020-03-10</td><td>PU_CLERK</td><td>2900</td><td>Purchasing</td></tr><tr><td>117</td><td>Sigal Tobias</td><td>2019-10-09</td><td>PU_CLERK</td><td>2800</td><td>Purchasing</td></tr><tr><td>118</td><td>Guy Himuro</td><td>2021-01-30</td><td>PU_CLERK</td><td>2600</td><td>Purchasing</td></tr><tr><td>119</td><td>Karen Colmenares</td><td>2021-10-25</td><td>PU_CLERK</td><td>2500</td><td>Purchasing</td></tr><tr><td>120</td><td>Matthew Weiss</td><td>2018-10-03</td><td>ST_MAN</td><td>8000</td><td>Shipping</td></tr><tr><td>121</td><td>Adam Fripp</td><td>2019-06-26</td><td>ST_MAN</td><td>8200</td><td>Shipping</td></tr><tr><td>122</td><td>Payam Kaufling</td><td>2017-07-16</td><td>ST_MAN</td><td>7900</td><td>Shipping</td></tr><tr><td>123</td><td>Shanta Vollman</td><td>2019-12-26</td><td>ST_MAN</td><td>6500</td><td>Shipping</td></tr><tr><td>124</td><td>Kevin Mourgos</td><td>2022-01-31</td><td>ST_MAN</td><td>5800</td><td>Shipping</td></tr><tr><td>125</td><td>Julia Nayer</td><td>2019-10-01</td><td>ST_CLERK</td><td>3200</td><td>Shipping</td></tr><tr><td>126</td><td>Irene Mikkilineni</td><td>2020-12-13</td><td>ST_CLERK</td><td>2700</td><td>Shipping</td></tr><tr><td>127</td><td>James Landry</td><td>2021-03-31</td><td>ST_CLERK</td><td>2400</td><td>Shipping</td></tr><tr><td>128</td><td>Steven Markle</td><td>2022-05-24</td><td>ST_CLERK</td><td>2200</td><td>Shipping</td></tr><tr><td>129</td><td>Laura Bissot</td><td>2019-11-05</td><td>ST_CLERK</td><td>3300</td><td>Shipping</td></tr><tr><td>130</td><td>Mozhe Atkinson</td><td>2020-01-15</td><td>ST_CLERK</td><td>2800</td><td>Shipping</td></tr><tr><td>131</td><td>James Marlow</td><td>2019-05-04</td><td>ST_CLERK</td><td>2500</td><td>Shipping</td></tr><tr><td>132</td><td>TJ Olson</td><td>2021-06-25</td><td>ST_CLERK</td><td>2100</td><td>Shipping</td></tr><tr><td>133</td><td>Jason Mallin</td><td>2018-08-30</td><td>ST_CLERK</td><td>3300</td><td>Shipping</td></tr><tr><td>134</td><td>Michael Rogers</td><td>2020-11-10</td><td>ST_CLERK</td><td>2900</td><td>Shipping</td></tr><tr><td>135</td><td>Ki Gee</td><td>2022-02-26</td><td>ST_CLERK</td><td>2400</td><td>Shipping</td></tr><tr><td>136</td><td>Hazel Philtanker</td><td>2022-04-23</td><td>ST_CLERK</td><td>2200</td><td>Shipping</td></tr><tr><td>137</td><td>Renske Ladwig</td><td>2017-09-28</td><td>ST_CLERK</td><td>3600</td><td>Shipping</td></tr><tr><td>138</td><td>Stephen Stiles</td><td>2020-01-11</td><td>ST_CLERK</td><td>3200</td><td>Shipping</td></tr><tr><td>139</td><td>John Seo</td><td>2020-04-29</td><td>ST_CLERK</td><td>2700</td><td>Shipping</td></tr><tr><td>140</td><td>Joshua Patel</td><td>2020-06-21</td><td>ST_CLERK</td><td>2500</td><td>Shipping</td></tr><tr><td>141</td><td>Trenna Rajs</td><td>2018-01-01</td><td>ST_CLERK</td><td>3500</td><td>Shipping</td></tr><tr><td>142</td><td>Curtis Davies</td><td>2019-04-16</td><td>ST_CLERK</td><td>3100</td><td>Shipping</td></tr><tr><td>143</td><td>Randall Matos</td><td>2020-05-30</td><td>ST_CLERK</td><td>2600</td><td>Shipping</td></tr><tr><td>144</td><td>Peter Vargas</td><td>2020-09-23</td><td>ST_CLERK</td><td>2500</td><td>Shipping</td></tr><tr><td>145</td><td>John Russell</td><td>2018-12-17</td><td>SA_MAN</td><td>14000</td><td>Sales</td></tr><tr><td>146</td><td>Karen Partners</td><td>2019-03-23</td><td>SA_MAN</td><td>13500</td><td>Sales</td></tr><tr><td>147</td><td>Alberto Errazuriz</td><td>2019-05-26</td><td>SA_MAN</td><td>12000</td><td>Sales</td></tr><tr><td>148</td><td>Gerald Cambrault</td><td>2021-12-30</td><td>SA_MAN</td><td>11000</td><td>Sales</td></tr><tr><td>149</td><td>Eleni Zlotkey</td><td>2022-04-15</td><td>SA_MAN</td><td>10500</td><td>Sales</td></tr><tr><td>150</td><td>Peter Tucker</td><td>2019-04-17</td><td>SA_REP</td><td>10000</td><td>Sales</td></tr><tr><td>151</td><td>David Bernstein</td><td>2019-06-09</td><td>SA_REP</td><td>9500</td><td>Sales</td></tr><tr><td>152</td><td>Peter Hall</td><td>2019-11-05</td><td>SA_REP</td><td>9000</td><td>Sales</td></tr><tr><td>153</td><td>Christopher Olsen</td><td>2020-06-14</td><td>SA_REP</td><td>8000</td><td>Sales</td></tr><tr><td>154</td><td>Nanette Cambrault</td><td>2021-02-23</td><td>SA_REP</td><td>7500</td><td>Sales</td></tr><tr><td>155</td><td>Oliver Tuvault</td><td>2022-02-07</td><td>SA_REP</td><td>7000</td><td>Sales</td></tr><tr><td>156</td><td>Janette King</td><td>2018-04-16</td><td>SA_REP</td><td>10000</td><td>Sales</td></tr><tr><td>157</td><td>Patrick Sully</td><td>2018-05-20</td><td>SA_REP</td><td>9500</td><td>Sales</td></tr><tr><td>158</td><td>Allan McEwen</td><td>2018-10-17</td><td>SA_REP</td><td>9000</td><td>Sales</td></tr><tr><td>159</td><td>Lindsey Smith</td><td>2019-05-26</td><td>SA_REP</td><td>8000</td><td>Sales</td></tr><tr><td>160</td><td>Louise Doran</td><td>2020-03-01</td><td>SA_REP</td><td>7500</td><td>Sales</td></tr><tr><td>161</td><td>Sarath Sewall</td><td>2021-01-18</td><td>SA_REP</td><td>7000</td><td>Sales</td></tr><tr><td>162</td><td>Clara Vishney</td><td>2020-01-27</td><td>SA_REP</td><td>10500</td><td>Sales</td></tr><tr><td>163</td><td>Danielle Greene</td><td>2021-06-03</td><td>SA_REP</td><td>9500</td><td>Sales</td></tr><tr><td>164</td><td>Mattea Marvins</td><td>2022-04-10</td><td>SA_REP</td><td>7200</td><td>Sales</td></tr><tr><td>165</td><td>David Lee</td><td>2022-05-10</td><td>SA_REP</td><td>6800</td><td>Sales</td></tr><tr><td>166</td><td>Sundar Ande</td><td>2022-06-09</td><td>SA_REP</td><td>6400</td><td>Sales</td></tr><tr><td>167</td><td>Amit Banda</td><td>2022-07-07</td><td>SA_REP</td><td>6200</td><td>Sales</td></tr><tr><td>168</td><td>Lisa Ozer</td><td>2019-05-27</td><td>SA_REP</td><td>11500</td><td>Sales</td></tr><tr><td>169</td><td>Harrison Bloom</td><td>2020-06-07</td><td>SA_REP</td><td>10000</td><td>Sales</td></tr><tr><td>170</td><td>Tayler Fox</td><td>2020-04-10</td><td>SA_REP</td><td>9600</td><td>Sales</td></tr><tr><td>171</td><td>William Smith</td><td>2021-05-10</td><td>SA_REP</td><td>7400</td><td>Sales</td></tr><tr><td>172</td><td>Elizabeth Bates</td><td>2021-06-08</td><td>SA_REP</td><td>7300</td><td>Sales</td></tr><tr><td>173</td><td>Sundita Kumar</td><td>2022-07-07</td><td>SA_REP</td><td>6100</td><td>Sales</td></tr><tr><td>174</td><td>Ellen Abel</td><td>2018-07-27</td><td>SA_REP</td><td>11000</td><td>Sales</td></tr><tr><td>175</td><td>Alyssa Hutton</td><td>2019-06-04</td><td>SA_REP</td><td>8800</td><td>Sales</td></tr><tr><td>176</td><td>Jonathon Taylor</td><td>2020-06-08</td><td>SA_REP</td><td>8600</td><td>Sales</td></tr><tr><td>177</td><td>Jack Livingston</td><td>2020-07-08</td><td>SA_REP</td><td>8400</td><td>Sales</td></tr><tr><td>178</td><td>Kimberely Grant</td><td>2021-08-08</td><td>SA_REP</td><td>7000</td><td>null</td></tr><tr><td>179</td><td>Charles Johnson</td><td>2022-03-21</td><td>SA_REP</td><td>6200</td><td>Sales</td></tr><tr><td>180</td><td>Winston Taylor</td><td>2020-04-10</td><td>SH_CLERK</td><td>3200</td><td>Shipping</td></tr><tr><td>181</td><td>Jean Fleaur</td><td>2020-05-10</td><td>SH_CLERK</td><td>3100</td><td>Shipping</td></tr><tr><td>182</td><td>Martha Sullivan</td><td>2021-09-05</td><td>SH_CLERK</td><td>2500</td><td>Shipping</td></tr><tr><td>183</td><td>Girard Geoni</td><td>2022-04-20</td><td>SH_CLERK</td><td>2800</td><td>Shipping</td></tr><tr><td>184</td><td>Nandita Sarchand</td><td>2018-04-13</td><td>SH_CLERK</td><td>4200</td><td>Shipping</td></tr><tr><td>185</td><td>Alexis Bull</td><td>2019-05-08</td><td>SH_CLERK</td><td>4100</td><td>Shipping</td></tr><tr><td>186</td><td>Julia Dellinger</td><td>2020-09-08</td><td>SH_CLERK</td><td>3400</td><td>Shipping</td></tr><tr><td>187</td><td>Anthony Cabrio</td><td>2021-04-24</td><td>SH_CLERK</td><td>3000</td><td>Shipping</td></tr><tr><td>188</td><td>Kelly Chung</td><td>2019-08-30</td><td>SH_CLERK</td><td>3800</td><td>Shipping</td></tr><tr><td>189</td><td>Jennifer Dilly</td><td>2019-10-29</td><td>SH_CLERK</td><td>3600</td><td>Shipping</td></tr><tr><td>190</td><td>Timothy Gates</td><td>2020-09-25</td><td>SH_CLERK</td><td>2900</td><td>Shipping</td></tr><tr><td>191</td><td>Randall Perkins</td><td>2022-03-05</td><td>SH_CLERK</td><td>2500</td><td>Shipping</td></tr><tr><td>192</td><td>Sarah Bell</td><td>2018-04-21</td><td>SH_CLERK</td><td>4000</td><td>Shipping</td></tr><tr><td>193</td><td>Britney Everett</td><td>2019-05-19</td><td>SH_CLERK</td><td>3900</td><td>Shipping</td></tr><tr><td>194</td><td>Samuel McCain</td><td>2020-09-15</td><td>SH_CLERK</td><td>3200</td><td>Shipping</td></tr><tr><td>195</td><td>Vance Jones</td><td>2021-06-01</td><td>SH_CLERK</td><td>2800</td><td>Shipping</td></tr><tr><td>196</td><td>Alana Walsh</td><td>2020-07-09</td><td>SH_CLERK</td><td>3100</td><td>Shipping</td></tr><tr><td>197</td><td>Kevin Feeney</td><td>2020-08-07</td><td>SH_CLERK</td><td>3000</td><td>Shipping</td></tr><tr><td>198</td><td>Donald OConnell</td><td>2021-09-05</td><td>SH_CLERK</td><td>2600</td><td>Shipping</td></tr><tr><td>199</td><td>Douglas Grant</td><td>2022-03-30</td><td>SH_CLERK</td><td>2600</td><td>Shipping</td></tr><tr><td>200</td><td>Jennifer Whalen</td><td>2009-12-02</td><td>AD_ASST</td><td>4400</td><td>Administration</td></tr><tr><td>201</td><td>Michael Hartstein</td><td>2018-05-04</td><td>MK_MAN</td><td>13000</td><td>Marketing</td></tr><tr><td>202</td><td>Pat Fay</td><td>2019-11-02</td><td>MK_REP</td><td>6000</td><td>Marketing</td></tr><tr><td>203</td><td>Susan Mavris</td><td>2016-08-22</td><td>HR_REP</td><td>6500</td><td>Human Resources</td></tr><tr><td>204</td><td>Hermann Baer</td><td>2016-08-22</td><td>PR_REP</td><td>10000</td><td>Public Relations</td></tr><tr><td>205</td><td>Shelley Higgins</td><td>2016-08-22</td><td>AC_MGR</td><td>12000</td><td>Accounting</td></tr><tr><td>206</td><td>William Gietz</td><td>2016-08-22</td><td>AC_ACCOUNT</td><td>8300</td><td>Accounting</td></tr></tbody></table></div>"
      ]
     },
     "metadata": {
      "application/vnd.databricks.v1+output": {
       "addedWidgets": {},
       "aggData": [],
       "aggError": "",
       "aggOverflow": false,
       "aggSchema": [],
       "aggSeriesLimitReached": false,
       "aggType": "",
       "arguments": {},
       "columnCustomDisplayInfos": {},
       "data": [
        [
         100,
         "Steven King",
         "2009-09-01",
         "AD_PRES",
         24000,
         "Executive"
        ],
        [
         101,
         "Neena Kochhar",
         "2011-12-07",
         "AD_VP",
         17000,
         "Executive"
        ],
        [
         102,
         "Lex De Haan",
         "2015-03-31",
         "AD_VP",
         17000,
         "Executive"
        ],
        [
         103,
         "Alexander Hunold",
         "2012-03-20",
         "IT_PROG",
         9000,
         "IT"
        ],
        [
         104,
         "Bruce Ernst",
         "2013-08-05",
         "IT_PROG",
         6000,
         "IT"
        ],
        [
         105,
         "David Austin",
         "2019-09-10",
         "IT_PROG",
         4800,
         "IT"
        ],
        [
         106,
         "Valli Pataballa",
         "2020-04-22",
         "IT_PROG",
         4800,
         "IT"
        ],
        [
         107,
         "Diana Lorentz",
         "2021-04-24",
         "IT_PROG",
         4200,
         "IT"
        ],
        [
         108,
         "Nancy Greenberg",
         "2016-11-01",
         "FI_MGR",
         12000,
         "Finance"
        ],
        [
         109,
         "Daniel Faviet",
         "2016-10-31",
         "FI_ACCOUNT",
         9000,
         "Finance"
        ],
        [
         110,
         "John Chen",
         "2019-12-14",
         "FI_ACCOUNT",
         8200,
         "Finance"
        ],
        [
         111,
         "Ismael Sciarra",
         "2019-12-16",
         "FI_ACCOUNT",
         7700,
         "Finance"
        ],
        [
         112,
         "Jose Manuel Urman",
         "2020-05-22",
         "FI_ACCOUNT",
         7800,
         "Finance"
        ],
        [
         113,
         "Luis Popp",
         "2022-02-21",
         "FI_ACCOUNT",
         6900,
         "Finance"
        ],
        [
         114,
         "Den Raphaely",
         "2017-02-21",
         "PU_MAN",
         11000,
         "Purchasing"
        ],
        [
         115,
         "Alexander Khoo",
         "2017-08-02",
         "PU_CLERK",
         3100,
         "Purchasing"
        ],
        [
         116,
         "Shelli Baida",
         "2020-03-10",
         "PU_CLERK",
         2900,
         "Purchasing"
        ],
        [
         117,
         "Sigal Tobias",
         "2019-10-09",
         "PU_CLERK",
         2800,
         "Purchasing"
        ],
        [
         118,
         "Guy Himuro",
         "2021-01-30",
         "PU_CLERK",
         2600,
         "Purchasing"
        ],
        [
         119,
         "Karen Colmenares",
         "2021-10-25",
         "PU_CLERK",
         2500,
         "Purchasing"
        ],
        [
         120,
         "Matthew Weiss",
         "2018-10-03",
         "ST_MAN",
         8000,
         "Shipping"
        ],
        [
         121,
         "Adam Fripp",
         "2019-06-26",
         "ST_MAN",
         8200,
         "Shipping"
        ],
        [
         122,
         "Payam Kaufling",
         "2017-07-16",
         "ST_MAN",
         7900,
         "Shipping"
        ],
        [
         123,
         "Shanta Vollman",
         "2019-12-26",
         "ST_MAN",
         6500,
         "Shipping"
        ],
        [
         124,
         "Kevin Mourgos",
         "2022-01-31",
         "ST_MAN",
         5800,
         "Shipping"
        ],
        [
         125,
         "Julia Nayer",
         "2019-10-01",
         "ST_CLERK",
         3200,
         "Shipping"
        ],
        [
         126,
         "Irene Mikkilineni",
         "2020-12-13",
         "ST_CLERK",
         2700,
         "Shipping"
        ],
        [
         127,
         "James Landry",
         "2021-03-31",
         "ST_CLERK",
         2400,
         "Shipping"
        ],
        [
         128,
         "Steven Markle",
         "2022-05-24",
         "ST_CLERK",
         2200,
         "Shipping"
        ],
        [
         129,
         "Laura Bissot",
         "2019-11-05",
         "ST_CLERK",
         3300,
         "Shipping"
        ],
        [
         130,
         "Mozhe Atkinson",
         "2020-01-15",
         "ST_CLERK",
         2800,
         "Shipping"
        ],
        [
         131,
         "James Marlow",
         "2019-05-04",
         "ST_CLERK",
         2500,
         "Shipping"
        ],
        [
         132,
         "TJ Olson",
         "2021-06-25",
         "ST_CLERK",
         2100,
         "Shipping"
        ],
        [
         133,
         "Jason Mallin",
         "2018-08-30",
         "ST_CLERK",
         3300,
         "Shipping"
        ],
        [
         134,
         "Michael Rogers",
         "2020-11-10",
         "ST_CLERK",
         2900,
         "Shipping"
        ],
        [
         135,
         "Ki Gee",
         "2022-02-26",
         "ST_CLERK",
         2400,
         "Shipping"
        ],
        [
         136,
         "Hazel Philtanker",
         "2022-04-23",
         "ST_CLERK",
         2200,
         "Shipping"
        ],
        [
         137,
         "Renske Ladwig",
         "2017-09-28",
         "ST_CLERK",
         3600,
         "Shipping"
        ],
        [
         138,
         "Stephen Stiles",
         "2020-01-11",
         "ST_CLERK",
         3200,
         "Shipping"
        ],
        [
         139,
         "John Seo",
         "2020-04-29",
         "ST_CLERK",
         2700,
         "Shipping"
        ],
        [
         140,
         "Joshua Patel",
         "2020-06-21",
         "ST_CLERK",
         2500,
         "Shipping"
        ],
        [
         141,
         "Trenna Rajs",
         "2018-01-01",
         "ST_CLERK",
         3500,
         "Shipping"
        ],
        [
         142,
         "Curtis Davies",
         "2019-04-16",
         "ST_CLERK",
         3100,
         "Shipping"
        ],
        [
         143,
         "Randall Matos",
         "2020-05-30",
         "ST_CLERK",
         2600,
         "Shipping"
        ],
        [
         144,
         "Peter Vargas",
         "2020-09-23",
         "ST_CLERK",
         2500,
         "Shipping"
        ],
        [
         145,
         "John Russell",
         "2018-12-17",
         "SA_MAN",
         14000,
         "Sales"
        ],
        [
         146,
         "Karen Partners",
         "2019-03-23",
         "SA_MAN",
         13500,
         "Sales"
        ],
        [
         147,
         "Alberto Errazuriz",
         "2019-05-26",
         "SA_MAN",
         12000,
         "Sales"
        ],
        [
         148,
         "Gerald Cambrault",
         "2021-12-30",
         "SA_MAN",
         11000,
         "Sales"
        ],
        [
         149,
         "Eleni Zlotkey",
         "2022-04-15",
         "SA_MAN",
         10500,
         "Sales"
        ],
        [
         150,
         "Peter Tucker",
         "2019-04-17",
         "SA_REP",
         10000,
         "Sales"
        ],
        [
         151,
         "David Bernstein",
         "2019-06-09",
         "SA_REP",
         9500,
         "Sales"
        ],
        [
         152,
         "Peter Hall",
         "2019-11-05",
         "SA_REP",
         9000,
         "Sales"
        ],
        [
         153,
         "Christopher Olsen",
         "2020-06-14",
         "SA_REP",
         8000,
         "Sales"
        ],
        [
         154,
         "Nanette Cambrault",
         "2021-02-23",
         "SA_REP",
         7500,
         "Sales"
        ],
        [
         155,
         "Oliver Tuvault",
         "2022-02-07",
         "SA_REP",
         7000,
         "Sales"
        ],
        [
         156,
         "Janette King",
         "2018-04-16",
         "SA_REP",
         10000,
         "Sales"
        ],
        [
         157,
         "Patrick Sully",
         "2018-05-20",
         "SA_REP",
         9500,
         "Sales"
        ],
        [
         158,
         "Allan McEwen",
         "2018-10-17",
         "SA_REP",
         9000,
         "Sales"
        ],
        [
         159,
         "Lindsey Smith",
         "2019-05-26",
         "SA_REP",
         8000,
         "Sales"
        ],
        [
         160,
         "Louise Doran",
         "2020-03-01",
         "SA_REP",
         7500,
         "Sales"
        ],
        [
         161,
         "Sarath Sewall",
         "2021-01-18",
         "SA_REP",
         7000,
         "Sales"
        ],
        [
         162,
         "Clara Vishney",
         "2020-01-27",
         "SA_REP",
         10500,
         "Sales"
        ],
        [
         163,
         "Danielle Greene",
         "2021-06-03",
         "SA_REP",
         9500,
         "Sales"
        ],
        [
         164,
         "Mattea Marvins",
         "2022-04-10",
         "SA_REP",
         7200,
         "Sales"
        ],
        [
         165,
         "David Lee",
         "2022-05-10",
         "SA_REP",
         6800,
         "Sales"
        ],
        [
         166,
         "Sundar Ande",
         "2022-06-09",
         "SA_REP",
         6400,
         "Sales"
        ],
        [
         167,
         "Amit Banda",
         "2022-07-07",
         "SA_REP",
         6200,
         "Sales"
        ],
        [
         168,
         "Lisa Ozer",
         "2019-05-27",
         "SA_REP",
         11500,
         "Sales"
        ],
        [
         169,
         "Harrison Bloom",
         "2020-06-07",
         "SA_REP",
         10000,
         "Sales"
        ],
        [
         170,
         "Tayler Fox",
         "2020-04-10",
         "SA_REP",
         9600,
         "Sales"
        ],
        [
         171,
         "William Smith",
         "2021-05-10",
         "SA_REP",
         7400,
         "Sales"
        ],
        [
         172,
         "Elizabeth Bates",
         "2021-06-08",
         "SA_REP",
         7300,
         "Sales"
        ],
        [
         173,
         "Sundita Kumar",
         "2022-07-07",
         "SA_REP",
         6100,
         "Sales"
        ],
        [
         174,
         "Ellen Abel",
         "2018-07-27",
         "SA_REP",
         11000,
         "Sales"
        ],
        [
         175,
         "Alyssa Hutton",
         "2019-06-04",
         "SA_REP",
         8800,
         "Sales"
        ],
        [
         176,
         "Jonathon Taylor",
         "2020-06-08",
         "SA_REP",
         8600,
         "Sales"
        ],
        [
         177,
         "Jack Livingston",
         "2020-07-08",
         "SA_REP",
         8400,
         "Sales"
        ],
        [
         178,
         "Kimberely Grant",
         "2021-08-08",
         "SA_REP",
         7000,
         null
        ],
        [
         179,
         "Charles Johnson",
         "2022-03-21",
         "SA_REP",
         6200,
         "Sales"
        ],
        [
         180,
         "Winston Taylor",
         "2020-04-10",
         "SH_CLERK",
         3200,
         "Shipping"
        ],
        [
         181,
         "Jean Fleaur",
         "2020-05-10",
         "SH_CLERK",
         3100,
         "Shipping"
        ],
        [
         182,
         "Martha Sullivan",
         "2021-09-05",
         "SH_CLERK",
         2500,
         "Shipping"
        ],
        [
         183,
         "Girard Geoni",
         "2022-04-20",
         "SH_CLERK",
         2800,
         "Shipping"
        ],
        [
         184,
         "Nandita Sarchand",
         "2018-04-13",
         "SH_CLERK",
         4200,
         "Shipping"
        ],
        [
         185,
         "Alexis Bull",
         "2019-05-08",
         "SH_CLERK",
         4100,
         "Shipping"
        ],
        [
         186,
         "Julia Dellinger",
         "2020-09-08",
         "SH_CLERK",
         3400,
         "Shipping"
        ],
        [
         187,
         "Anthony Cabrio",
         "2021-04-24",
         "SH_CLERK",
         3000,
         "Shipping"
        ],
        [
         188,
         "Kelly Chung",
         "2019-08-30",
         "SH_CLERK",
         3800,
         "Shipping"
        ],
        [
         189,
         "Jennifer Dilly",
         "2019-10-29",
         "SH_CLERK",
         3600,
         "Shipping"
        ],
        [
         190,
         "Timothy Gates",
         "2020-09-25",
         "SH_CLERK",
         2900,
         "Shipping"
        ],
        [
         191,
         "Randall Perkins",
         "2022-03-05",
         "SH_CLERK",
         2500,
         "Shipping"
        ],
        [
         192,
         "Sarah Bell",
         "2018-04-21",
         "SH_CLERK",
         4000,
         "Shipping"
        ],
        [
         193,
         "Britney Everett",
         "2019-05-19",
         "SH_CLERK",
         3900,
         "Shipping"
        ],
        [
         194,
         "Samuel McCain",
         "2020-09-15",
         "SH_CLERK",
         3200,
         "Shipping"
        ],
        [
         195,
         "Vance Jones",
         "2021-06-01",
         "SH_CLERK",
         2800,
         "Shipping"
        ],
        [
         196,
         "Alana Walsh",
         "2020-07-09",
         "SH_CLERK",
         3100,
         "Shipping"
        ],
        [
         197,
         "Kevin Feeney",
         "2020-08-07",
         "SH_CLERK",
         3000,
         "Shipping"
        ],
        [
         198,
         "Donald OConnell",
         "2021-09-05",
         "SH_CLERK",
         2600,
         "Shipping"
        ],
        [
         199,
         "Douglas Grant",
         "2022-03-30",
         "SH_CLERK",
         2600,
         "Shipping"
        ],
        [
         200,
         "Jennifer Whalen",
         "2009-12-02",
         "AD_ASST",
         4400,
         "Administration"
        ],
        [
         201,
         "Michael Hartstein",
         "2018-05-04",
         "MK_MAN",
         13000,
         "Marketing"
        ],
        [
         202,
         "Pat Fay",
         "2019-11-02",
         "MK_REP",
         6000,
         "Marketing"
        ],
        [
         203,
         "Susan Mavris",
         "2016-08-22",
         "HR_REP",
         6500,
         "Human Resources"
        ],
        [
         204,
         "Hermann Baer",
         "2016-08-22",
         "PR_REP",
         10000,
         "Public Relations"
        ],
        [
         205,
         "Shelley Higgins",
         "2016-08-22",
         "AC_MGR",
         12000,
         "Accounting"
        ],
        [
         206,
         "William Gietz",
         "2016-08-22",
         "AC_ACCOUNT",
         8300,
         "Accounting"
        ]
       ],
       "datasetInfos": [],
       "dbfsResultPath": null,
       "isJsonSchema": true,
       "metadata": {},
       "overflow": false,
       "plotOptions": {
        "customPlotOptions": {},
        "displayType": "table",
        "pivotAggregation": null,
        "pivotColumns": null,
        "xColumns": null,
        "yColumns": null
       },
       "removedWidgets": [],
       "schema": [
        {
         "metadata": "{}",
         "name": "EMPLOYEE_ID",
         "type": "\"integer\""
        },
        {
         "metadata": "{}",
         "name": "FULL_NAME",
         "type": "\"string\""
        },
        {
         "metadata": "{}",
         "name": "HIRE_DATE",
         "type": "\"date\""
        },
        {
         "metadata": "{}",
         "name": "JOB_ID",
         "type": "\"string\""
        },
        {
         "metadata": "{}",
         "name": "SALARY",
         "type": "\"integer\""
        },
        {
         "metadata": "{}",
         "name": "DEPARTMENT_NAME",
         "type": "\"string\""
        }
       ],
       "type": "table"
      }
     },
     "output_type": "display_data"
    }
   ],
   "source": [
    "%sql \n",
    "SELECT * FROM employees.employees;"
   ]
  },
  {
   "cell_type": "code",
   "execution_count": 0,
   "metadata": {
    "application/vnd.databricks.v1+cell": {
     "cellMetadata": {
      "byteLimit": 2048000,
      "implicitDf": true,
      "rowLimit": 10000
     },
     "inputWidgets": {},
     "nuid": "8e70d4b2-63a8-45b4-bee7-fcec641b4436",
     "showTitle": false,
     "title": ""
    }
   },
   "outputs": [
    {
     "output_type": "display_data",
     "data": {
      "text/html": [
       "<style scoped>\n  .table-result-container {\n    max-height: 300px;\n    overflow: auto;\n  }\n  table, th, td {\n    border: 1px solid black;\n    border-collapse: collapse;\n  }\n  th, td {\n    padding: 5px;\n  }\n  th {\n    text-align: left;\n  }\n</style><div class='table-result-container'><table class='table-result'><thead style='background-color: white'><tr><th>col_name</th><th>data_type</th><th>comment</th></tr></thead><tbody><tr><td>EMPLOYEE_ID</td><td>int</td><td>null</td></tr><tr><td>FULL_NAME</td><td>string</td><td>null</td></tr><tr><td>HIRE_DATE</td><td>date</td><td>null</td></tr><tr><td>JOB_ID</td><td>string</td><td>null</td></tr><tr><td>SALARY</td><td>int</td><td>null</td></tr><tr><td>DEPARTMENT_NAME</td><td>string</td><td>null</td></tr><tr><td></td><td></td><td></td></tr><tr><td># Detailed Table Information</td><td></td><td></td></tr><tr><td>Database</td><td>employees</td><td></td></tr><tr><td>Table</td><td>employees</td><td></td></tr><tr><td>Owner</td><td>root</td><td></td></tr><tr><td>Created Time</td><td>Thu Mar 16 20:31:56 UTC 2023</td><td></td></tr><tr><td>Last Access</td><td>UNKNOWN</td><td></td></tr><tr><td>Created By</td><td>Spark 3.2.1</td><td></td></tr><tr><td>Type</td><td>EXTERNAL</td><td></td></tr><tr><td>Provider</td><td>parquet</td><td></td></tr><tr><td>Location</td><td>dbfs:/mnt/employees/gold/employees</td><td></td></tr><tr><td>Serde Library</td><td>org.apache.hadoop.hive.serde2.lazy.LazySimpleSerDe</td><td></td></tr><tr><td>InputFormat</td><td>org.apache.hadoop.mapred.SequenceFileInputFormat</td><td></td></tr><tr><td>OutputFormat</td><td>org.apache.hadoop.hive.ql.io.HiveSequenceFileOutputFormat</td><td></td></tr></tbody></table></div>"
      ]
     },
     "metadata": {
      "application/vnd.databricks.v1+output": {
       "addedWidgets": {},
       "aggData": [],
       "aggError": "",
       "aggOverflow": false,
       "aggSchema": [],
       "aggSeriesLimitReached": false,
       "aggType": "",
       "arguments": {},
       "columnCustomDisplayInfos": {},
       "data": [
        [
         "EMPLOYEE_ID",
         "int",
         null
        ],
        [
         "FULL_NAME",
         "string",
         null
        ],
        [
         "HIRE_DATE",
         "date",
         null
        ],
        [
         "JOB_ID",
         "string",
         null
        ],
        [
         "SALARY",
         "int",
         null
        ],
        [
         "DEPARTMENT_NAME",
         "string",
         null
        ],
        [
         "",
         "",
         ""
        ],
        [
         "# Detailed Table Information",
         "",
         ""
        ],
        [
         "Database",
         "employees",
         ""
        ],
        [
         "Table",
         "employees",
         ""
        ],
        [
         "Owner",
         "root",
         ""
        ],
        [
         "Created Time",
         "Thu Mar 16 20:31:56 UTC 2023",
         ""
        ],
        [
         "Last Access",
         "UNKNOWN",
         ""
        ],
        [
         "Created By",
         "Spark 3.2.1",
         ""
        ],
        [
         "Type",
         "EXTERNAL",
         ""
        ],
        [
         "Provider",
         "parquet",
         ""
        ],
        [
         "Location",
         "dbfs:/mnt/employees/gold/employees",
         ""
        ],
        [
         "Serde Library",
         "org.apache.hadoop.hive.serde2.lazy.LazySimpleSerDe",
         ""
        ],
        [
         "InputFormat",
         "org.apache.hadoop.mapred.SequenceFileInputFormat",
         ""
        ],
        [
         "OutputFormat",
         "org.apache.hadoop.hive.ql.io.HiveSequenceFileOutputFormat",
         ""
        ]
       ],
       "datasetInfos": [],
       "dbfsResultPath": null,
       "isJsonSchema": true,
       "metadata": {},
       "overflow": false,
       "plotOptions": {
        "customPlotOptions": {},
        "displayType": "table",
        "pivotAggregation": null,
        "pivotColumns": null,
        "xColumns": null,
        "yColumns": null
       },
       "removedWidgets": [],
       "schema": [
        {
         "metadata": "{\"comment\":\"name of the column\"}",
         "name": "col_name",
         "type": "\"string\""
        },
        {
         "metadata": "{\"comment\":\"data type of the column\"}",
         "name": "data_type",
         "type": "\"string\""
        },
        {
         "metadata": "{\"comment\":\"comment of the column\"}",
         "name": "comment",
         "type": "\"string\""
        }
       ],
       "type": "table"
      }
     },
     "output_type": "display_data"
    }
   ],
   "source": [
    "%sql \n",
    "DESCRIBE EXTENDED employees.employees"
   ]
  },
  {
   "cell_type": "code",
   "execution_count": 0,
   "metadata": {
    "application/vnd.databricks.v1+cell": {
     "cellMetadata": {},
     "inputWidgets": {},
     "nuid": "fae16fc1-3936-441c-aa9c-6ce2e2ccb262",
     "showTitle": false,
     "title": ""
    }
   },
   "outputs": [],
   "source": []
  }
 ],
 "metadata": {
  "application/vnd.databricks.v1+notebook": {
   "dashboards": [],
   "language": "python",
   "notebookMetadata": {
    "mostRecentlyExecutedCommandWithImplicitDF": {
     "commandId": 3056049412021803,
     "dataframes": [
      "_sqldf"
     ]
    },
    "pythonIndentUnit": 4
   },
   "notebookName": "Solutions",
   "notebookOrigID": 899385162476714,
   "widgets": {}
  }
 },
 "nbformat": 4,
 "nbformat_minor": 0
}
